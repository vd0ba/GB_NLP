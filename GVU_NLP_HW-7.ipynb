{
 "cells": [
  {
   "cell_type": "markdown",
   "id": "b77f7234-9cea-45eb-8aa4-0b8c24275330",
   "metadata": {},
   "source": [
    "## Практическое задание к уроку 7 по теме \"Сверточные нейронные сети для анализа текста\"."
   ]
  },
  {
   "cell_type": "markdown",
   "id": "bf1ba079-4615-44d2-ba2a-e7eec17f2737",
   "metadata": {},
   "source": [
    "Взять датасет отзывов за лето (из архива с материалами или предыдущего занятия)  \n",
    "Обучить conv сеть в двух вариантах:  \n",
    "1. Инициализировать Embedding предобученными векторами, взять к примеру с https://rusvectores.org/ru/.  \n",
    "2. Инициализировать слой Embedding по умолчанию (ну то есть ничего не делать с весами)   \n",
    "Сравнить две архитектуры с предобученными весами и когда Embedding обучается сразу со всей сетью, что получилось лучше."
   ]
  },
  {
   "cell_type": "markdown",
   "id": "c5b2a3bb-fa4f-43a8-939b-0adb3661cab4",
   "metadata": {},
   "source": [
    "Загрузим библиотеки и датасет:"
   ]
  },
  {
   "cell_type": "code",
   "execution_count": 1,
   "id": "16e7b67c-3718-44c7-900c-51215dc9514b",
   "metadata": {},
   "outputs": [],
   "source": [
    "%matplotlib inline\n",
    "\n",
    "from collections import Counter\n",
    "import matplotlib.pyplot as plt\n",
    "import numpy as np\n",
    "import pandas as pd\n",
    "from pymorphy2 import MorphAnalyzer\n",
    "from razdel import tokenize\n",
    "import re\n",
    "from sklearn.feature_extraction.text import TfidfVectorizer\n",
    "from sklearn.linear_model import LogisticRegression\n",
    "from sklearn.metrics import classification_report, roc_auc_score\n",
    "from sklearn.model_selection import train_test_split\n",
    "from sklearn.pipeline import make_pipeline\n",
    "from sklearn.preprocessing import MaxAbsScaler\n",
    "# from stop_words import get_stop_words\n",
    "from string import punctuation\n",
    "import torch\n",
    "from torch import nn\n",
    "from torchinfo import summary\n",
    "from tqdm import tqdm\n",
    "from transformers import AutoTokenizer, AutoModelForMaskedLM"
   ]
  },
  {
   "cell_type": "code",
   "execution_count": 2,
   "id": "708cf6b0-385e-4e2d-ab9d-47595d29da56",
   "metadata": {},
   "outputs": [
    {
     "name": "stdout",
     "output_type": "stream",
     "text": [
      "(20659, 3)\n"
     ]
    },
    {
     "data": {
      "text/html": [
       "<div>\n",
       "<style scoped>\n",
       "    .dataframe tbody tr th:only-of-type {\n",
       "        vertical-align: middle;\n",
       "    }\n",
       "\n",
       "    .dataframe tbody tr th {\n",
       "        vertical-align: top;\n",
       "    }\n",
       "\n",
       "    .dataframe thead th {\n",
       "        text-align: right;\n",
       "    }\n",
       "</style>\n",
       "<table border=\"1\" class=\"dataframe\">\n",
       "  <thead>\n",
       "    <tr style=\"text-align: right;\">\n",
       "      <th></th>\n",
       "      <th>Rating</th>\n",
       "      <th>Content</th>\n",
       "      <th>Date</th>\n",
       "    </tr>\n",
       "  </thead>\n",
       "  <tbody>\n",
       "    <tr>\n",
       "      <th>0</th>\n",
       "      <td>5</td>\n",
       "      <td>It just works!</td>\n",
       "      <td>2017-08-14</td>\n",
       "    </tr>\n",
       "    <tr>\n",
       "      <th>1</th>\n",
       "      <td>4</td>\n",
       "      <td>В целом удобноное приложение...из минусов хотя...</td>\n",
       "      <td>2017-08-14</td>\n",
       "    </tr>\n",
       "    <tr>\n",
       "      <th>2</th>\n",
       "      <td>5</td>\n",
       "      <td>Отлично все</td>\n",
       "      <td>2017-08-14</td>\n",
       "    </tr>\n",
       "    <tr>\n",
       "      <th>3</th>\n",
       "      <td>5</td>\n",
       "      <td>Стал зависать на 1% работы антивируса. Дальше ...</td>\n",
       "      <td>2017-08-14</td>\n",
       "    </tr>\n",
       "    <tr>\n",
       "      <th>4</th>\n",
       "      <td>5</td>\n",
       "      <td>Очень удобно, работает быстро.</td>\n",
       "      <td>2017-08-14</td>\n",
       "    </tr>\n",
       "  </tbody>\n",
       "</table>\n",
       "</div>"
      ],
      "text/plain": [
       "   Rating                                            Content        Date\n",
       "0       5                                     It just works!  2017-08-14\n",
       "1       4  В целом удобноное приложение...из минусов хотя...  2017-08-14\n",
       "2       5                                        Отлично все  2017-08-14\n",
       "3       5  Стал зависать на 1% работы антивируса. Дальше ...  2017-08-14\n",
       "4       5                     Очень удобно, работает быстро.  2017-08-14"
      ]
     },
     "execution_count": 2,
     "metadata": {},
     "output_type": "execute_result"
    }
   ],
   "source": [
    "df = pd.read_excel('data/отзывы за лето.xls')\n",
    "print(df.shape)\n",
    "df.head()"
   ]
  },
  {
   "cell_type": "markdown",
   "id": "1d1351ab-f9d4-4c6f-9f6b-27af7e212254",
   "metadata": {},
   "source": [
    "Это датасет отзывов пользователей на некое приложение. Пользователи  \n",
    "помимо текстового сообщения оставляют оценку в диапазоне от 1 до 5."
   ]
  },
  {
   "cell_type": "code",
   "execution_count": 3,
   "id": "c881e6d3-8096-4117-91aa-5b3278f4bfc5",
   "metadata": {},
   "outputs": [
    {
     "name": "stdout",
     "output_type": "stream",
     "text": [
      "<class 'pandas.core.frame.DataFrame'>\n",
      "RangeIndex: 20659 entries, 0 to 20658\n",
      "Data columns (total 3 columns):\n",
      " #   Column   Non-Null Count  Dtype \n",
      "---  ------   --------------  ----- \n",
      " 0   Rating   20659 non-null  int64 \n",
      " 1   Content  20656 non-null  object\n",
      " 2   Date     20659 non-null  object\n",
      "dtypes: int64(1), object(2)\n",
      "memory usage: 484.3+ KB\n"
     ]
    }
   ],
   "source": [
    "df.info()"
   ]
  },
  {
   "cell_type": "markdown",
   "id": "e1c6722f-dcd4-4faf-9225-3accaf04f27f",
   "metadata": {},
   "source": [
    "Видим, что некоторые значения отсутствуют, посмотрим на эти строки:"
   ]
  },
  {
   "cell_type": "code",
   "execution_count": 4,
   "id": "6ccbbfa2-fde4-48f1-9f83-58d3dcf38016",
   "metadata": {},
   "outputs": [
    {
     "data": {
      "text/html": [
       "<div>\n",
       "<style scoped>\n",
       "    .dataframe tbody tr th:only-of-type {\n",
       "        vertical-align: middle;\n",
       "    }\n",
       "\n",
       "    .dataframe tbody tr th {\n",
       "        vertical-align: top;\n",
       "    }\n",
       "\n",
       "    .dataframe thead th {\n",
       "        text-align: right;\n",
       "    }\n",
       "</style>\n",
       "<table border=\"1\" class=\"dataframe\">\n",
       "  <thead>\n",
       "    <tr style=\"text-align: right;\">\n",
       "      <th></th>\n",
       "      <th>Rating</th>\n",
       "      <th>Content</th>\n",
       "      <th>Date</th>\n",
       "    </tr>\n",
       "  </thead>\n",
       "  <tbody>\n",
       "    <tr>\n",
       "      <th>2587</th>\n",
       "      <td>5</td>\n",
       "      <td>NaN</td>\n",
       "      <td>2017-08-10</td>\n",
       "    </tr>\n",
       "    <tr>\n",
       "      <th>3533</th>\n",
       "      <td>5</td>\n",
       "      <td>NaN</td>\n",
       "      <td>2017-08-09</td>\n",
       "    </tr>\n",
       "    <tr>\n",
       "      <th>9161</th>\n",
       "      <td>4</td>\n",
       "      <td>NaN</td>\n",
       "      <td>2017-08-01</td>\n",
       "    </tr>\n",
       "  </tbody>\n",
       "</table>\n",
       "</div>"
      ],
      "text/plain": [
       "      Rating Content        Date\n",
       "2587       5     NaN  2017-08-10\n",
       "3533       5     NaN  2017-08-09\n",
       "9161       4     NaN  2017-08-01"
      ]
     },
     "execution_count": 4,
     "metadata": {},
     "output_type": "execute_result"
    }
   ],
   "source": [
    "df.loc[df['Content'].isna()]"
   ]
  },
  {
   "cell_type": "markdown",
   "id": "9f378153-ffb7-4292-9498-79cd08706cb4",
   "metadata": {},
   "source": [
    "Удалим их, так как отсутствует самый важный столбец:"
   ]
  },
  {
   "cell_type": "code",
   "execution_count": 5,
   "id": "6ae2b062-22f7-4fd7-b525-22e5a201fdd7",
   "metadata": {},
   "outputs": [],
   "source": [
    "df.dropna(inplace=True)"
   ]
  },
  {
   "cell_type": "markdown",
   "id": "82856ff7-8994-48bb-8afa-31330c7b3ce8",
   "metadata": {},
   "source": [
    "Некоторые значения в текстовом столбце по факту являются числами,  \n",
    "и токенайзеры \"ругаются\" на это. Сразу переведём все тексты в текстовый  \n",
    "формат:"
   ]
  },
  {
   "cell_type": "code",
   "execution_count": 6,
   "id": "7e1038d2-3366-49f4-a0a4-1d58fd6da25f",
   "metadata": {},
   "outputs": [],
   "source": [
    "df['Content'] = df['Content'].astype(str)"
   ]
  },
  {
   "cell_type": "markdown",
   "id": "787cd1d8-c882-4fd7-9dca-8c67d2ab873f",
   "metadata": {},
   "source": [
    "Для справки посмотрим на диапазон дат:"
   ]
  },
  {
   "cell_type": "code",
   "execution_count": 7,
   "id": "889dd559-d8c0-40f9-b8cf-746e7198aae2",
   "metadata": {},
   "outputs": [
    {
     "data": {
      "text/plain": [
       "('2017-06-01', '2017-08-14')"
      ]
     },
     "execution_count": 7,
     "metadata": {},
     "output_type": "execute_result"
    }
   ],
   "source": [
    "df['Date'].min(), df['Date'].max()"
   ]
  },
  {
   "cell_type": "markdown",
   "id": "c5af193a-6a36-4311-a41e-dbc6245c6785",
   "metadata": {},
   "source": [
    "В реальной задаче мы бы, скорее всего, использовали атрибут  \n",
    "дат, так как есть вероятность, что у приложения выходили версии,  \n",
    "что влияло на отзывы пользователей. Но в нашем задании это не цель,  \n",
    "мы будем работать исключительно по nlp-части, с текстовым атрибутом."
   ]
  },
  {
   "cell_type": "markdown",
   "id": "c64e46b3-9ad4-4145-871b-3ac6120bac54",
   "metadata": {},
   "source": [
    "Посмотрим на распределение оценок:"
   ]
  },
  {
   "cell_type": "code",
   "execution_count": 8,
   "id": "eccf5eca-c339-410d-bfdd-054ea4df9c36",
   "metadata": {},
   "outputs": [
    {
     "data": {
      "text/plain": [
       "5    14584\n",
       "1     2276\n",
       "4     2137\n",
       "3      911\n",
       "2      748\n",
       "Name: Rating, dtype: int64"
      ]
     },
     "execution_count": 8,
     "metadata": {},
     "output_type": "execute_result"
    }
   ],
   "source": [
    "df['Rating'].value_counts()"
   ]
  },
  {
   "cell_type": "markdown",
   "id": "8f014fef-eb95-4a0e-9eb7-45d3d8b4f72e",
   "metadata": {},
   "source": [
    "Данную задачу для удобства переведём в задачу бинарной  \n",
    "классификации, т.к. для нашего задания это не принципиально,  \n",
    "а также у нас слишком мало примеров для мультиклассовой классификации."
   ]
  },
  {
   "cell_type": "markdown",
   "id": "b25e05dd-3adc-4aaa-9f84-a0a37dd39f0c",
   "metadata": {},
   "source": [
    "Разберёмся, куда отнести отзывы с оценкой \"3\":"
   ]
  },
  {
   "cell_type": "code",
   "execution_count": 9,
   "id": "e08cb6bb-6fe2-4b7d-aa2f-23c310bfd4ec",
   "metadata": {},
   "outputs": [
    {
     "name": "stdout",
     "output_type": "stream",
     "text": [
      "При заходе дважды требует пароль.и на оплате электроэнергии виснет намертво на первом листе списка и висит загрузка вечно (\n",
      "При рабочем интернете приложение никак не может соединиться с сервером. Исправьте\n",
      "Медленно\n",
      "Почему список уведомлений доступен без регистрации и его невозможно очистить? Когда добавите платежи через приложение с помощью NFC? В приложении не видна переписка с банком.\n",
      "Сделайте возможность помечать все уведомления как прочитанные. Сейчас в списке уведомлений непонятно, какое из них прочитано, а какое нет (т.е. не прочитанные не выделены жирным шрифтом или еще как-то). Значок о непрочитанных уведомлениях висит над иконкой приложения и раздражает.\n",
      "Глючит на системе андроид. Вход в приложение осуществляется со второго раза. Приходит смс, что вход выполнен, но опять спрашивает пароль. Со второй попытки вход срабатывает. Делаю вывод, что это из-за двухсимочного телефона. На приложении IOS на ipad работает хорошо, но закрыть он-лайн счета в ipad невозможно.\n",
      "При наличии рут прав не работает должным образом. Ограничен функционал. Приходится лезть в систему,чтобы обойти этот МИНУС. отсутствует минус. Почему то при вводе пароля, запрашивает его по 2-3 раза. Периодически жрет батарею. В остальном - нормально.\n",
      "История плохо обновляется... Не все операции с деньгами показывает\n",
      "Приложение хорошее, устанавливала на 3-х разных телефонах,минус 2 звезды за то что не могу зайти в приложение на новом телефоне, пишит что не возможно зарегистрироваться, отключите мобильное приложение хотя бы на одном устройстве, как я могу отключить если все 3 телефона не работают.\n",
      "Приходится дважды вводить пароль.\n"
     ]
    }
   ],
   "source": [
    "for text in df.loc[df['Rating'] == 3].head(10)['Content']:\n",
    "    print(text)"
   ]
  },
  {
   "cell_type": "markdown",
   "id": "075633e9-00ac-4e4a-baad-c652dd8592f0",
   "metadata": {},
   "source": [
    "Это, субъективно, скорее, негативные отзывы, поэтому причислим  \n",
    "их к таковым. Также \"4\" и \"5\" будем считать позитивными, а \"1\" и \"2\" -  \n",
    "негативными:"
   ]
  },
  {
   "cell_type": "code",
   "execution_count": 10,
   "id": "805bb830-626d-458f-938a-def675723754",
   "metadata": {},
   "outputs": [],
   "source": [
    "df['is_negative'] = df['Rating'].apply(lambda x: 0 if x in (4, 5) else 1)"
   ]
  },
  {
   "cell_type": "code",
   "execution_count": 11,
   "id": "deb37655-f47f-4b0b-b49f-4d40d47a3b37",
   "metadata": {},
   "outputs": [
    {
     "data": {
      "text/html": [
       "<div>\n",
       "<style scoped>\n",
       "    .dataframe tbody tr th:only-of-type {\n",
       "        vertical-align: middle;\n",
       "    }\n",
       "\n",
       "    .dataframe tbody tr th {\n",
       "        vertical-align: top;\n",
       "    }\n",
       "\n",
       "    .dataframe thead th {\n",
       "        text-align: right;\n",
       "    }\n",
       "</style>\n",
       "<table border=\"1\" class=\"dataframe\">\n",
       "  <thead>\n",
       "    <tr style=\"text-align: right;\">\n",
       "      <th></th>\n",
       "      <th>Rating</th>\n",
       "      <th>Content</th>\n",
       "      <th>Date</th>\n",
       "      <th>is_negative</th>\n",
       "    </tr>\n",
       "  </thead>\n",
       "  <tbody>\n",
       "    <tr>\n",
       "      <th>20654</th>\n",
       "      <td>1</td>\n",
       "      <td>Ну и шляпа,с роот правами бесполезная прога,ра...</td>\n",
       "      <td>2017-06-01</td>\n",
       "      <td>1</td>\n",
       "    </tr>\n",
       "    <tr>\n",
       "      <th>20655</th>\n",
       "      <td>5</td>\n",
       "      <td>Ок</td>\n",
       "      <td>2017-06-01</td>\n",
       "      <td>0</td>\n",
       "    </tr>\n",
       "    <tr>\n",
       "      <th>20656</th>\n",
       "      <td>4</td>\n",
       "      <td>Доволен</td>\n",
       "      <td>2017-06-01</td>\n",
       "      <td>0</td>\n",
       "    </tr>\n",
       "    <tr>\n",
       "      <th>20657</th>\n",
       "      <td>1</td>\n",
       "      <td>Песопаснасть, рут ни нужын</td>\n",
       "      <td>2017-06-01</td>\n",
       "      <td>1</td>\n",
       "    </tr>\n",
       "    <tr>\n",
       "      <th>20658</th>\n",
       "      <td>5</td>\n",
       "      <td>Сбербанк бомбовая компания на сегодняшний день...</td>\n",
       "      <td>2017-06-01</td>\n",
       "      <td>0</td>\n",
       "    </tr>\n",
       "  </tbody>\n",
       "</table>\n",
       "</div>"
      ],
      "text/plain": [
       "       Rating                                            Content        Date  \\\n",
       "20654       1  Ну и шляпа,с роот правами бесполезная прога,ра...  2017-06-01   \n",
       "20655       5                                                 Ок  2017-06-01   \n",
       "20656       4                                            Доволен  2017-06-01   \n",
       "20657       1                         Песопаснасть, рут ни нужын  2017-06-01   \n",
       "20658       5  Сбербанк бомбовая компания на сегодняшний день...  2017-06-01   \n",
       "\n",
       "       is_negative  \n",
       "20654            1  \n",
       "20655            0  \n",
       "20656            0  \n",
       "20657            1  \n",
       "20658            0  "
      ]
     },
     "execution_count": 11,
     "metadata": {},
     "output_type": "execute_result"
    }
   ],
   "source": [
    "df.tail()"
   ]
  },
  {
   "cell_type": "markdown",
   "id": "a4e3c39f-cc2e-4a3c-bb6a-50da773f4d0e",
   "metadata": {},
   "source": [
    "Посмотрим на распределение получившихся классов:"
   ]
  },
  {
   "cell_type": "code",
   "execution_count": 12,
   "id": "26140ddf-5330-42e9-831a-d634faacd12f",
   "metadata": {},
   "outputs": [
    {
     "data": {
      "text/plain": [
       "0    0.809498\n",
       "1    0.190502\n",
       "Name: is_negative, dtype: float64"
      ]
     },
     "execution_count": 12,
     "metadata": {},
     "output_type": "execute_result"
    }
   ],
   "source": [
    "df['is_negative'].value_counts(normalize=True)"
   ]
  },
  {
   "cell_type": "markdown",
   "id": "449be250-0f01-44e0-b0ad-0373f770638b",
   "metadata": {},
   "source": [
    "Имеем довольно серьёзный дисбаланс классов, поэтому не  \n",
    "будем пользоваться метрикой accuracy. В процессе обучения  \n",
    "сетей будем мониторить метрику ROC-AUC, т.к. F1-score будет  \n",
    "нестабильна из-за вляния значения порога классификации.  \n",
    "При оценке результатов обучения будем выводить classification  \n",
    "report и ориентироваться на значения F1-score по классам."
   ]
  },
  {
   "cell_type": "code",
   "execution_count": 13,
   "id": "a326d782-6a98-40a2-9fe7-cfdb28f95599",
   "metadata": {},
   "outputs": [],
   "source": [
    "RANDOM_STATE = 29"
   ]
  },
  {
   "cell_type": "markdown",
   "id": "2bd72c32-7d66-463d-ae79-a42735d901f2",
   "metadata": {},
   "source": [
    "Сделаем разбивку на трейн/тест:"
   ]
  },
  {
   "cell_type": "code",
   "execution_count": 14,
   "id": "01409c17-3b9c-4eab-bc52-749b35044103",
   "metadata": {},
   "outputs": [],
   "source": [
    "X_train, X_val, y_train, y_val = train_test_split(df['Content'], df['is_negative'].values,\n",
    "                                                  test_size=0.2, random_state=RANDOM_STATE)"
   ]
  },
  {
   "cell_type": "markdown",
   "id": "93630dd8-48a8-4f04-91f8-db89c410d569",
   "metadata": {},
   "source": [
    "В качествке предобученных эмбеддингов будем использовать  \n",
    "эмбеддинги модели BERT. Загрузим её:"
   ]
  },
  {
   "cell_type": "code",
   "execution_count": 15,
   "id": "09b73c85-c210-4ce7-b459-5cb5a33eebb4",
   "metadata": {},
   "outputs": [
    {
     "name": "stderr",
     "output_type": "stream",
     "text": [
      "Some weights of the model checkpoint at bert-base-multilingual-uncased were not used when initializing BertForMaskedLM: ['cls.seq_relationship.weight', 'cls.seq_relationship.bias']\n",
      "- This IS expected if you are initializing BertForMaskedLM from the checkpoint of a model trained on another task or with another architecture (e.g. initializing a BertForSequenceClassification model from a BertForPreTraining model).\n",
      "- This IS NOT expected if you are initializing BertForMaskedLM from the checkpoint of a model that you expect to be exactly identical (initializing a BertForSequenceClassification model from a BertForSequenceClassification model).\n"
     ]
    }
   ],
   "source": [
    "model_name = 'bert-base-multilingual-uncased'\n",
    "model = AutoModelForMaskedLM.from_pretrained(model_name)\n",
    "tokenizer = AutoTokenizer.from_pretrained(model_name)"
   ]
  },
  {
   "cell_type": "markdown",
   "id": "a6532521-e9d8-4b43-87cf-f4262eff0f40",
   "metadata": {},
   "source": [
    "Для выбора длины последовательностей оценим распределение  \n",
    "длин по датасету:"
   ]
  },
  {
   "cell_type": "code",
   "execution_count": 16,
   "id": "895eece3-9dea-473e-a4df-718408176118",
   "metadata": {},
   "outputs": [
    {
     "data": {
      "image/png": "[encoded data removed]",
      "text/plain": [
       "<Figure size 400x300 with 1 Axes>"
      ]
     },
     "metadata": {},
     "output_type": "display_data"
    }
   ],
   "source": [
    "plt.figure(figsize=(4, 3))\n",
    "plt.hist(X_train.apply(lambda x: len(x.split())), bins=50);"
   ]
  },
  {
   "cell_type": "markdown",
   "id": "879decad-d5ff-47bf-ae07-9445a117de4d",
   "metadata": {},
   "source": [
    "Думаю, что 40 будет неплохим вариантом:"
   ]
  },
  {
   "cell_type": "code",
   "execution_count": 17,
   "id": "149f849e-1334-4e54-9ff0-9cf15931db76",
   "metadata": {},
   "outputs": [],
   "source": [
    "MAX_LEN = 40"
   ]
  },
  {
   "cell_type": "markdown",
   "id": "87a37bcb-6cf7-42b6-b7dc-490f22966552",
   "metadata": {},
   "source": [
    "Напишем датасет для подготовки даталоадеров. Для предобученных  \n",
    "эмбеддингов будем использовать соответствующий им токенайзер.  \n",
    "Для своей модели будем сами производить предобработку:"
   ]
  },
  {
   "cell_type": "code",
   "execution_count": 18,
   "id": "577be772-b58d-41f9-801b-635669df9bf2",
   "metadata": {},
   "outputs": [],
   "source": [
    "class ReviewsDataset(torch.utils.data.Dataset):\n",
    "    def __init__(self, texts, labels, pretrained=False):\n",
    "        \n",
    "        self.pretrained = pretrained\n",
    "        if self.pretrained:\n",
    "            self.texts = [tokenizer(text, padding='max_length', max_length=MAX_LEN,\n",
    "                                truncation=True, return_tensors='pt')\n",
    "                          for text in texts]\n",
    "        else:\n",
    "            self.texts = texts.values\n",
    "        self.labels = labels\n",
    "    \n",
    "    def __getitem__(self, index):\n",
    "        x = self.texts[index] if self.pretrained else torch.IntTensor(self.texts[index])\n",
    "        return x, self.labels[index]\n",
    "    \n",
    "    def __len__(self):\n",
    "        return len(self.texts)"
   ]
  },
  {
   "cell_type": "markdown",
   "id": "f411755d-66dc-43bd-810c-d8180b4b8d56",
   "metadata": {},
   "source": [
    "Инициализируем даталоадеры:"
   ]
  },
  {
   "cell_type": "code",
   "execution_count": 19,
   "id": "da561453-0c2e-48b6-a213-c226f8a191d2",
   "metadata": {},
   "outputs": [],
   "source": [
    "BATCH_SIZE = 128"
   ]
  },
  {
   "cell_type": "code",
   "execution_count": 20,
   "id": "2d24853f-23f4-444f-ab82-6725c9fb6bba",
   "metadata": {},
   "outputs": [],
   "source": [
    "torch.random.manual_seed(RANDOM_STATE)\n",
    "\n",
    "train_dataset = ReviewsDataset(X_train, y_train, pretrained=True)\n",
    "val_dataset = ReviewsDataset(X_val, y_val, pretrained=True)\n",
    "\n",
    "train_loader = torch.utils.data.DataLoader(train_dataset,\n",
    "                                           batch_size=BATCH_SIZE,\n",
    "                                           shuffle=True)\n",
    "\n",
    "val_loader = torch.utils.data.DataLoader(val_dataset,\n",
    "                                         batch_size=BATCH_SIZE,\n",
    "                                         shuffle=False)"
   ]
  },
  {
   "cell_type": "markdown",
   "id": "984cd0a8-f49b-4c80-8906-eb2aecfde645",
   "metadata": {},
   "source": [
    "Будем исползовать следующий слой модели BERT:"
   ]
  },
  {
   "cell_type": "code",
   "execution_count": 21,
   "id": "92fe0f07-207b-4e8f-ae65-e117bcf0445f",
   "metadata": {},
   "outputs": [
    {
     "data": {
      "text/plain": [
       "BertEmbeddings(\n",
       "  (word_embeddings): Embedding(105879, 768, padding_idx=0)\n",
       "  (position_embeddings): Embedding(512, 768)\n",
       "  (token_type_embeddings): Embedding(2, 768)\n",
       "  (LayerNorm): LayerNorm((768,), eps=1e-12, elementwise_affine=True)\n",
       "  (dropout): Dropout(p=0.1, inplace=False)\n",
       ")"
      ]
     },
     "execution_count": 21,
     "metadata": {},
     "output_type": "execute_result"
    }
   ],
   "source": [
    "model.bert.embeddings"
   ]
  },
  {
   "cell_type": "markdown",
   "id": "a207f49f-98f3-41a2-a268-f54b489ef294",
   "metadata": {},
   "source": [
    "Напишем класс нашей нейросети. Немного громоздко, но поддерживает  \n",
    "оба варианта: с предобученными эмбеддингами и нет, чтобы не писать  \n",
    "потом второй раз. Сеть будет довольно простая, с одним свёрточным  \n",
    "слоем, глобальным макспулингом и одним скрытым полносвязным слоем."
   ]
  },
  {
   "cell_type": "code",
   "execution_count": 22,
   "id": "ec1c859f-0460-4115-b462-c5a58d04ff71",
   "metadata": {},
   "outputs": [],
   "source": [
    "class ConvModel(nn.Module):\n",
    "    def __init__(self, conv_out=128, pretrained=False, embedding_dim=256, vocab_size=None):\n",
    "        if not pretrained:\n",
    "            assert vocab_size is not None, 'Vocabulary size should be given when using non-pretrained model'\n",
    "        super().__init__()\n",
    "        self.pretrained = pretrained\n",
    "        self.embedding_dim = 768 if self.pretrained else embedding_dim\n",
    "        self.embedding = model.bert.embeddings if self.pretrained else \\\n",
    "                         nn.Embedding(vocab_size, self.embedding_dim, padding_idx=0)\n",
    "        self.conv = nn.Sequential(nn.Conv1d(self.embedding_dim, out_channels=conv_out, kernel_size=3),\n",
    "                                  nn.MaxPool1d(MAX_LEN - 2),\n",
    "                                  nn.ReLU())\n",
    "        self.fc1 = nn.Sequential(nn.Linear(conv_out, conv_out // 4),\n",
    "                                 nn.ReLU())\n",
    "        self.dp = nn.Dropout(0.5)\n",
    "        self.fc2 = nn.Linear(conv_out // 4, 1)\n",
    "        \n",
    "    def forward(self, x):\n",
    "        x = torch.squeeze(x['input_ids']) if self.pretrained else x\n",
    "        x = self.embedding(x)\n",
    "        x = x.permute(0, 2, 1)\n",
    "        x = self.conv(x)\n",
    "        x = self.fc1(torch.squeeze(x))\n",
    "        x = self.dp(x)\n",
    "        x = self.fc2(x)\n",
    "        x = torch.sigmoid(x)\n",
    "        return x\n",
    "    \n",
    "    def predict(self, x):\n",
    "        if self.pretrained:\n",
    "            x = tokenizer(x, padding='max_length', max_length=MAX_LEN,\n",
    "                          truncation=True, return_tensors='pt').to(device)\n",
    "            x = self.forward(x)\n",
    "        \n",
    "        else:\n",
    "            x = torch.Tensor([self.forward(torch.IntTensor(line)[np.newaxis, :].to(device)) for line in x])\n",
    "        \n",
    "        return torch.squeeze((x >= 0.5) * 1)"
   ]
  },
  {
   "cell_type": "code",
   "execution_count": 23,
   "id": "290dbe89-b25d-4344-867b-c5432e020396",
   "metadata": {},
   "outputs": [
    {
     "data": {
      "text/plain": [
       "'cuda'"
      ]
     },
     "execution_count": 23,
     "metadata": {},
     "output_type": "execute_result"
    }
   ],
   "source": [
    "device = 'cuda' if torch.cuda.is_available() else 'cpu'\n",
    "device"
   ]
  },
  {
   "cell_type": "markdown",
   "id": "81398b5e-9650-42eb-9a6f-db01f45a3f52",
   "metadata": {},
   "source": [
    "Посмотрим на число параметров сети, \"заморозим\" веса  \n",
    "предобученных эмбеддингов:"
   ]
  },
  {
   "cell_type": "code",
   "execution_count": 24,
   "id": "ff82599d-cb9f-4cef-acae-0e2ea5ba57dc",
   "metadata": {},
   "outputs": [],
   "source": [
    "net = ConvModel(pretrained=True)\n",
    "for param in net.embedding.parameters():\n",
    "    param.requires_grad = False"
   ]
  },
  {
   "cell_type": "code",
   "execution_count": 25,
   "id": "e7dea825-332d-4230-ab31-8611de822d90",
   "metadata": {},
   "outputs": [
    {
     "data": {
      "text/plain": [
       "=================================================================\n",
       "Layer (type:depth-idx)                   Param #\n",
       "=================================================================\n",
       "ConvModel                                --\n",
       "├─BertEmbeddings: 1-1                    --\n",
       "│    └─Embedding: 2-1                    (81,315,072)\n",
       "│    └─Embedding: 2-2                    (393,216)\n",
       "│    └─Embedding: 2-3                    (1,536)\n",
       "│    └─LayerNorm: 2-4                    (1,536)\n",
       "│    └─Dropout: 2-5                      --\n",
       "├─Sequential: 1-2                        --\n",
       "│    └─Conv1d: 2-6                       295,040\n",
       "│    └─MaxPool1d: 2-7                    --\n",
       "│    └─ReLU: 2-8                         --\n",
       "├─Sequential: 1-3                        --\n",
       "│    └─Linear: 2-9                       4,128\n",
       "│    └─ReLU: 2-10                        --\n",
       "├─Dropout: 1-4                           --\n",
       "├─Linear: 1-5                            33\n",
       "=================================================================\n",
       "Total params: 82,010,561\n",
       "Trainable params: 299,201\n",
       "Non-trainable params: 81,711,360\n",
       "================================================================="
      ]
     },
     "execution_count": 25,
     "metadata": {},
     "output_type": "execute_result"
    }
   ],
   "source": [
    "summary(net)"
   ]
  },
  {
   "cell_type": "markdown",
   "id": "9d628552-959a-4ff8-8db1-22c09ef5aa8b",
   "metadata": {},
   "source": [
    "Обучить нужно только 300 тыс. параметров. Напишем функцию для  \n",
    "обучения сети:"
   ]
  },
  {
   "cell_type": "code",
   "execution_count": 26,
   "id": "a720a067-c99b-4afe-9338-6ce5935bc5aa",
   "metadata": {},
   "outputs": [],
   "source": [
    "def train_nn(epochs=5, conv_out=128, pretrained=False, vocab_size=None, return_model=False):\n",
    "    \n",
    "    torch.random.manual_seed(RANDOM_STATE)\n",
    "    torch.backends.cudnn.deterministic = True\n",
    "    \n",
    "    net = ConvModel(conv_out=conv_out, pretrained=pretrained, vocab_size=vocab_size).to(device)\n",
    "    if pretrained:\n",
    "        for param in net.embedding.parameters():\n",
    "            param.requires_grad = False\n",
    "\n",
    "    optimizer = torch.optim.Adam(net.parameters(), lr=1e-4)\n",
    "    criterion = nn.BCELoss()\n",
    "\n",
    "    for epoch in range(epochs):\n",
    "        train_losses = np.array([])\n",
    "        test_losses = np.array([])\n",
    "        train_metrics = np.array([])\n",
    "        test_metrics = np.array([])\n",
    "\n",
    "        for i, (inputs, labels) in enumerate(train_loader):\n",
    "            net.train()\n",
    "            inputs, labels = inputs.to(device), labels.to(device)\n",
    "\n",
    "            optimizer.zero_grad()\n",
    "            outputs = net(inputs)\n",
    "            \n",
    "            loss = criterion(outputs, labels.float().view(-1, 1))\n",
    "            loss.backward()\n",
    "            optimizer.step()\n",
    "\n",
    "            train_losses = np.append(train_losses, loss.item())\n",
    "\n",
    "            net.eval()\n",
    "            outputs = net(inputs)\n",
    "            try:\n",
    "                train_metrics = np.append(train_metrics, roc_auc_score(labels.cpu().detach().numpy(), \n",
    "                                                                       outputs.cpu().detach().numpy(), average='weighted'))\n",
    "            except ValueError:\n",
    "                pass\n",
    "\n",
    "        print(f'Epoch [{epoch + 1}/{epochs}]. ' \\\n",
    "              f'Loss: {train_losses.mean():.3f}. ' \\\n",
    "              f'ROC-AUC: {train_metrics.mean():.3f}', end='. ')\n",
    "\n",
    "\n",
    "        with torch.no_grad():\n",
    "            for i, (inputs, labels) in enumerate(val_loader):\n",
    "\n",
    "                inputs, labels = inputs.to(device), labels.to(device)\n",
    "                outputs = net(inputs)\n",
    "\n",
    "                loss = criterion(outputs, labels.float().view(-1, 1))\n",
    "                test_losses = np.append(test_losses, loss.item())\n",
    "                try:\n",
    "                    test_metrics = np.append(test_metrics, roc_auc_score(labels.cpu().detach().numpy(), \n",
    "                                                                         outputs.cpu().detach().numpy(), average='weighted'))\n",
    "                except ValueError:\n",
    "                    pass\n",
    "\n",
    "        print(f'Test loss: {test_losses.mean():.3f}. ROC-AUC: {test_metrics.mean():.3f}')\n",
    "\n",
    "    print('Training is finished!')\n",
    "    if return_model:\n",
    "        return net"
   ]
  },
  {
   "cell_type": "code",
   "execution_count": 27,
   "id": "f43ae0e1-0411-4084-b266-dc6e48b3210a",
   "metadata": {},
   "outputs": [
    {
     "name": "stdout",
     "output_type": "stream",
     "text": [
      "Epoch [1/15]. Loss: 0.420. ROC-AUC: 0.900. Test loss: 0.302. ROC-AUC: 0.923\n",
      "Epoch [2/15]. Loss: 0.284. ROC-AUC: 0.937. Test loss: 0.246. ROC-AUC: 0.939\n",
      "Epoch [3/15]. Loss: 0.250. ROC-AUC: 0.949. Test loss: 0.232. ROC-AUC: 0.943\n",
      "Epoch [4/15]. Loss: 0.233. ROC-AUC: 0.955. Test loss: 0.224. ROC-AUC: 0.947\n",
      "Epoch [5/15]. Loss: 0.220. ROC-AUC: 0.959. Test loss: 0.220. ROC-AUC: 0.948\n",
      "Epoch [6/15]. Loss: 0.207. ROC-AUC: 0.964. Test loss: 0.216. ROC-AUC: 0.950\n",
      "Epoch [7/15]. Loss: 0.201. ROC-AUC: 0.967. Test loss: 0.213. ROC-AUC: 0.951\n",
      "Epoch [8/15]. Loss: 0.191. ROC-AUC: 0.970. Test loss: 0.214. ROC-AUC: 0.952\n",
      "Epoch [9/15]. Loss: 0.181. ROC-AUC: 0.973. Test loss: 0.208. ROC-AUC: 0.954\n",
      "Epoch [10/15]. Loss: 0.174. ROC-AUC: 0.976. Test loss: 0.207. ROC-AUC: 0.954\n",
      "Epoch [11/15]. Loss: 0.167. ROC-AUC: 0.979. Test loss: 0.208. ROC-AUC: 0.954\n",
      "Epoch [12/15]. Loss: 0.159. ROC-AUC: 0.981. Test loss: 0.205. ROC-AUC: 0.954\n",
      "Epoch [13/15]. Loss: 0.152. ROC-AUC: 0.984. Test loss: 0.207. ROC-AUC: 0.955\n",
      "Epoch [14/15]. Loss: 0.142. ROC-AUC: 0.986. Test loss: 0.207. ROC-AUC: 0.955\n",
      "Epoch [15/15]. Loss: 0.134. ROC-AUC: 0.987. Test loss: 0.213. ROC-AUC: 0.955\n",
      "Training is finished!\n"
     ]
    }
   ],
   "source": [
    "net = train_nn(epochs=15, pretrained=True, return_model=True)"
   ]
  },
  {
   "cell_type": "markdown",
   "id": "bb5bc738-4a11-4db3-bd6f-3be879797b1b",
   "metadata": {},
   "source": [
    "Сделаем предсказание:"
   ]
  },
  {
   "cell_type": "code",
   "execution_count": 28,
   "id": "8e883e6f-ae05-4a2c-87b2-7397c782b78e",
   "metadata": {},
   "outputs": [],
   "source": [
    "pred = net.predict(X_val.tolist())"
   ]
  },
  {
   "cell_type": "markdown",
   "id": "ebfea5cd-2fde-42f6-9b98-f2505949be28",
   "metadata": {},
   "source": [
    "Напишем функцию для извлечения значений метрик из  \n",
    "classification report'а:"
   ]
  },
  {
   "cell_type": "code",
   "execution_count": 29,
   "id": "9cc442dc-51ac-4bfb-9620-4deafc227010",
   "metadata": {},
   "outputs": [],
   "source": [
    "def get_class_report(y_true, y_pred):\n",
    "    print(classification_report(y_true, y_pred))\n",
    "    report = classification_report(y_true, y_pred, output_dict=True)\n",
    "    f1_0 = round(report['0']['f1-score'], 3)\n",
    "    f1_1 = round(report['1']['f1-score'], 3)\n",
    "    f1_macro = round(report['macro avg']['f1-score'], 3)\n",
    "    return f1_0, f1_1, f1_macro"
   ]
  },
  {
   "cell_type": "markdown",
   "id": "8ed50582-b780-49f3-bbf0-2d1e6473ff39",
   "metadata": {},
   "source": [
    "Начинам собирать метрики для последующего сведения в таблицу:"
   ]
  },
  {
   "cell_type": "code",
   "execution_count": 30,
   "id": "856a6bda-6c06-4ee7-9fd4-0c2209684a8d",
   "metadata": {},
   "outputs": [
    {
     "name": "stdout",
     "output_type": "stream",
     "text": [
      "              precision    recall  f1-score   support\n",
      "\n",
      "           0       0.94      0.95      0.95      3310\n",
      "           1       0.80      0.75      0.77       822\n",
      "\n",
      "    accuracy                           0.91      4132\n",
      "   macro avg       0.87      0.85      0.86      4132\n",
      "weighted avg       0.91      0.91      0.91      4132\n",
      "\n"
     ]
    }
   ],
   "source": [
    "names = ['Pretrained embeddings']\n",
    "pretrained_scores = get_class_report(y_val, pred.cpu())"
   ]
  },
  {
   "cell_type": "markdown",
   "id": "f8e7d69e-4e6d-4dd0-92d9-68ffe230b2f3",
   "metadata": {},
   "source": [
    "Обучим в качестве бейзлайна модель логистической регрессии  \n",
    "с tfidf векторайзером. Просто чтобы оценить, какой результат  \n",
    "покажет модель, которая не требует практически никаких трудовых  \n",
    "затрат:"
   ]
  },
  {
   "cell_type": "code",
   "execution_count": 31,
   "id": "2cd2555b-c1e1-4343-9e8e-7465bbab574d",
   "metadata": {},
   "outputs": [],
   "source": [
    "vectorizer = TfidfVectorizer()\n",
    "scaler = MaxAbsScaler()\n",
    "classifier = LogisticRegression()\n",
    "\n",
    "lr_model = make_pipeline(vectorizer, scaler, classifier)"
   ]
  },
  {
   "cell_type": "code",
   "execution_count": 32,
   "id": "544507d8-bc35-4c1f-a05e-427125196e10",
   "metadata": {},
   "outputs": [],
   "source": [
    "lr_model.fit(X_train, y_train);"
   ]
  },
  {
   "cell_type": "code",
   "execution_count": 33,
   "id": "d4866270-b5b2-4754-ac86-b3d2d0b2f74c",
   "metadata": {},
   "outputs": [],
   "source": [
    "y_score = lr_model.predict_proba(X_val)[:, 1]\n",
    "y_pred = lr_model.predict(X_val)"
   ]
  },
  {
   "cell_type": "code",
   "execution_count": 34,
   "id": "933373f1-4a53-41ec-adcc-12b6a33a589c",
   "metadata": {},
   "outputs": [
    {
     "data": {
      "text/plain": [
       "0.9519729346300012"
      ]
     },
     "execution_count": 34,
     "metadata": {},
     "output_type": "execute_result"
    }
   ],
   "source": [
    "roc_auc_score(y_val, y_score, average='weighted')"
   ]
  },
  {
   "cell_type": "code",
   "execution_count": 35,
   "id": "88a35b73-aee0-4635-b2f1-b05b05a82045",
   "metadata": {},
   "outputs": [
    {
     "name": "stdout",
     "output_type": "stream",
     "text": [
      "              precision    recall  f1-score   support\n",
      "\n",
      "           0       0.93      0.95      0.94      3310\n",
      "           1       0.77      0.71      0.74       822\n",
      "\n",
      "    accuracy                           0.90      4132\n",
      "   macro avg       0.85      0.83      0.84      4132\n",
      "weighted avg       0.90      0.90      0.90      4132\n",
      "\n"
     ]
    }
   ],
   "source": [
    "names.append('Tfidf + LR Baseline')\n",
    "baseline = get_class_report(y_val, y_pred)"
   ]
  },
  {
   "cell_type": "markdown",
   "id": "66958883-c4a3-44ac-acd4-682a9580004f",
   "metadata": {},
   "source": [
    "Теперь будем обучать нашу модель с обучающимися  \n",
    "эмбеддингами. Будем проводить фильтрацию пунктуации,  \n",
    "токенизацию с помощью библиотеки razdel, а также  \n",
    "лемматизацию с помощью библиотеки pymorphy2.  \n",
    "Стопслова убирать не будем, так как их использование  \n",
    "приводило к тому, что некоторые отзывы оказывались пустыми."
   ]
  },
  {
   "cell_type": "code",
   "execution_count": 36,
   "id": "8b1eabdb-0c4f-4ebb-8c44-9ad192d9bc49",
   "metadata": {},
   "outputs": [],
   "source": [
    "lemmatizer = MorphAnalyzer()\n",
    "# sw = get_stop_words('ru')"
   ]
  },
  {
   "cell_type": "code",
   "execution_count": 37,
   "id": "8afcd510-9e50-4b48-af83-93d0e6d4ec78",
   "metadata": {},
   "outputs": [],
   "source": [
    "def preprocess_text(text):\n",
    "    text = re.sub(f'[{punctuation}]', ' ', text)\n",
    "    text = text.lower()\n",
    "    text = re.sub('не\\s+', 'не', text)\n",
    "    text = tokenize(text)\n",
    "    text = ' '.join(lemmatizer.parse(token.text)[0].normal_form for token in text)\n",
    "    # text = ' '.join(token for token in text if token not in sw)\n",
    "    return text"
   ]
  },
  {
   "cell_type": "code",
   "execution_count": 38,
   "id": "9bc6f973-843c-4052-a806-bfc4b86896cc",
   "metadata": {},
   "outputs": [
    {
     "name": "stderr",
     "output_type": "stream",
     "text": [
      "100%|████████████████████████████████████| 16524/16524 [00:16<00:00, 984.30it/s]\n",
      "100%|██████████████████████████████████████| 4132/4132 [00:04<00:00, 975.27it/s]\n"
     ]
    }
   ],
   "source": [
    "tqdm.pandas()\n",
    "\n",
    "X_train_prepared = X_train.progress_apply(preprocess_text)\n",
    "X_val_prepared = X_val.progress_apply(preprocess_text)"
   ]
  },
  {
   "cell_type": "code",
   "execution_count": 39,
   "id": "4522bb06-0f33-40ca-a759-517c63185703",
   "metadata": {},
   "outputs": [
    {
     "data": {
      "text/plain": [
       "18935                                               крутяк\n",
       "10583                                                класс\n",
       "2182                                   пока всё устраивать\n",
       "4352                                  всё работать отлично\n",
       "17312                                                супер\n",
       "                               ...                        \n",
       "10604                                  отличный приложение\n",
       "864                                            отлично всё\n",
       "808      на андроид 7 перестать работать писать что сет...\n",
       "10752                                       всё устраивать\n",
       "6382     позорище такой кантор а прога создать путевой ...\n",
       "Name: Content, Length: 16524, dtype: object"
      ]
     },
     "execution_count": 39,
     "metadata": {},
     "output_type": "execute_result"
    }
   ],
   "source": [
    "X_train_prepared"
   ]
  },
  {
   "cell_type": "markdown",
   "id": "b36727c3-dc4b-43cd-a155-be55e79e3d2b",
   "metadata": {},
   "source": [
    "Посмотрим теперь на длину текстов:"
   ]
  },
  {
   "cell_type": "code",
   "execution_count": 40,
   "id": "595b0840-04be-4634-8926-f2a9ee868603",
   "metadata": {},
   "outputs": [
    {
     "data": {
      "image/png": "[encoded data removed]",
      "text/plain": [
       "<Figure size 400x300 with 1 Axes>"
      ]
     },
     "metadata": {},
     "output_type": "display_data"
    }
   ],
   "source": [
    "plt.figure(figsize=(4, 3))\n",
    "plt.hist(X_train_prepared.apply(lambda x: len(x.split())), bins=50);"
   ]
  },
  {
   "cell_type": "markdown",
   "id": "0135cffa-229d-4db8-b730-38effca4c988",
   "metadata": {},
   "source": [
    "Значение максимальной длины 40 здесь также хорошо подходит."
   ]
  },
  {
   "cell_type": "markdown",
   "id": "79d3c100-8a5d-4cad-9d19-bec3c9048c0a",
   "metadata": {},
   "source": [
    "Сгенерируем словарь:"
   ]
  },
  {
   "cell_type": "code",
   "execution_count": 41,
   "id": "01872df5-d123-48a3-a2da-360f6650a4ea",
   "metadata": {},
   "outputs": [],
   "source": [
    "corpus = ' '.join(X_train_prepared)"
   ]
  },
  {
   "cell_type": "code",
   "execution_count": 42,
   "id": "bf1d86ec-c075-49ba-bf1f-a567e5e2a9cc",
   "metadata": {},
   "outputs": [],
   "source": [
    "dist = Counter(corpus.split())"
   ]
  },
  {
   "cell_type": "code",
   "execution_count": 43,
   "id": "81995d40-32e5-4fda-bf11-67271467191f",
   "metadata": {},
   "outputs": [],
   "source": [
    "vocabulary = {w: i for i, w in dict(enumerate(dist.keys(), 1)).items()}"
   ]
  },
  {
   "cell_type": "code",
   "execution_count": 44,
   "id": "26969dd8-86aa-42d4-a30b-204f992f35af",
   "metadata": {},
   "outputs": [
    {
     "data": {
      "text/plain": [
       "8766"
      ]
     },
     "execution_count": 44,
     "metadata": {},
     "output_type": "execute_result"
    }
   ],
   "source": [
    "len(vocabulary)"
   ]
  },
  {
   "cell_type": "markdown",
   "id": "344a5077-6cf1-42e1-804e-355a983fe8ef",
   "metadata": {},
   "source": [
    "Довольно небольшая длина словаря, не будем её урезать."
   ]
  },
  {
   "cell_type": "code",
   "execution_count": 45,
   "id": "fcf4eb37-f6dd-41e4-be8c-cffa129c6856",
   "metadata": {},
   "outputs": [],
   "source": [
    "VOCAB_SIZE = len(vocabulary) + 1"
   ]
  },
  {
   "cell_type": "markdown",
   "id": "a0b48bc4-ecb6-4a72-acb4-189ed254c4b3",
   "metadata": {},
   "source": [
    "Переведём наши тексты в наборы индексов, обрежем или  \n",
    "добавим паддинг, где необходимо:"
   ]
  },
  {
   "cell_type": "code",
   "execution_count": 46,
   "id": "fcbeccad-2998-4f24-9e95-9d295b9b508f",
   "metadata": {},
   "outputs": [],
   "source": [
    "def text_to_seq(text):\n",
    "    seq = []\n",
    "    for token in text.split():\n",
    "        if token in vocabulary:\n",
    "            seq.append(vocabulary[token])\n",
    "    padding = [0] * (MAX_LEN - len(seq))\n",
    "    return seq[:MAX_LEN] + padding"
   ]
  },
  {
   "cell_type": "code",
   "execution_count": 47,
   "id": "597c6ec4-f021-40fa-86fe-e999aeebb5fb",
   "metadata": {},
   "outputs": [],
   "source": [
    "X_train_padded = X_train_prepared.apply(text_to_seq)\n",
    "X_val_padded = X_val_prepared.apply(text_to_seq)"
   ]
  },
  {
   "cell_type": "code",
   "execution_count": 48,
   "id": "fd334d0b-3883-4a17-a064-32a570f87140",
   "metadata": {},
   "outputs": [
    {
     "data": {
      "text/plain": [
       "18216    [1434, 13, 9, 1434, 0, 0, 0, 0, 0, 0, 0, 0, 0,...\n",
       "10234    [16, 17, 1586, 13, 0, 0, 0, 0, 0, 0, 0, 0, 0, ...\n",
       "12434    [13, 8, 152, 0, 0, 0, 0, 0, 0, 0, 0, 0, 0, 0, ...\n",
       "16318    [1221, 882, 285, 45, 4, 25, 6, 93, 2221, 0, 0,...\n",
       "15765    [141, 0, 0, 0, 0, 0, 0, 0, 0, 0, 0, 0, 0, 0, 0...\n",
       "Name: Content, dtype: object"
      ]
     },
     "execution_count": 48,
     "metadata": {},
     "output_type": "execute_result"
    }
   ],
   "source": [
    "X_train_padded.sample(5)"
   ]
  },
  {
   "cell_type": "markdown",
   "id": "dd603086-0926-48b2-9018-129d646294b8",
   "metadata": {},
   "source": [
    "Соберём даталоадеры для обработанных данных:"
   ]
  },
  {
   "cell_type": "code",
   "execution_count": 49,
   "id": "d04eac44-34ba-4792-af53-c583a63d0512",
   "metadata": {},
   "outputs": [],
   "source": [
    "torch.random.manual_seed(RANDOM_STATE)\n",
    "\n",
    "train_dataset = ReviewsDataset(X_train_padded, y_train, pretrained=False)\n",
    "val_dataset = ReviewsDataset(X_val_padded, y_val, pretrained=False)\n",
    "\n",
    "train_loader = torch.utils.data.DataLoader(train_dataset,\n",
    "                                           batch_size=BATCH_SIZE,\n",
    "                                           shuffle=True)\n",
    "\n",
    "val_loader = torch.utils.data.DataLoader(val_dataset,\n",
    "                                         batch_size=BATCH_SIZE,\n",
    "                                         shuffle=False)"
   ]
  },
  {
   "cell_type": "markdown",
   "id": "e39063f2-ae5c-4e8b-baac-9b21f56a21a1",
   "metadata": {},
   "source": [
    "Посмотрим на число параметров:"
   ]
  },
  {
   "cell_type": "code",
   "execution_count": 50,
   "id": "24ebe740-95f6-483c-a154-e67df053788d",
   "metadata": {},
   "outputs": [],
   "source": [
    "net = ConvModel(vocab_size=VOCAB_SIZE)"
   ]
  },
  {
   "cell_type": "code",
   "execution_count": 51,
   "id": "291a8f3e-c6ad-462d-b337-23440f22ba4f",
   "metadata": {},
   "outputs": [
    {
     "data": {
      "text/plain": [
       "=================================================================\n",
       "Layer (type:depth-idx)                   Param #\n",
       "=================================================================\n",
       "ConvModel                                --\n",
       "├─Embedding: 1-1                         2,244,352\n",
       "├─Sequential: 1-2                        --\n",
       "│    └─Conv1d: 2-1                       98,432\n",
       "│    └─MaxPool1d: 2-2                    --\n",
       "│    └─ReLU: 2-3                         --\n",
       "├─Sequential: 1-3                        --\n",
       "│    └─Linear: 2-4                       4,128\n",
       "│    └─ReLU: 2-5                         --\n",
       "├─Dropout: 1-4                           --\n",
       "├─Linear: 1-5                            33\n",
       "=================================================================\n",
       "Total params: 2,346,945\n",
       "Trainable params: 2,346,945\n",
       "Non-trainable params: 0\n",
       "================================================================="
      ]
     },
     "execution_count": 51,
     "metadata": {},
     "output_type": "execute_result"
    }
   ],
   "source": [
    "summary(net)"
   ]
  },
  {
   "cell_type": "markdown",
   "id": "a7fecbac-234d-4ee8-8c87-d8bc37f59e32",
   "metadata": {},
   "source": [
    "Обучим модель:"
   ]
  },
  {
   "cell_type": "code",
   "execution_count": 52,
   "id": "8012235c-09e3-4036-a84a-0aa03215c364",
   "metadata": {},
   "outputs": [
    {
     "name": "stdout",
     "output_type": "stream",
     "text": [
      "Epoch [1/15]. Loss: 0.563. ROC-AUC: 0.561. Test loss: 0.457. ROC-AUC: 0.732\n",
      "Epoch [2/15]. Loss: 0.393. ROC-AUC: 0.853. Test loss: 0.347. ROC-AUC: 0.879\n",
      "Epoch [3/15]. Loss: 0.314. ROC-AUC: 0.919. Test loss: 0.297. ROC-AUC: 0.915\n",
      "Epoch [4/15]. Loss: 0.270. ROC-AUC: 0.942. Test loss: 0.273. ROC-AUC: 0.924\n",
      "Epoch [5/15]. Loss: 0.242. ROC-AUC: 0.952. Test loss: 0.258. ROC-AUC: 0.932\n",
      "Epoch [6/15]. Loss: 0.223. ROC-AUC: 0.960. Test loss: 0.250. ROC-AUC: 0.935\n",
      "Epoch [7/15]. Loss: 0.207. ROC-AUC: 0.965. Test loss: 0.244. ROC-AUC: 0.937\n",
      "Epoch [8/15]. Loss: 0.193. ROC-AUC: 0.970. Test loss: 0.242. ROC-AUC: 0.939\n",
      "Epoch [9/15]. Loss: 0.180. ROC-AUC: 0.974. Test loss: 0.240. ROC-AUC: 0.939\n",
      "Epoch [10/15]. Loss: 0.169. ROC-AUC: 0.978. Test loss: 0.236. ROC-AUC: 0.941\n",
      "Epoch [11/15]. Loss: 0.156. ROC-AUC: 0.981. Test loss: 0.240. ROC-AUC: 0.941\n",
      "Epoch [12/15]. Loss: 0.146. ROC-AUC: 0.984. Test loss: 0.239. ROC-AUC: 0.942\n",
      "Epoch [13/15]. Loss: 0.134. ROC-AUC: 0.986. Test loss: 0.239. ROC-AUC: 0.943\n",
      "Epoch [14/15]. Loss: 0.124. ROC-AUC: 0.989. Test loss: 0.242. ROC-AUC: 0.943\n",
      "Epoch [15/15]. Loss: 0.113. ROC-AUC: 0.990. Test loss: 0.240. ROC-AUC: 0.944\n",
      "Training is finished!\n"
     ]
    }
   ],
   "source": [
    "net = train_nn(epochs=15, vocab_size=VOCAB_SIZE, return_model=True)"
   ]
  },
  {
   "cell_type": "code",
   "execution_count": 53,
   "id": "ea1f2687-7389-4636-8163-7f78bfb671a6",
   "metadata": {},
   "outputs": [],
   "source": [
    "pred = net.predict(X_val_padded)"
   ]
  },
  {
   "cell_type": "code",
   "execution_count": 54,
   "id": "5825b907-cfb5-4d15-852e-f99316d07342",
   "metadata": {},
   "outputs": [
    {
     "name": "stdout",
     "output_type": "stream",
     "text": [
      "              precision    recall  f1-score   support\n",
      "\n",
      "           0       0.94      0.94      0.94      3310\n",
      "           1       0.76      0.74      0.75       822\n",
      "\n",
      "    accuracy                           0.90      4132\n",
      "   macro avg       0.85      0.84      0.84      4132\n",
      "weighted avg       0.90      0.90      0.90      4132\n",
      "\n"
     ]
    }
   ],
   "source": [
    "names.append('Non-pretrained embeddings')\n",
    "nonpretrained = get_class_report(y_val, pred.cpu())"
   ]
  },
  {
   "cell_type": "markdown",
   "id": "f36142e7-b332-492d-a68f-4da4333ff5c9",
   "metadata": {},
   "source": [
    "Теперь, для интереса, обучим тот же бейзлайн с логистической  \n",
    "регрессией, но когда векторайзер работает с n-граммами символов.  \n",
    "Много орфографических ошибок в отзывах, а также общая довольно  \n",
    "малая длина датасета подталкивает к такому подходу:"
   ]
  },
  {
   "cell_type": "code",
   "execution_count": 55,
   "id": "540f4c99-9bfb-4643-87ce-b47372439b62",
   "metadata": {},
   "outputs": [],
   "source": [
    "vectorizer = TfidfVectorizer(ngram_range=(2, 5), analyzer='char')\n",
    "scaler = MaxAbsScaler()\n",
    "classifier = LogisticRegression()\n",
    "\n",
    "lr_model = make_pipeline(vectorizer, scaler, classifier)"
   ]
  },
  {
   "cell_type": "code",
   "execution_count": 56,
   "id": "c47e06f2-9896-46d0-a679-d4c3effe2c54",
   "metadata": {},
   "outputs": [],
   "source": [
    "lr_model.fit(X_train, y_train);"
   ]
  },
  {
   "cell_type": "code",
   "execution_count": 57,
   "id": "b79c71e9-51de-4f49-9caa-7c6652f017ea",
   "metadata": {},
   "outputs": [],
   "source": [
    "y_score = lr_model.predict_proba(X_val)[:, 1]\n",
    "y_pred = lr_model.predict(X_val)"
   ]
  },
  {
   "cell_type": "code",
   "execution_count": 58,
   "id": "ae891bb6-9c6f-4fa6-8ce6-5113555c27c8",
   "metadata": {},
   "outputs": [
    {
     "name": "stdout",
     "output_type": "stream",
     "text": [
      "              precision    recall  f1-score   support\n",
      "\n",
      "           0       0.94      0.95      0.94      3310\n",
      "           1       0.79      0.74      0.77       822\n",
      "\n",
      "    accuracy                           0.91      4132\n",
      "   macro avg       0.86      0.85      0.86      4132\n",
      "weighted avg       0.91      0.91      0.91      4132\n",
      "\n"
     ]
    }
   ],
   "source": [
    "names.append('Char Tfidf + LR')\n",
    "char_baseline = get_class_report(y_val, y_pred)"
   ]
  },
  {
   "cell_type": "markdown",
   "id": "8255c14a-6438-461f-8e99-a692b4d3d67d",
   "metadata": {},
   "source": [
    "Сведём все результаты в таблицу:"
   ]
  },
  {
   "cell_type": "code",
   "execution_count": 59,
   "id": "6c04e6c8-5c5d-499d-a593-1182757bfde6",
   "metadata": {},
   "outputs": [
    {
     "data": {
      "text/html": [
       "<div>\n",
       "<style scoped>\n",
       "    .dataframe tbody tr th:only-of-type {\n",
       "        vertical-align: middle;\n",
       "    }\n",
       "\n",
       "    .dataframe tbody tr th {\n",
       "        vertical-align: top;\n",
       "    }\n",
       "\n",
       "    .dataframe thead th {\n",
       "        text-align: right;\n",
       "    }\n",
       "</style>\n",
       "<table border=\"1\" class=\"dataframe\">\n",
       "  <thead>\n",
       "    <tr style=\"text-align: right;\">\n",
       "      <th></th>\n",
       "      <th>F1-score 0</th>\n",
       "      <th>F1-score 1</th>\n",
       "      <th>F1-score macro</th>\n",
       "    </tr>\n",
       "  </thead>\n",
       "  <tbody>\n",
       "    <tr>\n",
       "      <th>Pretrained embeddings</th>\n",
       "      <td>0.946</td>\n",
       "      <td>0.774</td>\n",
       "      <td>0.860</td>\n",
       "    </tr>\n",
       "    <tr>\n",
       "      <th>Char Tfidf + LR</th>\n",
       "      <td>0.944</td>\n",
       "      <td>0.767</td>\n",
       "      <td>0.856</td>\n",
       "    </tr>\n",
       "    <tr>\n",
       "      <th>Non-pretrained embeddings</th>\n",
       "      <td>0.939</td>\n",
       "      <td>0.749</td>\n",
       "      <td>0.844</td>\n",
       "    </tr>\n",
       "    <tr>\n",
       "      <th>Tfidf + LR Baseline</th>\n",
       "      <td>0.938</td>\n",
       "      <td>0.738</td>\n",
       "      <td>0.838</td>\n",
       "    </tr>\n",
       "  </tbody>\n",
       "</table>\n",
       "</div>"
      ],
      "text/plain": [
       "                           F1-score 0  F1-score 1  F1-score macro\n",
       "Pretrained embeddings           0.946       0.774           0.860\n",
       "Char Tfidf + LR                 0.944       0.767           0.856\n",
       "Non-pretrained embeddings       0.939       0.749           0.844\n",
       "Tfidf + LR Baseline             0.938       0.738           0.838"
      ]
     },
     "execution_count": 59,
     "metadata": {},
     "output_type": "execute_result"
    }
   ],
   "source": [
    "pd.DataFrame([pretrained_scores, baseline, nonpretrained, char_baseline],\n",
    "             index=names,\n",
    "             columns=['F1-score 0', 'F1-score 1', 'F1-score macro']).sort_values('F1-score macro', ascending=False)"
   ]
  },
  {
   "cell_type": "markdown",
   "id": "16ba1f39-e9ff-449a-a9c0-51e3cbea31fa",
   "metadata": {},
   "source": [
    "Лучше всего показала себя модель свёрточной сети с предобученными  \n",
    "эмбеддингами. Модель, где эмбеддинги обучались, оказалась, всё-таки,  \n",
    "хуже. Но это, вероятно, связано с качеством предобработки текста.  \n",
    "Можно было потратить ещё время на более доскональное изучение датасета  \n",
    "и подстроить предобработку соответствующим образом. В датасете объективно  \n",
    "мало примеров для качественного обучения эмбеддингов. Интересно, что  \n",
    "модель логистической регрессии, где векторайзер обучался на n-граммах  \n",
    "символов, почти дотянулась до модели с предобученными эмбеддингами.  \n",
    "При этом не потребовалось никакой предобработки и написания длинного кода  \n",
    "обучения."
   ]
  }
 ],
 "metadata": {
  "kernelspec": {
   "display_name": "Python 3 (ipykernel)",
   "language": "python",
   "name": "python3"
  },
  "language_info": {
   "codemirror_mode": {
    "name": "ipython",
    "version": 3
   },
   "file_extension": ".py",
   "mimetype": "text/x-python",
   "name": "python",
   "nbconvert_exporter": "python",
   "pygments_lexer": "ipython3",
   "version": "3.9.13"
  }
 },
 "nbformat": 4,
 "nbformat_minor": 5
}
