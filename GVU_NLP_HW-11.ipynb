{
 "cells": [
  {
   "cell_type": "markdown",
   "metadata": {},
   "source": [
    "### Тема “Перевод с механизмом внимания”\n",
    "\n",
    "Разобраться с моделькой перевода (с механизмом внимания) как она устроена, запустить для перевода с русского на английский (при желании можно взять другие пары языков)"
   ]
  },
  {
   "cell_type": "code",
   "execution_count": 1,
   "metadata": {},
   "outputs": [
    {
     "name": "stderr",
     "output_type": "stream",
     "text": [
      "2022-11-28 14:34:35.013116: I tensorflow/core/platform/cpu_feature_guard.cc:193] This TensorFlow binary is optimized with oneAPI Deep Neural Network Library (oneDNN) to use the following CPU instructions in performance-critical operations:  AVX2 FMA\n",
      "To enable them in other operations, rebuild TensorFlow with the appropriate compiler flags.\n"
     ]
    }
   ],
   "source": [
    "import tensorflow as tf\n",
    "\n",
    "import matplotlib.pyplot as plt\n",
    "import matplotlib.ticker as ticker\n",
    "from sklearn.model_selection import train_test_split\n",
    "\n",
    "import unicodedata\n",
    "import re\n",
    "import numpy as np\n",
    "import os\n",
    "import io\n",
    "import time"
   ]
  },
  {
   "cell_type": "markdown",
   "metadata": {},
   "source": [
    "!wget http://www.manythings.org/anki/rus-eng.zip"
   ]
  },
  {
   "cell_type": "markdown",
   "metadata": {},
   "source": [
    "!mkdir rus-eng\n",
    "!unzip rus-eng.zip -d rus-eng/"
   ]
  },
  {
   "cell_type": "code",
   "execution_count": 2,
   "metadata": {},
   "outputs": [],
   "source": [
    "path_to_file = \"rus-eng/rus.txt\""
   ]
  },
  {
   "cell_type": "code",
   "execution_count": 3,
   "metadata": {},
   "outputs": [],
   "source": [
    "def preprocess_sentence(w):\n",
    "    w = w.lower().strip()\n",
    "    w = re.sub(r\"([?.!,])\", r\" \\1 \", w)\n",
    "    w = re.sub(r'[\" \"]+', \" \", w)\n",
    "    w = re.sub(r\"[^a-zA-Zа-яА-Я?.!,']+\", \" \", w)\n",
    "    w = w.strip()\n",
    "    w = '<start> ' + w + ' <end>'\n",
    "    return w"
   ]
  },
  {
   "cell_type": "code",
   "execution_count": 4,
   "metadata": {},
   "outputs": [
    {
     "data": {
      "text/plain": [
       "'<start> the sentence for test . <end>'"
      ]
     },
     "execution_count": 4,
     "metadata": {},
     "output_type": "execute_result"
    }
   ],
   "source": [
    "preprocess_sentence(\"The sentence for test.\")"
   ]
  },
  {
   "cell_type": "code",
   "execution_count": 5,
   "metadata": {},
   "outputs": [],
   "source": [
    "def create_dataset(path, num_examples):\n",
    "    lines = io.open(path, encoding='UTF-8').read().strip().split('\\n')\n",
    "    word_pairs = [[preprocess_sentence(w) for w in l.split('\\t')[:2]]  for l in lines[:num_examples]]\n",
    "    return zip(*word_pairs)"
   ]
  },
  {
   "cell_type": "code",
   "execution_count": 6,
   "metadata": {},
   "outputs": [
    {
     "name": "stdout",
     "output_type": "stream",
     "text": [
      "<start> go . <end>\n",
      "<start> марш ! <end>\n"
     ]
    }
   ],
   "source": [
    "en, ru = create_dataset(path_to_file, None)\n",
    "print(en[0])\n",
    "print(ru[0])"
   ]
  },
  {
   "cell_type": "code",
   "execution_count": 7,
   "metadata": {},
   "outputs": [
    {
     "data": {
      "text/plain": [
       "(451436, 451436)"
      ]
     },
     "execution_count": 7,
     "metadata": {},
     "output_type": "execute_result"
    }
   ],
   "source": [
    "len(en), len(ru)"
   ]
  },
  {
   "cell_type": "code",
   "execution_count": 8,
   "metadata": {},
   "outputs": [],
   "source": [
    "def tokenize(lang):\n",
    "    lang_tokenizer = tf.keras.preprocessing.text.Tokenizer(filters='')\n",
    "    lang_tokenizer.fit_on_texts(lang)\n",
    "    tensor = lang_tokenizer.texts_to_sequences(lang)\n",
    "    tensor = tf.keras.preprocessing.sequence.pad_sequences(tensor, padding='post')\n",
    "    return tensor, lang_tokenizer\n",
    "\n",
    "def load_dataset(path, num_examples=None):\n",
    "    targ_lang, inp_lang = create_dataset(path, num_examples)\n",
    "    input_tensor, inp_lang_tokenizer = tokenize(inp_lang)\n",
    "    target_tensor, targ_lang_tokenizer = tokenize(targ_lang)\n",
    "    return input_tensor, target_tensor, inp_lang_tokenizer, targ_lang_tokenizer"
   ]
  },
  {
   "cell_type": "code",
   "execution_count": 9,
   "metadata": {},
   "outputs": [],
   "source": [
    "num_examples = 100000\n",
    "input_tensor, target_tensor, inp_lang, targ_lang = load_dataset(path_to_file, num_examples)"
   ]
  },
  {
   "cell_type": "code",
   "execution_count": 10,
   "metadata": {},
   "outputs": [
    {
     "data": {
      "text/plain": [
       "(array([[   1, 5663,   24, ...,    0,    0,    0],\n",
       "        [   1,  198,    3, ...,    0,    0,    0],\n",
       "        [   1,  301,    3, ...,    0,    0,    0],\n",
       "        ...,\n",
       "        [   1,   33,  234, ...,    0,    0,    0],\n",
       "        [   1,   10,  298, ...,    0,    0,    0],\n",
       "        [   1,   27,   65, ...,    0,    0,    0]], dtype=int32),\n",
       " array([[ 1, 27,  3, ...,  0,  0,  0],\n",
       "        [ 1, 27,  3, ...,  0,  0,  0],\n",
       "        [ 1, 27,  3, ...,  0,  0,  0],\n",
       "        ...,\n",
       "        [ 1, 15,  7, ...,  0,  0,  0],\n",
       "        [ 1, 15,  7, ...,  0,  0,  0],\n",
       "        [ 1, 15,  7, ...,  0,  0,  0]], dtype=int32))"
      ]
     },
     "execution_count": 10,
     "metadata": {},
     "output_type": "execute_result"
    }
   ],
   "source": [
    "input_tensor, target_tensor"
   ]
  },
  {
   "cell_type": "code",
   "execution_count": 11,
   "metadata": {},
   "outputs": [],
   "source": [
    "max_length_targ, max_length_inp = target_tensor.shape[1], input_tensor.shape[1]"
   ]
  },
  {
   "cell_type": "code",
   "execution_count": 12,
   "metadata": {},
   "outputs": [
    {
     "data": {
      "text/plain": [
       "(11, 15)"
      ]
     },
     "execution_count": 12,
     "metadata": {},
     "output_type": "execute_result"
    }
   ],
   "source": [
    "max_length_targ, max_length_inp"
   ]
  },
  {
   "cell_type": "code",
   "execution_count": 13,
   "metadata": {},
   "outputs": [],
   "source": [
    "input_tensor_train, input_tensor_val, target_tensor_train, target_tensor_val = train_test_split(input_tensor, target_tensor, test_size=0.2)"
   ]
  },
  {
   "cell_type": "code",
   "execution_count": 14,
   "metadata": {},
   "outputs": [
    {
     "name": "stdout",
     "output_type": "stream",
     "text": [
      "80000 80000 20000 20000\n"
     ]
    }
   ],
   "source": [
    "print(len(input_tensor_train), len(target_tensor_train), len(input_tensor_val), len(target_tensor_val))"
   ]
  },
  {
   "cell_type": "code",
   "execution_count": 15,
   "metadata": {},
   "outputs": [],
   "source": [
    "def convert(lang, tensor):\n",
    "    for t in tensor:\n",
    "        if t!=0:\n",
    "            print (\"%d ----> %s\" % (t, lang.index_word[t]))"
   ]
  },
  {
   "cell_type": "code",
   "execution_count": 16,
   "metadata": {},
   "outputs": [
    {
     "name": "stdout",
     "output_type": "stream",
     "text": [
      "Input Language; index to word mapping\n",
      "1 ----> <start>\n",
      "807 ----> поставьте\n",
      "8 ----> это\n",
      "428 ----> обратно\n",
      "3 ----> .\n",
      "2 ----> <end>\n",
      "\n",
      "Target Language; index to word mapping\n",
      "1 ----> <start>\n",
      "130 ----> put\n",
      "18 ----> that\n",
      "95 ----> back\n",
      "3 ----> .\n",
      "2 ----> <end>\n"
     ]
    }
   ],
   "source": [
    "print (\"Input Language; index to word mapping\")\n",
    "convert(inp_lang, input_tensor_train[0])\n",
    "print ()\n",
    "print (\"Target Language; index to word mapping\")\n",
    "convert(targ_lang, target_tensor_train[0])"
   ]
  },
  {
   "cell_type": "code",
   "execution_count": 17,
   "metadata": {},
   "outputs": [
    {
     "name": "stderr",
     "output_type": "stream",
     "text": [
      "2022-11-28 14:35:00.951468: I tensorflow/core/platform/cpu_feature_guard.cc:193] This TensorFlow binary is optimized with oneAPI Deep Neural Network Library (oneDNN) to use the following CPU instructions in performance-critical operations:  AVX2 FMA\n",
      "To enable them in other operations, rebuild TensorFlow with the appropriate compiler flags.\n"
     ]
    }
   ],
   "source": [
    "BUFFER_SIZE = len(input_tensor_train)\n",
    "BATCH_SIZE = 64\n",
    "steps_per_epoch = len(input_tensor_train)//BATCH_SIZE\n",
    "embedding_dim = 300\n",
    "units = 1024\n",
    "vocab_inp_size = len(inp_lang.word_index)+1\n",
    "vocab_tar_size = len(targ_lang.word_index)+1\n",
    "\n",
    "dataset = tf.data.Dataset.from_tensor_slices((input_tensor_train, target_tensor_train)).shuffle(BUFFER_SIZE)\n",
    "\n",
    "dataset = dataset.batch(BATCH_SIZE, drop_remainder=True)"
   ]
  },
  {
   "cell_type": "code",
   "execution_count": 18,
   "metadata": {},
   "outputs": [],
   "source": [
    "example_input_batch, example_target_batch = next(iter(dataset))\n"
   ]
  },
  {
   "cell_type": "code",
   "execution_count": 19,
   "metadata": {},
   "outputs": [],
   "source": [
    "optimizer = tf.keras.optimizers.Adam()\n",
    "loss_object = tf.keras.losses.SparseCategoricalCrossentropy(\n",
    "    from_logits=True, reduction='none')"
   ]
  },
  {
   "cell_type": "code",
   "execution_count": 20,
   "metadata": {},
   "outputs": [],
   "source": [
    "def loss_function(real, pred):\n",
    "    mask = tf.math.logical_not(tf.math.equal(real, 0))\n",
    "    loss_ = loss_object(real, pred)\n",
    "    mask = tf.cast(mask, dtype=loss_.dtype)\n",
    "    loss_ *= mask\n",
    "\n",
    "    return tf.reduce_mean(loss_)"
   ]
  },
  {
   "cell_type": "code",
   "execution_count": 21,
   "metadata": {},
   "outputs": [],
   "source": [
    "class Encoder(tf.keras.Model):\n",
    "    def __init__(self, vocab_size, embedding_dim, enc_units, batch_sz):\n",
    "        super(Encoder, self).__init__()\n",
    "        self.batch_sz = batch_sz\n",
    "        self.enc_units = enc_units\n",
    "        self.embedding = tf.keras.layers.Embedding(vocab_size, embedding_dim)\n",
    "        self.gru = tf.keras.layers.GRU(self.enc_units,\n",
    "                                       return_sequences=True,\n",
    "                                       return_state=True,\n",
    "                                       recurrent_initializer='glorot_uniform')\n",
    "\n",
    "    def call(self, x, hidden):\n",
    "        x = self.embedding(x)\n",
    "        output, state = self.gru(x, initial_state = hidden)\n",
    "        return output, state\n",
    "\n",
    "    def initialize_hidden_state(self):\n",
    "        return tf.zeros((self.batch_sz, self.enc_units))"
   ]
  },
  {
   "cell_type": "code",
   "execution_count": 22,
   "metadata": {},
   "outputs": [],
   "source": [
    "encoder = Encoder(vocab_inp_size, embedding_dim, units, BATCH_SIZE)\n",
    "sample_hidden = encoder.initialize_hidden_state()\n",
    "sample_output, sample_hidden = encoder(example_input_batch, sample_hidden)"
   ]
  },
  {
   "cell_type": "code",
   "execution_count": 23,
   "metadata": {},
   "outputs": [
    {
     "name": "stdout",
     "output_type": "stream",
     "text": [
      "Encoder output shape: (batch size, sequence length, units) (64, 15, 1024)\n",
      "Encoder Hidden state shape: (batch size, units) (64, 1024)\n"
     ]
    }
   ],
   "source": [
    "print ('Encoder output shape: (batch size, sequence length, units) {}'.format(sample_output.shape))\n",
    "print ('Encoder Hidden state shape: (batch size, units) {}'.format(sample_hidden.shape))"
   ]
  },
  {
   "cell_type": "code",
   "execution_count": 24,
   "metadata": {},
   "outputs": [],
   "source": [
    "class BahdanauAttention(tf.keras.layers.Layer):\n",
    "    def __init__(self, units):\n",
    "        super(BahdanauAttention, self).__init__()\n",
    "        self.W1 = tf.keras.layers.Dense(units)\n",
    "        self.W2 = tf.keras.layers.Dense(units)\n",
    "        self.V = tf.keras.layers.Dense(1)\n",
    "\n",
    "    def call(self, query, values):\n",
    "\n",
    "        query_with_time_axis = tf.expand_dims(query, 1)\n",
    "        score = self.V(tf.nn.tanh(\n",
    "            self.W1(query_with_time_axis) + self.W2(values)))\n",
    "\n",
    "        attention_weights = tf.nn.softmax(score, axis=1)\n",
    "        context_vector = attention_weights * values\n",
    "        context_vector = tf.reduce_sum(context_vector, axis=1)\n",
    "\n",
    "        return context_vector, attention_weights"
   ]
  },
  {
   "cell_type": "code",
   "execution_count": 25,
   "metadata": {},
   "outputs": [],
   "source": [
    "attention_layer = BahdanauAttention(10)\n",
    "attention_result, attention_weights = attention_layer(sample_hidden, sample_output)"
   ]
  },
  {
   "cell_type": "code",
   "execution_count": 26,
   "metadata": {},
   "outputs": [
    {
     "name": "stdout",
     "output_type": "stream",
     "text": [
      "Attention result shape: (batch size, units) (64, 1024)\n",
      "Attention weights shape: (batch_size, sequence_length, 1) (64, 15, 1)\n"
     ]
    }
   ],
   "source": [
    "print(\"Attention result shape: (batch size, units) {}\".format(attention_result.shape))\n",
    "print(\"Attention weights shape: (batch_size, sequence_length, 1) {}\".format(attention_weights.shape))"
   ]
  },
  {
   "cell_type": "code",
   "execution_count": 27,
   "metadata": {},
   "outputs": [],
   "source": [
    "class Decoder(tf.keras.Model):\n",
    "    def __init__(self, vocab_size, embedding_dim, dec_units, batch_sz):\n",
    "        super(Decoder, self).__init__()\n",
    "        self.batch_sz = batch_sz\n",
    "        self.dec_units = dec_units\n",
    "        self.embedding = tf.keras.layers.Embedding(vocab_size, embedding_dim)\n",
    "        self.gru = tf.keras.layers.GRU(self.dec_units,\n",
    "                                       return_sequences=True,\n",
    "                                       return_state=True,\n",
    "                                       recurrent_initializer='glorot_uniform')\n",
    "        self.fc = tf.keras.layers.Dense(vocab_size)\n",
    "        # используем слой внимания\n",
    "        self.attention = BahdanauAttention(self.dec_units)\n",
    "\n",
    "    def call(self, x, hidden, enc_output):\n",
    "        \n",
    "        context_vector, attention_weights = self.attention(hidden, enc_output)\n",
    "        x = self.embedding(x)\n",
    "        x = tf.concat([tf.expand_dims(context_vector, 1), x], axis=-1)\n",
    "        output, state = self.gru(x)\n",
    "        output = tf.reshape(output, (-1, output.shape[2]))\n",
    "        x = self.fc(output)\n",
    "\n",
    "        return x, state, attention_weights"
   ]
  },
  {
   "cell_type": "code",
   "execution_count": 28,
   "metadata": {},
   "outputs": [],
   "source": [
    "decoder = Decoder(vocab_tar_size, embedding_dim, units, BATCH_SIZE)\n",
    "sample_decoder_output, _, _ = decoder(tf.random.uniform((BATCH_SIZE, 1)),\n",
    "                                      sample_hidden, sample_output)"
   ]
  },
  {
   "cell_type": "code",
   "execution_count": 29,
   "metadata": {},
   "outputs": [
    {
     "name": "stdout",
     "output_type": "stream",
     "text": [
      "Decoder output shape: (batch_size, vocab size) (64, 7335)\n"
     ]
    }
   ],
   "source": [
    "print ('Decoder output shape: (batch_size, vocab size) {}'.format(sample_decoder_output.shape))"
   ]
  },
  {
   "cell_type": "code",
   "execution_count": 30,
   "metadata": {},
   "outputs": [],
   "source": [
    "checkpoint_dir = './training_attention_checkpoints'\n",
    "checkpoint_prefix = os.path.join(checkpoint_dir, \"ckpt\")\n",
    "checkpoint = tf.train.Checkpoint(optimizer=optimizer,\n",
    "                                 encoder=encoder,\n",
    "                                 decoder=decoder)"
   ]
  },
  {
   "cell_type": "code",
   "execution_count": 31,
   "metadata": {},
   "outputs": [],
   "source": [
    "@tf.function\n",
    "def train_step_att(inp, targ, enc_hidden):\n",
    "    loss = 0\n",
    "\n",
    "    with tf.GradientTape() as tape:\n",
    "        enc_output, enc_hidden = encoder(inp, enc_hidden)\n",
    "        dec_hidden = enc_hidden\n",
    "        dec_input = tf.expand_dims([targ_lang.word_index['<start>']] * BATCH_SIZE, 1)\n",
    "\n",
    "        for t in range(1, targ.shape[1]):\n",
    "            predictions, dec_hidden, _ = decoder(dec_input, dec_hidden, enc_output)\n",
    "            loss += loss_function(targ[:, t], predictions)\n",
    "            dec_input = tf.expand_dims(targ[:, t], 1)\n",
    "\n",
    "    batch_loss = (loss / int(targ.shape[1]))\n",
    "    variables = encoder.trainable_variables + decoder.trainable_variables\n",
    "    gradients = tape.gradient(loss, variables)\n",
    "    optimizer.apply_gradients(zip(gradients, variables))\n",
    "\n",
    "    return batch_loss"
   ]
  },
  {
   "cell_type": "code",
   "execution_count": 32,
   "metadata": {},
   "outputs": [
    {
     "name": "stdout",
     "output_type": "stream",
     "text": [
      "Epoch 1 Batch 0 Loss 4.6780\n",
      "Epoch 1 Batch 100 Loss 2.1172\n",
      "Epoch 1 Batch 200 Loss 1.7381\n",
      "Epoch 1 Batch 300 Loss 1.7027\n",
      "Epoch 1 Batch 400 Loss 1.6371\n",
      "Epoch 1 Batch 500 Loss 1.4349\n",
      "Epoch 1 Batch 600 Loss 1.3621\n",
      "Epoch 1 Batch 700 Loss 1.1818\n",
      "Epoch 1 Batch 800 Loss 1.1806\n",
      "Epoch 1 Batch 900 Loss 1.0532\n",
      "Epoch 1 Batch 1000 Loss 1.1090\n",
      "Epoch 1 Batch 1100 Loss 0.9963\n",
      "Epoch 1 Batch 1200 Loss 0.9919\n",
      "Epoch 1 Loss 1.4087\n",
      "Time taken for 1 epoch 1578.5400807857513 sec\n",
      "\n",
      "Epoch 2 Batch 0 Loss 0.7618\n",
      "Epoch 2 Batch 100 Loss 0.7524\n",
      "Epoch 2 Batch 200 Loss 0.7679\n",
      "Epoch 2 Batch 300 Loss 0.7569\n",
      "Epoch 2 Batch 400 Loss 0.6012\n",
      "Epoch 2 Batch 500 Loss 0.6851\n",
      "Epoch 2 Batch 600 Loss 0.6592\n",
      "Epoch 2 Batch 700 Loss 0.5682\n",
      "Epoch 2 Batch 800 Loss 0.6622\n",
      "Epoch 2 Batch 900 Loss 0.5055\n",
      "Epoch 2 Batch 1000 Loss 0.5184\n",
      "Epoch 2 Batch 1100 Loss 0.5511\n",
      "Epoch 2 Batch 1200 Loss 0.4225\n",
      "Epoch 2 Loss 0.6351\n",
      "Time taken for 1 epoch 1499.1796972751617 sec\n",
      "\n",
      "Epoch 3 Batch 0 Loss 0.3732\n",
      "Epoch 3 Batch 100 Loss 0.3413\n",
      "Epoch 3 Batch 200 Loss 0.3318\n",
      "Epoch 3 Batch 300 Loss 0.2496\n",
      "Epoch 3 Batch 400 Loss 0.3070\n",
      "Epoch 3 Batch 500 Loss 0.3961\n",
      "Epoch 3 Batch 600 Loss 0.3990\n",
      "Epoch 3 Batch 700 Loss 0.2704\n",
      "Epoch 3 Batch 800 Loss 0.2762\n",
      "Epoch 3 Batch 900 Loss 0.4158\n",
      "Epoch 3 Batch 1000 Loss 0.3872\n",
      "Epoch 3 Batch 1100 Loss 0.3562\n",
      "Epoch 3 Batch 1200 Loss 0.2971\n",
      "Epoch 3 Loss 0.3359\n",
      "Time taken for 1 epoch 1391.4477670192719 sec\n",
      "\n",
      "Epoch 4 Batch 0 Loss 0.1767\n",
      "Epoch 4 Batch 100 Loss 0.1939\n",
      "Epoch 4 Batch 200 Loss 0.1734\n",
      "Epoch 4 Batch 300 Loss 0.1833\n",
      "Epoch 4 Batch 400 Loss 0.1939\n",
      "Epoch 4 Batch 500 Loss 0.1867\n",
      "Epoch 4 Batch 600 Loss 0.2466\n",
      "Epoch 4 Batch 700 Loss 0.2482\n",
      "Epoch 4 Batch 800 Loss 0.2181\n",
      "Epoch 4 Batch 900 Loss 0.2007\n",
      "Epoch 4 Batch 1000 Loss 0.2337\n",
      "Epoch 4 Batch 1100 Loss 0.1690\n",
      "Epoch 4 Batch 1200 Loss 0.2302\n",
      "Epoch 4 Loss 0.2050\n",
      "Time taken for 1 epoch 1423.153579711914 sec\n",
      "\n",
      "Epoch 5 Batch 0 Loss 0.1114\n",
      "Epoch 5 Batch 100 Loss 0.1187\n",
      "Epoch 5 Batch 200 Loss 0.1114\n",
      "Epoch 5 Batch 300 Loss 0.1654\n",
      "Epoch 5 Batch 400 Loss 0.1520\n",
      "Epoch 5 Batch 500 Loss 0.1543\n",
      "Epoch 5 Batch 600 Loss 0.1298\n",
      "Epoch 5 Batch 700 Loss 0.1108\n",
      "Epoch 5 Batch 800 Loss 0.1153\n",
      "Epoch 5 Batch 900 Loss 0.1637\n",
      "Epoch 5 Batch 1000 Loss 0.1164\n",
      "Epoch 5 Batch 1100 Loss 0.2241\n",
      "Epoch 5 Batch 1200 Loss 0.1555\n",
      "Epoch 5 Loss 0.1431\n",
      "Time taken for 1 epoch 2374.2426879405975 sec\n",
      "\n",
      "Epoch 6 Batch 0 Loss 0.0794\n",
      "Epoch 6 Batch 100 Loss 0.1139\n",
      "Epoch 6 Batch 200 Loss 0.1081\n",
      "Epoch 6 Batch 300 Loss 0.0783\n",
      "Epoch 6 Batch 400 Loss 0.0901\n",
      "Epoch 6 Batch 500 Loss 0.1209\n",
      "Epoch 6 Batch 600 Loss 0.1256\n",
      "Epoch 6 Batch 700 Loss 0.1087\n",
      "Epoch 6 Batch 800 Loss 0.0888\n",
      "Epoch 6 Batch 900 Loss 0.1354\n",
      "Epoch 6 Batch 1000 Loss 0.1305\n",
      "Epoch 6 Batch 1100 Loss 0.1265\n",
      "Epoch 6 Batch 1200 Loss 0.1153\n",
      "Epoch 6 Loss 0.1122\n",
      "Time taken for 1 epoch 1518.94131565094 sec\n",
      "\n",
      "Epoch 7 Batch 0 Loss 0.0844\n",
      "Epoch 7 Batch 100 Loss 0.0516\n",
      "Epoch 7 Batch 200 Loss 0.0770\n",
      "Epoch 7 Batch 300 Loss 0.0942\n",
      "Epoch 7 Batch 400 Loss 0.0429\n",
      "Epoch 7 Batch 500 Loss 0.0640\n",
      "Epoch 7 Batch 600 Loss 0.1379\n",
      "Epoch 7 Batch 700 Loss 0.1103\n",
      "Epoch 7 Batch 800 Loss 0.1124\n",
      "Epoch 7 Batch 900 Loss 0.1346\n",
      "Epoch 7 Batch 1000 Loss 0.1027\n",
      "Epoch 7 Batch 1100 Loss 0.1124\n",
      "Epoch 7 Batch 1200 Loss 0.1154\n",
      "Epoch 7 Loss 0.0964\n",
      "Time taken for 1 epoch 1544.45645403862 sec\n",
      "\n",
      "Epoch 8 Batch 0 Loss 0.0585\n",
      "Epoch 8 Batch 100 Loss 0.0565\n",
      "Epoch 8 Batch 200 Loss 0.0634\n",
      "Epoch 8 Batch 300 Loss 0.0891\n",
      "Epoch 8 Batch 400 Loss 0.0795\n",
      "Epoch 8 Batch 500 Loss 0.0834\n",
      "Epoch 8 Batch 600 Loss 0.1153\n",
      "Epoch 8 Batch 700 Loss 0.0956\n",
      "Epoch 8 Batch 800 Loss 0.0804\n",
      "Epoch 8 Batch 900 Loss 0.0871\n",
      "Epoch 8 Batch 1000 Loss 0.0790\n",
      "Epoch 8 Batch 1100 Loss 0.1232\n",
      "Epoch 8 Batch 1200 Loss 0.0622\n",
      "Epoch 8 Loss 0.0874\n",
      "Time taken for 1 epoch 1443.0360980033875 sec\n",
      "\n",
      "Epoch 9 Batch 0 Loss 0.0834\n",
      "Epoch 9 Batch 100 Loss 0.1005\n",
      "Epoch 9 Batch 200 Loss 0.0708\n",
      "Epoch 9 Batch 300 Loss 0.1263\n",
      "Epoch 9 Batch 400 Loss 0.0667\n",
      "Epoch 9 Batch 500 Loss 0.0648\n",
      "Epoch 9 Batch 600 Loss 0.0697\n",
      "Epoch 9 Batch 700 Loss 0.0525\n",
      "Epoch 9 Batch 800 Loss 0.1205\n",
      "Epoch 9 Batch 900 Loss 0.1047\n",
      "Epoch 9 Batch 1000 Loss 0.1032\n",
      "Epoch 9 Batch 1100 Loss 0.0904\n",
      "Epoch 9 Batch 1200 Loss 0.1008\n",
      "Epoch 9 Loss 0.0817\n",
      "Time taken for 1 epoch 1425.3917758464813 sec\n",
      "\n",
      "Epoch 10 Batch 0 Loss 0.0417\n",
      "Epoch 10 Batch 100 Loss 0.0940\n",
      "Epoch 10 Batch 200 Loss 0.0921\n",
      "Epoch 10 Batch 300 Loss 0.0649\n",
      "Epoch 10 Batch 400 Loss 0.0582\n",
      "Epoch 10 Batch 500 Loss 0.0775\n",
      "Epoch 10 Batch 600 Loss 0.0684\n",
      "Epoch 10 Batch 700 Loss 0.0702\n",
      "Epoch 10 Batch 800 Loss 0.1308\n",
      "Epoch 10 Batch 900 Loss 0.0877\n",
      "Epoch 10 Batch 1000 Loss 0.0859\n",
      "Epoch 10 Batch 1100 Loss 0.0943\n",
      "Epoch 10 Batch 1200 Loss 0.1251\n",
      "Epoch 10 Loss 0.0776\n",
      "Time taken for 1 epoch 1923.3160378932953 sec\n",
      "\n",
      "Epoch 11 Batch 0 Loss 0.0548\n",
      "Epoch 11 Batch 100 Loss 0.0681\n",
      "Epoch 11 Batch 200 Loss 0.0649\n",
      "Epoch 11 Batch 300 Loss 0.0809\n",
      "Epoch 11 Batch 400 Loss 0.0292\n",
      "Epoch 11 Batch 500 Loss 0.0834\n",
      "Epoch 11 Batch 600 Loss 0.0837\n",
      "Epoch 11 Batch 700 Loss 0.0649\n",
      "Epoch 11 Batch 800 Loss 0.0917\n",
      "Epoch 11 Batch 900 Loss 0.0500\n",
      "Epoch 11 Batch 1000 Loss 0.0734\n",
      "Epoch 11 Batch 1100 Loss 0.0870\n",
      "Epoch 11 Batch 1200 Loss 0.0771\n",
      "Epoch 11 Loss 0.0744\n",
      "Time taken for 1 epoch 4587.772597074509 sec\n",
      "\n",
      "Epoch 12 Batch 0 Loss 0.0672\n",
      "Epoch 12 Batch 100 Loss 0.0482\n",
      "Epoch 12 Batch 200 Loss 0.0500\n",
      "Epoch 12 Batch 300 Loss 0.0698\n",
      "Epoch 12 Batch 400 Loss 0.0599\n",
      "Epoch 12 Batch 500 Loss 0.0459\n",
      "Epoch 12 Batch 600 Loss 0.0594\n",
      "Epoch 12 Batch 700 Loss 0.0841\n",
      "Epoch 12 Batch 800 Loss 0.0626\n",
      "Epoch 12 Batch 900 Loss 0.0850\n",
      "Epoch 12 Batch 1000 Loss 0.1089\n",
      "Epoch 12 Batch 1100 Loss 0.0898\n",
      "Epoch 12 Batch 1200 Loss 0.0944\n",
      "Epoch 12 Loss 0.0708\n",
      "Time taken for 1 epoch 4889.185055017471 sec\n",
      "\n",
      "Epoch 13 Batch 0 Loss 0.0544\n",
      "Epoch 13 Batch 100 Loss 0.0394\n",
      "Epoch 13 Batch 200 Loss 0.0592\n",
      "Epoch 13 Batch 300 Loss 0.0622\n",
      "Epoch 13 Batch 400 Loss 0.0502\n",
      "Epoch 13 Batch 500 Loss 0.0856\n",
      "Epoch 13 Batch 600 Loss 0.0457\n",
      "Epoch 13 Batch 700 Loss 0.0720\n",
      "Epoch 13 Batch 800 Loss 0.0730\n",
      "Epoch 13 Batch 900 Loss 0.0955\n",
      "Epoch 13 Batch 1000 Loss 0.1042\n",
      "Epoch 13 Batch 1100 Loss 0.0471\n",
      "Epoch 13 Batch 1200 Loss 0.0441\n",
      "Epoch 13 Loss 0.0684\n",
      "Time taken for 1 epoch 4784.873409986496 sec\n",
      "\n",
      "Epoch 14 Batch 0 Loss 0.0237\n",
      "Epoch 14 Batch 100 Loss 0.0427\n",
      "Epoch 14 Batch 200 Loss 0.0572\n",
      "Epoch 14 Batch 300 Loss 0.0390\n",
      "Epoch 14 Batch 400 Loss 0.0670\n",
      "Epoch 14 Batch 500 Loss 0.0574\n",
      "Epoch 14 Batch 600 Loss 0.0804\n",
      "Epoch 14 Batch 700 Loss 0.0933\n",
      "Epoch 14 Batch 800 Loss 0.0666\n",
      "Epoch 14 Batch 900 Loss 0.0716\n",
      "Epoch 14 Batch 1000 Loss 0.0484\n",
      "Epoch 14 Batch 1100 Loss 0.0880\n",
      "Epoch 14 Batch 1200 Loss 0.0965\n",
      "Epoch 14 Loss 0.0670\n",
      "Time taken for 1 epoch 4977.011677742004 sec\n",
      "\n",
      "Epoch 15 Batch 0 Loss 0.0455\n",
      "Epoch 15 Batch 100 Loss 0.0323\n",
      "Epoch 15 Batch 200 Loss 0.0482\n",
      "Epoch 15 Batch 300 Loss 0.0739\n",
      "Epoch 15 Batch 400 Loss 0.0619\n",
      "Epoch 15 Batch 500 Loss 0.0841\n",
      "Epoch 15 Batch 600 Loss 0.1022\n",
      "Epoch 15 Batch 700 Loss 0.0695\n",
      "Epoch 15 Batch 800 Loss 0.0729\n",
      "Epoch 15 Batch 900 Loss 0.0768\n",
      "Epoch 15 Batch 1000 Loss 0.1067\n",
      "Epoch 15 Batch 1100 Loss 0.1096\n",
      "Epoch 15 Batch 1200 Loss 0.0426\n",
      "Epoch 15 Loss 0.0648\n",
      "Time taken for 1 epoch 5011.873793125153 sec\n",
      "\n",
      "Epoch 16 Batch 0 Loss 0.0504\n",
      "Epoch 16 Batch 100 Loss 0.0495\n",
      "Epoch 16 Batch 200 Loss 0.0544\n",
      "Epoch 16 Batch 300 Loss 0.0582\n",
      "Epoch 16 Batch 400 Loss 0.0355\n",
      "Epoch 16 Batch 500 Loss 0.0816\n",
      "Epoch 16 Batch 600 Loss 0.0445\n",
      "Epoch 16 Batch 700 Loss 0.0644\n",
      "Epoch 16 Batch 800 Loss 0.0512\n",
      "Epoch 16 Batch 900 Loss 0.0784\n",
      "Epoch 16 Batch 1000 Loss 0.0783\n",
      "Epoch 16 Batch 1100 Loss 0.0788\n",
      "Epoch 16 Batch 1200 Loss 0.0710\n",
      "Epoch 16 Loss 0.0615\n",
      "Time taken for 1 epoch 5066.641340255737 sec\n",
      "\n",
      "Epoch 17 Batch 0 Loss 0.0576\n",
      "Epoch 17 Batch 100 Loss 0.0612\n",
      "Epoch 17 Batch 200 Loss 0.0494\n",
      "Epoch 17 Batch 300 Loss 0.1001\n",
      "Epoch 17 Batch 400 Loss 0.0323\n",
      "Epoch 17 Batch 500 Loss 0.0563\n",
      "Epoch 17 Batch 600 Loss 0.0251\n",
      "Epoch 17 Batch 700 Loss 0.0729\n",
      "Epoch 17 Batch 800 Loss 0.0688\n",
      "Epoch 17 Batch 900 Loss 0.0602\n",
      "Epoch 17 Batch 1000 Loss 0.0491\n",
      "Epoch 17 Batch 1100 Loss 0.0643\n",
      "Epoch 17 Batch 1200 Loss 0.0684\n",
      "Epoch 17 Loss 0.0612\n",
      "Time taken for 1 epoch 4808.158956050873 sec\n",
      "\n",
      "Epoch 18 Batch 0 Loss 0.0676\n",
      "Epoch 18 Batch 100 Loss 0.0479\n",
      "Epoch 18 Batch 200 Loss 0.0383\n",
      "Epoch 18 Batch 300 Loss 0.0504\n",
      "Epoch 18 Batch 400 Loss 0.0515\n",
      "Epoch 18 Batch 500 Loss 0.0183\n",
      "Epoch 18 Batch 600 Loss 0.0596\n",
      "Epoch 18 Batch 700 Loss 0.0508\n",
      "Epoch 18 Batch 800 Loss 0.0686\n",
      "Epoch 18 Batch 900 Loss 0.0691\n",
      "Epoch 18 Batch 1000 Loss 0.0771\n",
      "Epoch 18 Batch 1100 Loss 0.0642\n",
      "Epoch 18 Batch 1200 Loss 0.0702\n",
      "Epoch 18 Loss 0.0602\n",
      "Time taken for 1 epoch 4821.170253992081 sec\n",
      "\n",
      "Epoch 19 Batch 0 Loss 0.0352\n",
      "Epoch 19 Batch 100 Loss 0.0624\n",
      "Epoch 19 Batch 200 Loss 0.0249\n",
      "Epoch 19 Batch 300 Loss 0.0329\n",
      "Epoch 19 Batch 400 Loss 0.0343\n",
      "Epoch 19 Batch 500 Loss 0.0401\n",
      "Epoch 19 Batch 600 Loss 0.1029\n",
      "Epoch 19 Batch 700 Loss 0.0582\n",
      "Epoch 19 Batch 800 Loss 0.0671\n",
      "Epoch 19 Batch 900 Loss 0.0622\n",
      "Epoch 19 Batch 1000 Loss 0.0466\n",
      "Epoch 19 Batch 1100 Loss 0.0862\n",
      "Epoch 19 Batch 1200 Loss 0.0589\n",
      "Epoch 19 Loss 0.0581\n",
      "Time taken for 1 epoch 5001.75324511528 sec\n",
      "\n",
      "Epoch 20 Batch 0 Loss 0.0384\n",
      "Epoch 20 Batch 100 Loss 0.0287\n",
      "Epoch 20 Batch 200 Loss 0.0514\n",
      "Epoch 20 Batch 300 Loss 0.0554\n",
      "Epoch 20 Batch 400 Loss 0.0512\n",
      "Epoch 20 Batch 500 Loss 0.0619\n",
      "Epoch 20 Batch 600 Loss 0.0340\n",
      "Epoch 20 Batch 700 Loss 0.0965\n",
      "Epoch 20 Batch 800 Loss 0.0583\n",
      "Epoch 20 Batch 900 Loss 0.0672\n",
      "Epoch 20 Batch 1000 Loss 0.0630\n",
      "Epoch 20 Batch 1100 Loss 0.0621\n",
      "Epoch 20 Batch 1200 Loss 0.0479\n",
      "Epoch 20 Loss 0.0573\n",
      "Time taken for 1 epoch 4763.668703079224 sec\n",
      "\n",
      "Epoch 21 Batch 0 Loss 0.0510\n",
      "Epoch 21 Batch 100 Loss 0.0548\n",
      "Epoch 21 Batch 200 Loss 0.0949\n",
      "Epoch 21 Batch 300 Loss 0.0782\n",
      "Epoch 21 Batch 400 Loss 0.0597\n",
      "Epoch 21 Batch 500 Loss 0.0576\n",
      "Epoch 21 Batch 600 Loss 0.0686\n",
      "Epoch 21 Batch 700 Loss 0.0352\n",
      "Epoch 21 Batch 800 Loss 0.0603\n",
      "Epoch 21 Batch 900 Loss 0.0957\n",
      "Epoch 21 Batch 1000 Loss 0.0727\n",
      "Epoch 21 Batch 1100 Loss 0.0573\n",
      "Epoch 21 Batch 1200 Loss 0.0434\n",
      "Epoch 21 Loss 0.0553\n",
      "Time taken for 1 epoch 2519.4573650360107 sec\n",
      "\n",
      "Epoch 22 Batch 0 Loss 0.0657\n",
      "Epoch 22 Batch 100 Loss 0.0225\n",
      "Epoch 22 Batch 200 Loss 0.0383\n",
      "Epoch 22 Batch 300 Loss 0.0500\n",
      "Epoch 22 Batch 400 Loss 0.0464\n",
      "Epoch 22 Batch 500 Loss 0.0535\n",
      "Epoch 22 Batch 600 Loss 0.0458\n",
      "Epoch 22 Batch 700 Loss 0.0469\n",
      "Epoch 22 Batch 800 Loss 0.0553\n",
      "Epoch 22 Batch 900 Loss 0.0545\n",
      "Epoch 22 Batch 1000 Loss 0.0777\n",
      "Epoch 22 Batch 1100 Loss 0.0657\n",
      "Epoch 22 Batch 1200 Loss 0.0508\n",
      "Epoch 22 Loss 0.0550\n",
      "Time taken for 1 epoch 2113.55539894104 sec\n",
      "\n",
      "Epoch 23 Batch 0 Loss 0.0180\n",
      "Epoch 23 Batch 100 Loss 0.0557\n",
      "Epoch 23 Batch 200 Loss 0.0694\n",
      "Epoch 23 Batch 300 Loss 0.0538\n",
      "Epoch 23 Batch 400 Loss 0.0520\n",
      "Epoch 23 Batch 500 Loss 0.0358\n",
      "Epoch 23 Batch 600 Loss 0.0589\n",
      "Epoch 23 Batch 700 Loss 0.0845\n",
      "Epoch 23 Batch 800 Loss 0.0408\n",
      "Epoch 23 Batch 900 Loss 0.0474\n",
      "Epoch 23 Batch 1000 Loss 0.0546\n",
      "Epoch 23 Batch 1100 Loss 0.0910\n",
      "Epoch 23 Batch 1200 Loss 0.0733\n",
      "Epoch 23 Loss 0.0544\n",
      "Time taken for 1 epoch 1378.201122045517 sec\n",
      "\n",
      "Epoch 24 Batch 0 Loss 0.0484\n",
      "Epoch 24 Batch 100 Loss 0.0441\n",
      "Epoch 24 Batch 200 Loss 0.0514\n",
      "Epoch 24 Batch 300 Loss 0.0267\n",
      "Epoch 24 Batch 400 Loss 0.0323\n",
      "Epoch 24 Batch 500 Loss 0.0707\n",
      "Epoch 24 Batch 600 Loss 0.0541\n",
      "Epoch 24 Batch 700 Loss 0.0491\n",
      "Epoch 24 Batch 800 Loss 0.0403\n",
      "Epoch 24 Batch 900 Loss 0.0832\n",
      "Epoch 24 Batch 1000 Loss 0.0487\n",
      "Epoch 24 Batch 1100 Loss 0.0677\n",
      "Epoch 24 Batch 1200 Loss 0.0599\n",
      "Epoch 24 Loss 0.0519\n",
      "Time taken for 1 epoch 1389.5328960418701 sec\n",
      "\n",
      "Epoch 25 Batch 0 Loss 0.0795\n",
      "Epoch 25 Batch 100 Loss 0.0272\n",
      "Epoch 25 Batch 200 Loss 0.0497\n",
      "Epoch 25 Batch 300 Loss 0.0292\n",
      "Epoch 25 Batch 400 Loss 0.0592\n",
      "Epoch 25 Batch 500 Loss 0.0501\n",
      "Epoch 25 Batch 600 Loss 0.0383\n",
      "Epoch 25 Batch 700 Loss 0.0462\n",
      "Epoch 25 Batch 800 Loss 0.0491\n",
      "Epoch 25 Batch 900 Loss 0.0658\n",
      "Epoch 25 Batch 1000 Loss 0.0480\n",
      "Epoch 25 Batch 1100 Loss 0.0611\n",
      "Epoch 25 Batch 1200 Loss 0.0629\n",
      "Epoch 25 Loss 0.0514\n",
      "Time taken for 1 epoch 1431.8189198970795 sec\n",
      "\n",
      "Epoch 26 Batch 0 Loss 0.0293\n",
      "Epoch 26 Batch 100 Loss 0.0399\n",
      "Epoch 26 Batch 200 Loss 0.0301\n",
      "Epoch 26 Batch 300 Loss 0.0340\n",
      "Epoch 26 Batch 400 Loss 0.0360\n",
      "Epoch 26 Batch 500 Loss 0.0610\n",
      "Epoch 26 Batch 600 Loss 0.0614\n",
      "Epoch 26 Batch 700 Loss 0.0537\n",
      "Epoch 26 Batch 800 Loss 0.0510\n",
      "Epoch 26 Batch 900 Loss 0.0599\n",
      "Epoch 26 Batch 1000 Loss 0.0867\n",
      "Epoch 26 Batch 1100 Loss 0.0669\n",
      "Epoch 26 Batch 1200 Loss 0.0464\n",
      "Epoch 26 Loss 0.0511\n",
      "Time taken for 1 epoch 1381.644901752472 sec\n",
      "\n",
      "Epoch 27 Batch 0 Loss 0.0326\n",
      "Epoch 27 Batch 100 Loss 0.0695\n",
      "Epoch 27 Batch 200 Loss 0.0567\n",
      "Epoch 27 Batch 300 Loss 0.0812\n",
      "Epoch 27 Batch 400 Loss 0.0757\n",
      "Epoch 27 Batch 500 Loss 0.0834\n",
      "Epoch 27 Batch 600 Loss 0.0444\n",
      "Epoch 27 Batch 700 Loss 0.0282\n",
      "Epoch 27 Batch 800 Loss 0.0487\n",
      "Epoch 27 Batch 900 Loss 0.0660\n",
      "Epoch 27 Batch 1000 Loss 0.0438\n",
      "Epoch 27 Batch 1100 Loss 0.0420\n",
      "Epoch 27 Batch 1200 Loss 0.0532\n",
      "Epoch 27 Loss 0.0500\n",
      "Time taken for 1 epoch 1383.9198439121246 sec\n",
      "\n",
      "Epoch 28 Batch 0 Loss 0.0326\n",
      "Epoch 28 Batch 100 Loss 0.0378\n",
      "Epoch 28 Batch 200 Loss 0.0467\n",
      "Epoch 28 Batch 300 Loss 0.0312\n",
      "Epoch 28 Batch 400 Loss 0.0209\n",
      "Epoch 28 Batch 500 Loss 0.0352\n",
      "Epoch 28 Batch 600 Loss 0.0429\n",
      "Epoch 28 Batch 700 Loss 0.0564\n",
      "Epoch 28 Batch 800 Loss 0.0426\n",
      "Epoch 28 Batch 900 Loss 0.0577\n",
      "Epoch 28 Batch 1000 Loss 0.0487\n",
      "Epoch 28 Batch 1100 Loss 0.0548\n",
      "Epoch 28 Batch 1200 Loss 0.0907\n",
      "Epoch 28 Loss 0.0489\n",
      "Time taken for 1 epoch 1430.2570950984955 sec\n",
      "\n",
      "Epoch 29 Batch 0 Loss 0.0513\n",
      "Epoch 29 Batch 100 Loss 0.0371\n",
      "Epoch 29 Batch 200 Loss 0.0310\n",
      "Epoch 29 Batch 300 Loss 0.0545\n",
      "Epoch 29 Batch 400 Loss 0.0459\n",
      "Epoch 29 Batch 500 Loss 0.0291\n",
      "Epoch 29 Batch 600 Loss 0.0473\n",
      "Epoch 29 Batch 700 Loss 0.0890\n",
      "Epoch 29 Batch 800 Loss 0.0602\n",
      "Epoch 29 Batch 900 Loss 0.0198\n",
      "Epoch 29 Batch 1000 Loss 0.0610\n",
      "Epoch 29 Batch 1100 Loss 0.0612\n",
      "Epoch 29 Batch 1200 Loss 0.0526\n",
      "Epoch 29 Loss 0.0497\n",
      "Time taken for 1 epoch 1456.937313079834 sec\n",
      "\n",
      "Epoch 30 Batch 0 Loss 0.0361\n",
      "Epoch 30 Batch 100 Loss 0.0504\n",
      "Epoch 30 Batch 200 Loss 0.0413\n",
      "Epoch 30 Batch 300 Loss 0.0440\n",
      "Epoch 30 Batch 400 Loss 0.0399\n",
      "Epoch 30 Batch 500 Loss 0.0468\n",
      "Epoch 30 Batch 600 Loss 0.0344\n",
      "Epoch 30 Batch 700 Loss 0.0437\n",
      "Epoch 30 Batch 800 Loss 0.0623\n",
      "Epoch 30 Batch 900 Loss 0.0431\n",
      "Epoch 30 Batch 1000 Loss 0.0764\n",
      "Epoch 30 Batch 1100 Loss 0.0382\n",
      "Epoch 30 Batch 1200 Loss 0.0308\n",
      "Epoch 30 Loss 0.0485\n",
      "Time taken for 1 epoch 1435.838721036911 sec\n",
      "\n"
     ]
    }
   ],
   "source": [
    "EPOCHS = 30\n",
    "\n",
    "for epoch in range(EPOCHS):\n",
    "    start = time.time()\n",
    "    enc_hidden = encoder.initialize_hidden_state()\n",
    "    total_loss = 0\n",
    "\n",
    "    for (batch, (inp, targ)) in enumerate(dataset.take(steps_per_epoch)):\n",
    "        batch_loss = train_step_att(inp, targ, enc_hidden)\n",
    "        total_loss += batch_loss\n",
    "        if batch % 100 == 0:\n",
    "            print('Epoch {} Batch {} Loss {:.4f}'.format(epoch + 1,\n",
    "                                                       batch,\n",
    "                                                       batch_loss.numpy()))\n",
    "    if (epoch + 1) % 2 == 0:\n",
    "        checkpoint.save(file_prefix = checkpoint_prefix)\n",
    "\n",
    "    print('Epoch {} Loss {:.4f}'.format(epoch + 1,\n",
    "                                      total_loss / steps_per_epoch))\n",
    "    print('Time taken for 1 epoch {} sec\\n'.format(time.time() - start))"
   ]
  },
  {
   "cell_type": "code",
   "execution_count": 33,
   "metadata": {},
   "outputs": [],
   "source": [
    "def evaluate_attention(sentence):\n",
    "    attention_plot = np.zeros((max_length_targ, max_length_inp))\n",
    "    sentence = preprocess_sentence(sentence)\n",
    "    inputs = [inp_lang.word_index[i] for i in sentence.split(' ')]\n",
    "    inputs = tf.keras.preprocessing.sequence.pad_sequences([inputs],\n",
    "                                                         maxlen=max_length_inp,\n",
    "                                                         padding='post')\n",
    "    inputs = tf.convert_to_tensor(inputs)\n",
    "\n",
    "    result = ''\n",
    "    hidden = [tf.zeros((1, units))]\n",
    "    enc_out, enc_hidden = encoder(inputs, hidden)\n",
    "    dec_hidden = enc_hidden\n",
    "    dec_input = tf.expand_dims([targ_lang.word_index['<start>']], 0)\n",
    "\n",
    "    for t in range(max_length_targ):\n",
    "        predictions, dec_hidden, attention_weights = decoder(dec_input,\n",
    "                                                         dec_hidden,\n",
    "                                                         enc_out)\n",
    "\n",
    "        attention_weights = tf.reshape(attention_weights, (-1, ))\n",
    "        attention_plot[t] = attention_weights.numpy()\n",
    "        predicted_id = tf.argmax(predictions[0]).numpy()\n",
    "        result += targ_lang.index_word[predicted_id] + ' '\n",
    "\n",
    "        if targ_lang.index_word[predicted_id] == '<end>':\n",
    "            return result, sentence, attention_plot\n",
    "\n",
    "        dec_input = tf.expand_dims([predicted_id], 0)\n",
    "\n",
    "    return result, sentence, attention_plot\n"
   ]
  },
  {
   "cell_type": "code",
   "execution_count": 34,
   "metadata": {},
   "outputs": [],
   "source": [
    "def plot_attention(attention, sentence, predicted_sentence):\n",
    "    fig = plt.figure(figsize=(10,10))\n",
    "    ax = fig.add_subplot(1, 1, 1)\n",
    "    ax.matshow(attention, cmap='viridis')\n",
    "    fontdict = {'fontsize': 14}\n",
    "    ax.set_xticklabels([''] + sentence, fontdict=fontdict, rotation=90)\n",
    "    ax.set_yticklabels([''] + predicted_sentence, fontdict=fontdict)\n",
    "    ax.xaxis.set_major_locator(ticker.MultipleLocator(1))\n",
    "    ax.yaxis.set_major_locator(ticker.MultipleLocator(1))\n",
    "    plt.show()"
   ]
  },
  {
   "cell_type": "code",
   "execution_count": 35,
   "metadata": {},
   "outputs": [],
   "source": [
    "def translate_attention(sentence):\n",
    "    result, sentence, attention_plot = evaluate_attention(sentence)\n",
    "    print('Input: %s' % (sentence))\n",
    "    print('Predicted translation: {}'.format(result))\n",
    "\n",
    "    attention_plot = attention_plot[:len(result.split(' ')), :len(sentence.split(' '))]\n",
    "    plot_attention(attention_plot, sentence.split(' '), result.split(' '))"
   ]
  },
  {
   "cell_type": "code",
   "execution_count": 36,
   "metadata": {},
   "outputs": [
    {
     "data": {
      "text/plain": [
       "<tensorflow.python.checkpoint.checkpoint.CheckpointLoadStatus at 0x163c19390>"
      ]
     },
     "execution_count": 36,
     "metadata": {},
     "output_type": "execute_result"
    }
   ],
   "source": [
    "checkpoint.restore(tf.train.latest_checkpoint(checkpoint_dir))"
   ]
  },
  {
   "cell_type": "code",
   "execution_count": 37,
   "metadata": {},
   "outputs": [
    {
     "name": "stdout",
     "output_type": "stream",
     "text": [
      "Input: <start> сегодня нет дождя . <end>\n",
      "Predicted translation: it isn't raining today . <end> \n"
     ]
    },
    {
     "name": "stderr",
     "output_type": "stream",
     "text": [
      "/var/folders/hp/hkxqgbzn6rq8m4_rb6kgzr1c0000gn/T/ipykernel_2449/1344664323.py:6: UserWarning: FixedFormatter should only be used together with FixedLocator\n",
      "  ax.set_xticklabels([''] + sentence, fontdict=fontdict, rotation=90)\n",
      "/var/folders/hp/hkxqgbzn6rq8m4_rb6kgzr1c0000gn/T/ipykernel_2449/1344664323.py:7: UserWarning: FixedFormatter should only be used together with FixedLocator\n",
      "  ax.set_yticklabels([''] + predicted_sentence, fontdict=fontdict)\n"
     ]
    },
    {
     "data": {
      "image/png": "[encoded data removed]",
      "text/plain": [
       "<Figure size 1000x1000 with 1 Axes>"
      ]
     },
     "metadata": {},
     "output_type": "display_data"
    }
   ],
   "source": [
    "translate_attention('Сегодня нет дождя.')"
   ]
  },
  {
   "cell_type": "code",
   "execution_count": 38,
   "metadata": {},
   "outputs": [
    {
     "name": "stdout",
     "output_type": "stream",
     "text": [
      "Input: <start> сегодня нет дождя , светит солнце . <end>\n",
      "Predicted translation: it's not home today . <end> \n"
     ]
    },
    {
     "name": "stderr",
     "output_type": "stream",
     "text": [
      "/var/folders/hp/hkxqgbzn6rq8m4_rb6kgzr1c0000gn/T/ipykernel_2449/1344664323.py:6: UserWarning: FixedFormatter should only be used together with FixedLocator\n",
      "  ax.set_xticklabels([''] + sentence, fontdict=fontdict, rotation=90)\n",
      "/var/folders/hp/hkxqgbzn6rq8m4_rb6kgzr1c0000gn/T/ipykernel_2449/1344664323.py:7: UserWarning: FixedFormatter should only be used together with FixedLocator\n",
      "  ax.set_yticklabels([''] + predicted_sentence, fontdict=fontdict)\n"
     ]
    },
    {
     "data": {
      "image/png": "[encoded data removed]",
      "text/plain": [
       "<Figure size 1000x1000 with 1 Axes>"
      ]
     },
     "metadata": {},
     "output_type": "display_data"
    }
   ],
   "source": [
    "translate_attention('Сегодня нет дождя, светит солнце.')"
   ]
  },
  {
   "cell_type": "code",
   "execution_count": 39,
   "metadata": {},
   "outputs": [
    {
     "name": "stdout",
     "output_type": "stream",
     "text": [
      "Input: <start> сегодня нет дождя , светит солнце , но есть маленькие облака . <end>\n",
      "Predicted translation: it's not worse today is today . <end> \n"
     ]
    },
    {
     "name": "stderr",
     "output_type": "stream",
     "text": [
      "/var/folders/hp/hkxqgbzn6rq8m4_rb6kgzr1c0000gn/T/ipykernel_2449/1344664323.py:6: UserWarning: FixedFormatter should only be used together with FixedLocator\n",
      "  ax.set_xticklabels([''] + sentence, fontdict=fontdict, rotation=90)\n",
      "/var/folders/hp/hkxqgbzn6rq8m4_rb6kgzr1c0000gn/T/ipykernel_2449/1344664323.py:7: UserWarning: FixedFormatter should only be used together with FixedLocator\n",
      "  ax.set_yticklabels([''] + predicted_sentence, fontdict=fontdict)\n"
     ]
    },
    {
     "data": {
      "image/png": "[encoded data removed]",
      "text/plain": [
       "<Figure size 1000x1000 with 1 Axes>"
      ]
     },
     "metadata": {},
     "output_type": "display_data"
    }
   ],
   "source": [
    "translate_attention('Сегодня нет дождя, светит солнце, но есть маленькие облака.')"
   ]
  },
  {
   "cell_type": "markdown",
   "metadata": {},
   "source": [
    "В целом модель не показывает конструктивных улучшений качества перевода по сранению с моделью без внимания. Возможно требуется больше обучения"
   ]
  },
  {
   "cell_type": "code",
   "execution_count": null,
   "metadata": {},
   "outputs": [],
   "source": []
  }
 ],
 "metadata": {
  "colab": {
   "collapsed_sections": [
    "gJABxhalLVQu",
    "IaQMCGHFLVQ6",
    "5AJk1B39LVRP",
    "RJlvqWuALVRs",
    "rck5OVqhLVSA",
    "mV3fmzp-LVSU",
    "H5THCOjMLVSg",
    "02s2Vh7MLVSj",
    "b1khxRFDLVSm",
    "sfUmWcAQLVSt",
    "BxvtN-3zLVS5",
    "gyrHhYkgLVTB"
   ],
   "name": "sem1_intro_common.ipynb",
   "provenance": []
  },
  "kernelspec": {
   "display_name": "Python 3 (ipykernel)",
   "language": "python",
   "name": "python3"
  },
  "language_info": {
   "codemirror_mode": {
    "name": "ipython",
    "version": 3
   },
   "file_extension": ".py",
   "mimetype": "text/x-python",
   "name": "python",
   "nbconvert_exporter": "python",
   "pygments_lexer": "ipython3",
   "version": "3.10.8"
  }
 },
 "nbformat": 4,
 "nbformat_minor": 4
}
