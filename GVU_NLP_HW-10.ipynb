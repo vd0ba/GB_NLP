{
 "cells": [
  {
   "cell_type": "markdown",
   "id": "6555c6d7-4321-4645-aadc-0e316ae8a391",
   "metadata": {},
   "source": [
    "## Практическое задание к уроку 10 по теме \"Машинный перевод. Модель seq2seq и механизм внимания\"."
   ]
  },
  {
   "cell_type": "markdown",
   "id": "f6ed96de-a227-465f-a55b-710abd3ffdf4",
   "metadata": {},
   "source": [
    "*Разобраться с моделью перевода (без механизма внимания) как она устроена, запустить для перевода с русского на английский (при желании можно взять другие пары языков)*"
   ]
  },
  {
   "cell_type": "markdown",
   "id": "e7fb742f-8c1f-43bb-b3d4-79bd57de33c5",
   "metadata": {},
   "source": [
    "В данном практическом задании напишу и обучу модель перевода с русского на английский  \n",
    "на библиотеке pytorch. Добавлю в неё механизм внимания, так как это сложнее и интереснее,  \n",
    "а также рекуррентную сеть энкодера сделаю двунаправленной."
   ]
  },
  {
   "cell_type": "markdown",
   "id": "8430bfa8-91a8-44b0-a7ec-fd6084d14344",
   "metadata": {},
   "source": [
    "Загрузим библиотеки:"
   ]
  },
  {
   "cell_type": "code",
   "execution_count": 1,
   "id": "89a82c6c-72f3-43cc-8df3-561c61602564",
   "metadata": {},
   "outputs": [],
   "source": [
    "%matplotlib inline\n",
    "\n",
    "import matplotlib.pyplot as plt\n",
    "import numpy as np\n",
    "import re\n",
    "from time import time\n",
    "import torch\n",
    "from torch import nn"
   ]
  },
  {
   "cell_type": "code",
   "execution_count": 2,
   "id": "8222d122-f2b4-49f1-84d4-a67cf007139b",
   "metadata": {},
   "outputs": [],
   "source": [
    "RANDOM_STATE = 29"
   ]
  },
  {
   "cell_type": "markdown",
   "id": "3596c418-ce3e-4fb5-a4ce-072ee53e76f5",
   "metadata": {},
   "source": [
    "Напишем функцию для обработки текстов:"
   ]
  },
  {
   "cell_type": "code",
   "execution_count": 3,
   "id": "78ea0908-6163-4238-b65d-350195b055c9",
   "metadata": {},
   "outputs": [],
   "source": [
    "def preprocess_sentence(w):\n",
    "    \n",
    "    # Приведение к нижнему регистру, удаление пробельных символов по краям\n",
    "    w = w.lower().strip()\n",
    "\n",
    "    # Обрамление пунктуации пробелами\n",
    "    w = re.sub(\"([?.!,;])\", r\" \\1 \", w)\n",
    "\n",
    "    # Заменяем всё, не являющееся буквами и наиболее частой пунктуацией, пробелами.\n",
    "    # Также в тексте есть гласные с расставленными ударениями, не будем их терять\n",
    "    w = re.sub(\"[^a-zA-Zа-яА-ЯёЁÁáÓóÉéýи́ы́э́ю́я́?.!,;']+\", \" \", w)\n",
    "    w = w.strip()\n",
    "    \n",
    "    # Добавим обозначения начала и конца строки\n",
    "    # На момент сдачи ДЗ github не отображает строки индексов начала и конца предложения start и end\n",
    "    w = '<start> ' + w + ' <end>'\n",
    "    \n",
    "    return w"
   ]
  },
  {
   "cell_type": "markdown",
   "id": "f469bc00-567c-482e-836c-ad4882a99b02",
   "metadata": {},
   "source": [
    "Загрузим текст для обучения:"
   ]
  },
  {
   "cell_type": "code",
   "execution_count": 4,
   "id": "667828a4-2bfb-4068-8cc9-7343bd72780d",
   "metadata": {},
   "outputs": [],
   "source": [
    "with open('../../Теория/Lesson_10/data/rus.txt', 'r', encoding='utf-8') as f:\n",
    "    lines = f.read().strip().split('\\n')\n",
    "    \n",
    "word_pairs = [[preprocess_sentence(w) for w in l.split('\\t')[:2]]  for l in lines]\n",
    "\n",
    "y_lang, x_lang = zip(*word_pairs)"
   ]
  },
  {
   "cell_type": "code",
   "execution_count": 5,
   "id": "4452e636-5b2b-4353-98c2-8e11a834397a",
   "metadata": {},
   "outputs": [
    {
     "name": "stdout",
     "output_type": "stream",
     "text": [
      "<start> марш ! <end>\n",
      "<start> go . <end>\n"
     ]
    }
   ],
   "source": [
    "print(x_lang[0]) \n",
    "print(y_lang[0])"
   ]
  },
  {
   "cell_type": "code",
   "execution_count": 6,
   "id": "a5ccf417-81e6-4f5b-9b79-9171ccac1846",
   "metadata": {},
   "outputs": [
    {
     "data": {
      "text/plain": [
       "(451436, 451436)"
      ]
     },
     "execution_count": 6,
     "metadata": {},
     "output_type": "execute_result"
    }
   ],
   "source": [
    "len(x_lang), len(y_lang)"
   ]
  },
  {
   "cell_type": "markdown",
   "id": "90b486d6-5dd6-4823-b25a-9d5d4d09f4ff",
   "metadata": {},
   "source": [
    "По сравнению с уроком, оставлю все строки текста для более  \n",
    "качественного обучения."
   ]
  },
  {
   "cell_type": "markdown",
   "id": "aaacbc4b-82ac-4017-a705-b22a505bc492",
   "metadata": {},
   "source": [
    "Напишем функцию для подготовки словарей маппинга:"
   ]
  },
  {
   "cell_type": "code",
   "execution_count": 7,
   "id": "2906a4ee-43b5-410f-aef1-2820446cc03a",
   "metadata": {},
   "outputs": [],
   "source": [
    "def get_vocabs(lang):\n",
    "    corpus = ' '.join(w for w in lang)\n",
    "    vocab = set(corpus.split())\n",
    "    char2idx = {w: i for i, w in enumerate(vocab, 1)}\n",
    "    idx2char = {i: w for w, i in char2idx.items()}\n",
    "    \n",
    "    return char2idx, idx2char, len(vocab) + 1"
   ]
  },
  {
   "cell_type": "markdown",
   "id": "cc51dbf3-6136-4661-88ec-e3971823ee70",
   "metadata": {},
   "source": [
    "Подготовим словари для обоих языков:"
   ]
  },
  {
   "cell_type": "code",
   "execution_count": 8,
   "id": "af6cc293-796b-4a1e-97a8-40a023a8dc16",
   "metadata": {},
   "outputs": [],
   "source": [
    "x_char2idx, x_idx2char, x_vocab_size = get_vocabs(x_lang)\n",
    "y_char2idx, y_idx2char, y_vocab_size = get_vocabs(y_lang)"
   ]
  },
  {
   "cell_type": "markdown",
   "id": "3d432059-9488-495a-a3e2-abe93b3b4685",
   "metadata": {},
   "source": [
    "Посмотрим на распределение длин предложений для выбора фиксированной  \n",
    "длины:"
   ]
  },
  {
   "cell_type": "code",
   "execution_count": 9,
   "id": "bb31a846-8af3-4895-b2f0-d829073658ac",
   "metadata": {},
   "outputs": [
    {
     "data": {
      "image/png": "[encoded data removed]",
      "text/plain": [
       "<Figure size 1000x400 with 2 Axes>"
      ]
     },
     "metadata": {},
     "output_type": "display_data"
    }
   ],
   "source": [
    "plt.figure(figsize=(10, 4))\n",
    "\n",
    "plt.subplot(1, 2, 1)\n",
    "plt.hist([len(x.split()) for x in x_lang], bins=50)\n",
    "plt.title('x_vocab')\n",
    "\n",
    "plt.subplot(1, 2, 2)\n",
    "plt.hist([len(y.split()) for y in y_lang], bins=50)\n",
    "plt.title('y_vocab')\n",
    "\n",
    "plt.show()"
   ]
  },
  {
   "cell_type": "markdown",
   "id": "ece82ff7-838b-4d5f-a2ae-7de273314f04",
   "metadata": {},
   "source": [
    "Длины 20 должно хватить для текстов на обоих языках:"
   ]
  },
  {
   "cell_type": "code",
   "execution_count": 10,
   "id": "830a2f8b-3c23-441e-801c-f963ffb69e1c",
   "metadata": {},
   "outputs": [],
   "source": [
    "MAX_LEN = 20"
   ]
  },
  {
   "cell_type": "markdown",
   "id": "c4709407-fe6c-4771-80b6-d5a08894acce",
   "metadata": {},
   "source": [
    "Переведём тексты в последовательности индексов фиксированной  \n",
    "длины:"
   ]
  },
  {
   "cell_type": "code",
   "execution_count": 11,
   "id": "49d87d8a-ba71-4ebd-90d2-15a9ad1fc681",
   "metadata": {},
   "outputs": [],
   "source": [
    "def text_to_seq(text, vocab):\n",
    "    seq = []\n",
    "    for token in text.split():\n",
    "        if token in vocab:\n",
    "            seq.append(vocab[token])\n",
    "    padding = [0] * (MAX_LEN - len(seq))\n",
    "    return seq[:MAX_LEN] + padding"
   ]
  },
  {
   "cell_type": "code",
   "execution_count": 12,
   "id": "7a4e0767-0157-4326-b630-346e9f9f81ea",
   "metadata": {},
   "outputs": [],
   "source": [
    "X = np.array([text_to_seq(text, x_char2idx) for text in x_lang])\n",
    "Y = np.array([text_to_seq(text, y_char2idx) for text in y_lang])"
   ]
  },
  {
   "cell_type": "code",
   "execution_count": 13,
   "id": "e54afd59-19b0-45ed-8b48-16298031ed55",
   "metadata": {},
   "outputs": [
    {
     "data": {
      "text/plain": [
       "array([[35561,  3718, 29947, ...,     0,     0,     0],\n",
       "       [35561, 54427, 39683, ...,     0,     0,     0],\n",
       "       [35561, 29261, 39683, ...,     0,     0,     0],\n",
       "       ...,\n",
       "       [35561, 25817, 19729, ...,  1447, 36934, 22803],\n",
       "       [35561, 40351, 24722, ..., 49237, 18724, 45154],\n",
       "       [35561, 56694, 45154, ..., 11866, 46687,  3719]])"
      ]
     },
     "execution_count": 13,
     "metadata": {},
     "output_type": "execute_result"
    }
   ],
   "source": [
    "X"
   ]
  },
  {
   "cell_type": "code",
   "execution_count": 14,
   "id": "d6fca3ea-d69c-4731-9a08-151992d6922f",
   "metadata": {},
   "outputs": [
    {
     "data": {
      "text/plain": [
       "array([[ 7974,  7227, 13050, ...,     0,     0,     0],\n",
       "       [ 7974,  7227, 13050, ...,     0,     0,     0],\n",
       "       [ 7974,  7227, 13050, ...,     0,     0,     0],\n",
       "       ...,\n",
       "       [ 7974,  2266, 16237, ...,  7013,  4935, 16026],\n",
       "       [ 7974,  4011,  7892, ..., 12074,  4415,  4029],\n",
       "       [ 7974,  4799, 16237, ..., 14649, 15258, 10471]])"
      ]
     },
     "execution_count": 14,
     "metadata": {},
     "output_type": "execute_result"
    }
   ],
   "source": [
    "Y"
   ]
  },
  {
   "cell_type": "markdown",
   "id": "c325f234-39a2-4bef-815a-6039cc8062e7",
   "metadata": {},
   "source": [
    "Напишем стандартный класс датасета и обернём его в даталоадер:"
   ]
  },
  {
   "cell_type": "code",
   "execution_count": 15,
   "id": "a6ed9dcd-4789-49a1-b900-1d2086850330",
   "metadata": {},
   "outputs": [],
   "source": [
    "class DataWrapper(torch.utils.data.Dataset):\n",
    "    def __init__(self, data, target):\n",
    "        self.data = torch.from_numpy(data)\n",
    "        self.target = torch.from_numpy(target)\n",
    "        \n",
    "    def __getitem__(self, index):\n",
    "        x = self.data[index]\n",
    "        y = self.target[index]\n",
    "            \n",
    "        return x, y\n",
    "    \n",
    "    def __len__(self):\n",
    "        return len(self.data)"
   ]
  },
  {
   "cell_type": "code",
   "execution_count": 16,
   "id": "2a44c7a6-8043-4c98-b5a2-952ab00820f0",
   "metadata": {},
   "outputs": [],
   "source": [
    "BATCH_SIZE = 128"
   ]
  },
  {
   "cell_type": "code",
   "execution_count": 17,
   "id": "d3a01efd-1d02-4a9d-a0a8-74944febbc7f",
   "metadata": {},
   "outputs": [],
   "source": [
    "torch.random.manual_seed(RANDOM_STATE)\n",
    "\n",
    "dataset = DataWrapper(X, Y)\n",
    "\n",
    "loader = torch.utils.data.DataLoader(dataset,\n",
    "                                     batch_size=BATCH_SIZE,\n",
    "                                     shuffle=True)"
   ]
  },
  {
   "cell_type": "code",
   "execution_count": 18,
   "id": "8284079c-90ac-41ac-9839-c64e7443f4c2",
   "metadata": {},
   "outputs": [
    {
     "data": {
      "text/plain": [
       "'cuda'"
      ]
     },
     "execution_count": 18,
     "metadata": {},
     "output_type": "execute_result"
    }
   ],
   "source": [
    "device = 'cuda' if torch.cuda.is_available() else 'cpu'\n",
    "device"
   ]
  },
  {
   "cell_type": "markdown",
   "id": "b9444e92-061e-4350-9d92-e31870b31472",
   "metadata": {},
   "source": [
    "Теперь напишем классы сети. Начнём со слоя внимания:"
   ]
  },
  {
   "cell_type": "code",
   "execution_count": 19,
   "id": "2955dba3-c8bb-422a-884a-9b1e49ff8ff4",
   "metadata": {},
   "outputs": [],
   "source": [
    "class AttentionLayer(nn.Module):\n",
    "    def __init__(self, units=32, hidden_size=512):\n",
    "        super().__init__()\n",
    "        \n",
    "        # Переводим векторы скрытых состояний в векторы одинаковой длины\n",
    "        # с помощью линейных слоёв\n",
    "        self.W1 = nn.Linear(hidden_size, units)\n",
    "        \n",
    "        # Так как рекуррентная сеть энкодера двунаправленная,  \n",
    "        # то вектор скрытого состояния у неё удвоенной длины\n",
    "        self.W2 = nn.Linear(2 * hidden_size, units)\n",
    "        \n",
    "        # По итогу, для каждого токена, приходящего на энкодер \n",
    "        # будем получать одну оценку внимания\n",
    "        self.V = nn.Linear(units, 1)\n",
    "        \n",
    "    def forward(self, dec_hidden, enc_output):\n",
    "        \n",
    "        # Оценка каждого токена, поступающего на энкодер, исходя из близости состояния  \n",
    "        # соответствующей ячейки рекуррентной сети энкодера и текущего состояния декодера\n",
    "        score = self.V(torch.tanh(self.W1(dec_hidden) + self.W2(enc_output))) # (batch_size, MAX_LEN, 1)\n",
    "        \n",
    "        # Нормализуем оценку софтмаксом, получим веса\n",
    "        attention_weights = torch.softmax(score, dim=1) # (batch_size, MAX_LEN, 1)\n",
    "        \n",
    "        # Умножим веса на выходы соответствующих ячеек энкодера, получим взвешенные векторы  \n",
    "        # контекста для каждой ячейки. Затем сложим все эти векторы, получим своеобразный  \n",
    "        # взвешенный эмбеддинг всего предложения\n",
    "        context_vector = attention_weights * enc_output # (batch_size, MAX_LEN, 2 * hidden_size)\n",
    "        context_vector = torch.sum(context_vector, dim=1, keepdim=True) # (batch_size, 1, 2 * hidden_size)\n",
    "        return context_vector"
   ]
  },
  {
   "cell_type": "markdown",
   "id": "5034bde9-7b6c-443a-909a-e5cf6035bd71",
   "metadata": {},
   "source": [
    "Напишем энкодер, слой GRU двунаправленный:"
   ]
  },
  {
   "cell_type": "code",
   "execution_count": 20,
   "id": "356460b2-35fe-43d4-b58c-91894104801b",
   "metadata": {},
   "outputs": [],
   "source": [
    "class Encoder(nn.Module):\n",
    "    def __init__(self, embed_dim=256, hidden_size=512):\n",
    "        super().__init__()\n",
    "        self.embedding = nn.Embedding(x_vocab_size, embed_dim, padding_idx=0)\n",
    "        self.gru = nn.GRU(embed_dim, hidden_size, bidirectional=True, batch_first=True)\n",
    "    \n",
    "    def forward(self, x):\n",
    "\n",
    "        x = self.embedding(x)\n",
    "        output, state = self.gru(x)\n",
    "        \n",
    "        # Так как далее мы передаём вектор скрытого состояния  \n",
    "        # на декодер, а рекуррентная сеть декодера - однонаправленная,  \n",
    "        # чтобы не \"заглядывать\" в будущее, то нужно привести резмерность  \n",
    "        # вектора к однонаправленной. Для этого будем брать максимальные  \n",
    "        # значения из обоих направлений\n",
    "        state, _ = torch.max(state, dim=0, keepdim=True)\n",
    "        \n",
    "        return output, state"
   ]
  },
  {
   "cell_type": "markdown",
   "id": "7d723293-2668-4ed9-b496-bfbe5aacc356",
   "metadata": {},
   "source": [
    "Напишем декодер. Слой GRU принимает на вход сконкатенированный вектор,  \n",
    "состоящий из эмбеддинга входящего токена и вектора контекста после слоя внимания."
   ]
  },
  {
   "cell_type": "code",
   "execution_count": 21,
   "id": "59323a25-7738-4b2b-9ff2-0da4e17dd86a",
   "metadata": {},
   "outputs": [],
   "source": [
    "class Decoder(nn.Module):\n",
    "    def __init__(self, attention_units=32, embed_dim=256, hidden_size=512):\n",
    "        super().__init__()\n",
    "        self.attention = AttentionLayer(units=attention_units, hidden_size=hidden_size)\n",
    "        self.embedding = nn.Embedding(y_vocab_size, embed_dim, padding_idx=0)\n",
    "        self.gru = nn.GRU(embed_dim + 2 * hidden_size, hidden_size, batch_first=True)\n",
    "        self.fc = nn.Linear(hidden_size, y_vocab_size)\n",
    "        \n",
    "    def forward(self, x, state, enc_output):\n",
    "        state = state.permute(1, 0, 2)\n",
    "        context_vector = self.attention(state, enc_output)\n",
    "        x = self.embedding(x)\n",
    "        x = torch.cat((context_vector, x), dim=-1)\n",
    "        output, state = self.gru(x)\n",
    "        output = torch.squeeze(output)\n",
    "        output = self.fc(output)\n",
    "        \n",
    "        return output, state"
   ]
  },
  {
   "cell_type": "markdown",
   "id": "584dd05b-ac39-4963-a32b-37eb248ab675",
   "metadata": {},
   "source": [
    "Напишем функцию обучения сети:"
   ]
  },
  {
   "cell_type": "code",
   "execution_count": 22,
   "id": "96f39432-34ee-426b-91ea-b738fd771802",
   "metadata": {},
   "outputs": [],
   "source": [
    "def train_nn(epochs=5, embed_dim=256, hidden_dim=512, lr=1e-3):\n",
    "    \n",
    "    torch.random.manual_seed(RANDOM_STATE)\n",
    "    torch.backends.cudnn.deterministic = True\n",
    "\n",
    "    encoder = Encoder(embed_dim=embed_dim, hidden_size=hidden_dim).to(device)\n",
    "    decoder = Decoder(embed_dim=embed_dim, hidden_size=hidden_dim).to(device)\n",
    "\n",
    "    param_groups = [\n",
    "    {'params': encoder.parameters(), 'lr': lr},\n",
    "    {'params': decoder.parameters(), 'lr': lr}\n",
    "]\n",
    "    optimizer = torch.optim.Adam(param_groups)\n",
    "    criterion = nn.CrossEntropyLoss()\n",
    "\n",
    "    for epoch in range(epochs):\n",
    "        \n",
    "        start_time = time()\n",
    "        batch_losses = np.array([])\n",
    "        \n",
    "        for inputs, targets in loader:\n",
    "            loss = 0\n",
    "            inputs, targets = inputs.to(device), targets.to(device)\n",
    "            optimizer.zero_grad()\n",
    "            \n",
    "            enc_output, enc_hidden = encoder(inputs)\n",
    "            \n",
    "            # Первым входом декодера является индикатор начала предложения\n",
    "            # На момент сдачи ДЗ github не отображает строку индекса начала предложения start\n",
    "            dec_input = torch.IntTensor([y_char2idx['<start>']] * len(inputs)).reshape(-1, 1).to(device)\n",
    "            \n",
    "            # Первым вектором скрытого состояния декодера является последний  \n",
    "            # вектор скрытого состояния энкодера\n",
    "            dec_hidden = enc_hidden.detach().clone().requires_grad_(True)\n",
    "            \n",
    "            # Подаём на декодер токены по одному\n",
    "            for t in range(1, MAX_LEN):\n",
    "                preds, dec_hidden = decoder(dec_input, dec_hidden, enc_output)\n",
    "                loss += criterion(preds, targets[:, t])\n",
    "                \n",
    "                # Входами декодера будут являться фактические токены из \n",
    "                # обучающего текста, а не предсказанные\n",
    "                dec_input = targets[:, t].reshape(-1, 1)\n",
    "            \n",
    "            loss.backward()\n",
    "            optimizer.step()\n",
    "\n",
    "            batch_losses = np.append(batch_losses, loss.item() / t)\n",
    "\n",
    "        print(f'Epoch [{epoch + 1}/{epochs}]. ' \\\n",
    "              f'Loss: {batch_losses.mean():.3f}. ' \\\n",
    "              f'Time: {round(time() - start_time)} sec.')\n",
    "\n",
    "    print('Training is finished!')\n",
    "    return encoder, decoder"
   ]
  },
  {
   "cell_type": "markdown",
   "id": "638be91c-83a0-4626-b170-2545d459c6bc",
   "metadata": {},
   "source": [
    "Обучим сеть. Вернём энкодер и декодер, так как они оба потребуются  \n",
    "для перевода текстов:"
   ]
  },
  {
   "cell_type": "code",
   "execution_count": 23,
   "id": "7a3d6108-e53b-4b84-9b5f-1c8a67fb8dc7",
   "metadata": {},
   "outputs": [
    {
     "name": "stdout",
     "output_type": "stream",
     "text": [
      "Epoch [1/15]. Loss: 0.897. Time: 238 sec.\n",
      "Epoch [2/15]. Loss: 0.419. Time: 241 sec.\n",
      "Epoch [3/15]. Loss: 0.305. Time: 240 sec.\n",
      "Epoch [4/15]. Loss: 0.242. Time: 239 sec.\n",
      "Epoch [5/15]. Loss: 0.204. Time: 239 sec.\n",
      "Epoch [6/15]. Loss: 0.176. Time: 239 sec.\n",
      "Epoch [7/15]. Loss: 0.155. Time: 239 sec.\n",
      "Epoch [8/15]. Loss: 0.141. Time: 239 sec.\n",
      "Epoch [9/15]. Loss: 0.133. Time: 239 sec.\n",
      "Epoch [10/15]. Loss: 0.121. Time: 249 sec.\n",
      "Epoch [11/15]. Loss: 0.117. Time: 265 sec.\n",
      "Epoch [12/15]. Loss: 0.111. Time: 247 sec.\n",
      "Epoch [13/15]. Loss: 0.107. Time: 240 sec.\n",
      "Epoch [14/15]. Loss: 0.106. Time: 240 sec.\n",
      "Epoch [15/15]. Loss: 0.102. Time: 241 sec.\n",
      "Training is finished!\n"
     ]
    }
   ],
   "source": [
    "enc_model, dec_model = train_nn(epochs=15)"
   ]
  },
  {
   "cell_type": "markdown",
   "id": "d47fada1-a4be-4a69-98fd-1b2b5a552859",
   "metadata": {},
   "source": [
    "Напишем функцию для перевода:"
   ]
  },
  {
   "cell_type": "code",
   "execution_count": 24,
   "id": "53c95e70-ec71-4078-a9e0-d7a8d7572893",
   "metadata": {},
   "outputs": [],
   "source": [
    "def translate(ru_text):\n",
    "    with torch.no_grad():\n",
    "\n",
    "        en_text = ''\n",
    "\n",
    "        # Предобработаем входной текст\n",
    "        ru_text_processed = preprocess_sentence(ru_text)\n",
    "        \n",
    "        # Переводим входной текст в набор индексов фиксированной длины\n",
    "        ru_text_idx = torch.IntTensor([text_to_seq(ru_text_processed, x_char2idx)]).reshape(1, -1).to(device)\n",
    "        \n",
    "        enc_output, enc_hidden = enc_model(ru_text_idx)\n",
    "\n",
    "        dec_hidden = enc_hidden.detach().clone()\n",
    "        \n",
    "        # На момент сдачи ДЗ github не отображает строку индекса начала предложения start\n",
    "        dec_input = torch.IntTensor([y_char2idx['<start>']]).reshape(1, -1).to(device)\n",
    "\n",
    "        for t in range(MAX_LEN):\n",
    "            translated, dec_hidden = dec_model(dec_input, dec_hidden, enc_output)\n",
    "            \n",
    "            # Всегда берём наиболее вероятное слово. Для большего разнообразия \n",
    "            # и исключения закольцовывания сгенерированного текста можно использовать  \n",
    "            # температуру и взвешенную случайную выборку, как на прошлом уроке,  \n",
    "            # но это ещё больше усложнит код\n",
    "            en_idx = torch.argmax(translated)\n",
    "            \n",
    "            en_char = y_idx2char[en_idx.item()]\n",
    "            \n",
    "            # Прекращаем перевод при достижении индикатора конца предложения\n",
    "            # На момент сдачи ДЗ github не отображает строку индекса конца предложения end\n",
    "            if en_char == '<end>':\n",
    "                break\n",
    "                \n",
    "            en_text = en_text + en_char + ' '\n",
    "    \n",
    "            # На вход декодера подаём теперь предсказанные токены\n",
    "            dec_input = en_idx.reshape(1, -1)\n",
    "            \n",
    "    print(f'Текст на русском:\\t\\t{ru_text}\\n'\n",
    "          f'Его перевод на английский:\\t{en_text}')"
   ]
  },
  {
   "cell_type": "markdown",
   "id": "7a749f2f-46f8-4001-be8c-bcb71c6baaab",
   "metadata": {},
   "source": [
    "Визуально оценим качество модели:"
   ]
  },
  {
   "cell_type": "code",
   "execution_count": 25,
   "id": "f0221793-dd59-462c-bff7-81c619e991b0",
   "metadata": {},
   "outputs": [
    {
     "name": "stdout",
     "output_type": "stream",
     "text": [
      "Текст на русском:\t\tДоброе утро!\n",
      "Его перевод на английский:\tgood morning ! \n"
     ]
    }
   ],
   "source": [
    "translate('Доброе утро!')"
   ]
  },
  {
   "cell_type": "code",
   "execution_count": 26,
   "id": "ba5f78c1-031d-483d-942d-54cbf6248a2f",
   "metadata": {},
   "outputs": [
    {
     "name": "stdout",
     "output_type": "stream",
     "text": [
      "Текст на русском:\t\tПриятно познакомиться.\n",
      "Его перевод на английский:\tit's a pleasure to meet you . \n"
     ]
    }
   ],
   "source": [
    "translate('Приятно познакомиться.')"
   ]
  },
  {
   "cell_type": "code",
   "execution_count": 27,
   "id": "0a60e3c5-fbcd-4490-9d23-f36073d2b24f",
   "metadata": {},
   "outputs": [
    {
     "name": "stdout",
     "output_type": "stream",
     "text": [
      "Текст на русском:\t\tПомогите, пожалуйста!\n",
      "Его перевод на английский:\thelp me , please ! \n"
     ]
    }
   ],
   "source": [
    "translate('Помогите, пожалуйста!')"
   ]
  },
  {
   "cell_type": "code",
   "execution_count": 28,
   "id": "cd3ad919-e1eb-47f5-bd8d-54c1a2c89f23",
   "metadata": {},
   "outputs": [
    {
     "name": "stdout",
     "output_type": "stream",
     "text": [
      "Текст на русском:\t\tВы говорите по-русски?\n",
      "Его перевод на английский:\tdo you speak russian ? \n"
     ]
    }
   ],
   "source": [
    "translate('Вы говорите по-русски?')"
   ]
  },
  {
   "cell_type": "code",
   "execution_count": 29,
   "id": "7542346c-594b-4ec9-9db0-d3999db47458",
   "metadata": {},
   "outputs": [
    {
     "name": "stdout",
     "output_type": "stream",
     "text": [
      "Текст на русском:\t\tЧто нужно делать?\n",
      "Его перевод на английский:\twhat do you have to do ? \n"
     ]
    }
   ],
   "source": [
    "translate('Что нужно делать?')"
   ]
  },
  {
   "cell_type": "code",
   "execution_count": 30,
   "id": "00f9a850-bc1b-4cef-aa81-163620614cbf",
   "metadata": {},
   "outputs": [
    {
     "name": "stdout",
     "output_type": "stream",
     "text": [
      "Текст на русском:\t\tНа улице всё ещё идёт дождь.\n",
      "Его перевод на английский:\tit's still raining outside . \n"
     ]
    }
   ],
   "source": [
    "translate('На улице всё ещё идёт дождь.')"
   ]
  },
  {
   "cell_type": "code",
   "execution_count": 31,
   "id": "04b6b17f-8100-4845-92c8-f0e487218f43",
   "metadata": {},
   "outputs": [
    {
     "name": "stdout",
     "output_type": "stream",
     "text": [
      "Текст на русском:\t\tУ кого можно узнать, когда следующий поезд?\n",
      "Его перевод на английский:\tcan i have a minute , can the next train ? \n"
     ]
    }
   ],
   "source": [
    "translate('У кого можно узнать, когда следующий поезд?')"
   ]
  },
  {
   "cell_type": "code",
   "execution_count": 32,
   "id": "b14239b6-9e90-4620-a62d-3b01386ba1d8",
   "metadata": {},
   "outputs": [
    {
     "name": "stdout",
     "output_type": "stream",
     "text": [
      "Текст на русском:\t\tВселенная настолько велика, что ничего на свете не имеет значения!\n",
      "Его перевод на английский:\tthe jack of humor is anything worse ! \n"
     ]
    }
   ],
   "source": [
    "translate('Вселенная настолько велика, что ничего на свете не имеет значения!')"
   ]
  },
  {
   "cell_type": "markdown",
   "id": "bcadf369-7ce3-4053-aeb8-058b06e32810",
   "metadata": {},
   "source": [
    "С простыми фразами модель справилась хорошо. Фразы посложнее вызывают  \n",
    "определённые проблемы. Это может быть вызвано комбинацией следующих  \n",
    "причин:  \n",
    "- не хватило эпох обучения;  \n",
    "- недостатки архитектуры сети;  \n",
    "- \"бедность\" обучающего датасета;  \n",
    "- некачественная предобработка текста."
   ]
  },
  {
   "cell_type": "markdown",
   "id": "d822cfe1-6b55-43a6-8e6b-bfe5b73cf381",
   "metadata": {},
   "source": [
    "Несмотря на это, мы написали и обучили работающий переводчик  \n",
    "с русского на английский. Задача выполнена."
   ]
  }
 ],
 "metadata": {
  "kernelspec": {
   "display_name": "Python 3 (ipykernel)",
   "language": "python",
   "name": "python3"
  },
  "language_info": {
   "codemirror_mode": {
    "name": "ipython",
    "version": 3
   },
   "file_extension": ".py",
   "mimetype": "text/x-python",
   "name": "python",
   "nbconvert_exporter": "python",
   "pygments_lexer": "ipython3",
   "version": "3.9.13"
  }
 },
 "nbformat": 4,
 "nbformat_minor": 5
}
