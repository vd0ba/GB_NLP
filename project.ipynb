{
 "cells": [
  {
   "cell_type": "markdown",
   "id": "b36e3d7f-284b-40d7-b748-2f930451cfb9",
   "metadata": {
    "tags": []
   },
   "source": [
    "## QA intent"
   ]
  },
  {
   "cell_type": "markdown",
   "id": "9866b955-f792-4c24-a650-9e7f536f09ad",
   "metadata": {},
   "source": [
    "Загрузим библиотеки и датасеты:"
   ]
  },
  {
   "cell_type": "code",
   "execution_count": 3,
   "id": "ce8f5354-5930-400d-b37b-336e7504a086",
   "metadata": {},
   "outputs": [],
   "source": [
    "import annoy\n",
    "from datasets import Dataset\n",
    "import json\n",
    "import pandas as pd\n",
    "import torch\n",
    "from torchinfo import summary\n",
    "from transformers import AutoTokenizer, AutoModel"
   ]
  },
  {
   "cell_type": "code",
   "execution_count": 17,
   "id": "5ba8ae51-2fa2-4b16-9490-f41168e7b3d3",
   "metadata": {},
   "outputs": [],
   "source": [
    "with open('./data/RuBQ_2.0_dev.json', 'r') as f:\n",
    "    df = json.load(f)"
   ]
  },
  {
   "cell_type": "code",
   "execution_count": 18,
   "id": "0862d424-62fc-4e6b-a451-344176c011e7",
   "metadata": {},
   "outputs": [],
   "source": [
    "with open('./data/RuBQ_2.0_test.json', 'r') as f:\n",
    "    df_test = json.load(f)"
   ]
  },
  {
   "cell_type": "markdown",
   "id": "43e693be-e48b-4757-9b9f-565958272e8f",
   "metadata": {},
   "source": [
    "Объединим оба датасета для обучения, т.к. даже суммарно они содержат всего  \n",
    "менее 3 тыс. вопросов:"
   ]
  },
  {
   "cell_type": "code",
   "execution_count": 19,
   "id": "23ce30d5-d8e0-4ff0-b0fc-ae4037cc3aa6",
   "metadata": {},
   "outputs": [],
   "source": [
    "df.extend(df_test)"
   ]
  },
  {
   "cell_type": "code",
   "execution_count": 20,
   "id": "3c375193-905a-433b-b882-aa373028c324",
   "metadata": {},
   "outputs": [
    {
     "data": {
      "text/plain": [
       "2910"
      ]
     },
     "execution_count": 20,
     "metadata": {},
     "output_type": "execute_result"
    }
   ],
   "source": [
    "len(df)"
   ]
  },
  {
   "cell_type": "code",
   "execution_count": 21,
   "id": "e7310527-1d0a-4a3a-99b1-524f70e04c67",
   "metadata": {},
   "outputs": [],
   "source": [
    "df = pd.DataFrame(df)[['question_text', 'answer_text']]"
   ]
  },
  {
   "cell_type": "code",
   "execution_count": 22,
   "id": "19e45073-b859-4acc-99a0-08cd7c0b8715",
   "metadata": {},
   "outputs": [
    {
     "data": {
      "text/html": [
       "<div>\n",
       "<style scoped>\n",
       "    .dataframe tbody tr th:only-of-type {\n",
       "        vertical-align: middle;\n",
       "    }\n",
       "\n",
       "    .dataframe tbody tr th {\n",
       "        vertical-align: top;\n",
       "    }\n",
       "\n",
       "    .dataframe thead th {\n",
       "        text-align: right;\n",
       "    }\n",
       "</style>\n",
       "<table border=\"1\" class=\"dataframe\">\n",
       "  <thead>\n",
       "    <tr style=\"text-align: right;\">\n",
       "      <th></th>\n",
       "      <th>question_text</th>\n",
       "      <th>answer_text</th>\n",
       "    </tr>\n",
       "  </thead>\n",
       "  <tbody>\n",
       "    <tr>\n",
       "      <th>0</th>\n",
       "      <td>Какой стране принадлежит знаменитый остров Пасхи?</td>\n",
       "      <td>Чили</td>\n",
       "    </tr>\n",
       "    <tr>\n",
       "      <th>1</th>\n",
       "      <td>С какой музыкальной группой неразрывно связано...</td>\n",
       "      <td>'Роллинг Стоунз'</td>\n",
       "    </tr>\n",
       "    <tr>\n",
       "      <th>2</th>\n",
       "      <td>Где находится Летний сад?</td>\n",
       "      <td>Санкт-Петербург</td>\n",
       "    </tr>\n",
       "    <tr>\n",
       "      <th>3</th>\n",
       "      <td>Какой город является столицей Туркмении?</td>\n",
       "      <td>Ашхабад</td>\n",
       "    </tr>\n",
       "    <tr>\n",
       "      <th>4</th>\n",
       "      <td>В каком городе издавалась с 1857 г. А. Герцено...</td>\n",
       "      <td>Лондон</td>\n",
       "    </tr>\n",
       "  </tbody>\n",
       "</table>\n",
       "</div>"
      ],
      "text/plain": [
       "                                       question_text       answer_text\n",
       "0  Какой стране принадлежит знаменитый остров Пасхи?              Чили\n",
       "1  С какой музыкальной группой неразрывно связано...  'Роллинг Стоунз'\n",
       "2                          Где находится Летний сад?   Санкт-Петербург\n",
       "3           Какой город является столицей Туркмении?           Ашхабад\n",
       "4  В каком городе издавалась с 1857 г. А. Герцено...            Лондон"
      ]
     },
     "execution_count": 22,
     "metadata": {},
     "output_type": "execute_result"
    }
   ],
   "source": [
    "df.head()"
   ]
  },
  {
   "cell_type": "markdown",
   "id": "2c2621b8-ba38-4ece-b5c6-23ec5a9f3518",
   "metadata": {},
   "source": [
    "Сохраним датасет для использования в дальнейшем в скрипте бота:"
   ]
  },
  {
   "cell_type": "code",
   "execution_count": 87,
   "id": "0461b99e-bd45-46c3-80f6-f2066ccb1677",
   "metadata": {},
   "outputs": [],
   "source": [
    "df.to_csv('./data/qa_data.csv', index=False)"
   ]
  },
  {
   "cell_type": "markdown",
   "id": "2e4b617a-3f5c-4e6f-9dd8-86d7c070fd51",
   "metadata": {},
   "source": [
    "Загрузим модель для создания эмбеддингов вопросов. За основу модели  \n",
    "взята xlm-roberta-base."
   ]
  },
  {
   "cell_type": "code",
   "execution_count": 23,
   "id": "ee9af496-39c8-45b4-b404-ff1e1ff76891",
   "metadata": {},
   "outputs": [],
   "source": [
    "model_name = 'sentence-transformers/paraphrase-multilingual-mpnet-base-v2'\n",
    "tokenizer = AutoTokenizer.from_pretrained(model_name)\n",
    "model = AutoModel.from_pretrained(model_name)"
   ]
  },
  {
   "cell_type": "code",
   "execution_count": 79,
   "id": "467898c1-918b-4cd9-af7e-3894e7e0dfec",
   "metadata": {},
   "outputs": [
    {
     "data": {
      "text/plain": [
       "================================================================================\n",
       "Layer (type:depth-idx)                                  Param #\n",
       "================================================================================\n",
       "XLMRobertaModel                                         --\n",
       "├─XLMRobertaEmbeddings: 1-1                             --\n",
       "│    └─Embedding: 2-1                                   192,001,536\n",
       "│    └─Embedding: 2-2                                   394,752\n",
       "│    └─Embedding: 2-3                                   768\n",
       "│    └─LayerNorm: 2-4                                   1,536\n",
       "│    └─Dropout: 2-5                                     --\n",
       "├─XLMRobertaEncoder: 1-2                                --\n",
       "│    └─ModuleList: 2-6                                  --\n",
       "│    │    └─XLMRobertaLayer: 3-1                        7,087,872\n",
       "│    │    └─XLMRobertaLayer: 3-2                        7,087,872\n",
       "│    │    └─XLMRobertaLayer: 3-3                        7,087,872\n",
       "│    │    └─XLMRobertaLayer: 3-4                        7,087,872\n",
       "│    │    └─XLMRobertaLayer: 3-5                        7,087,872\n",
       "│    │    └─XLMRobertaLayer: 3-6                        7,087,872\n",
       "│    │    └─XLMRobertaLayer: 3-7                        7,087,872\n",
       "│    │    └─XLMRobertaLayer: 3-8                        7,087,872\n",
       "│    │    └─XLMRobertaLayer: 3-9                        7,087,872\n",
       "│    │    └─XLMRobertaLayer: 3-10                       7,087,872\n",
       "│    │    └─XLMRobertaLayer: 3-11                       7,087,872\n",
       "│    │    └─XLMRobertaLayer: 3-12                       7,087,872\n",
       "├─XLMRobertaPooler: 1-3                                 --\n",
       "│    └─Linear: 2-7                                      590,592\n",
       "│    └─Tanh: 2-8                                        --\n",
       "================================================================================\n",
       "Total params: 278,043,648\n",
       "Trainable params: 278,043,648\n",
       "Non-trainable params: 0\n",
       "================================================================================"
      ]
     },
     "execution_count": 79,
     "metadata": {},
     "output_type": "execute_result"
    }
   ],
   "source": [
    "summary(model)"
   ]
  },
  {
   "cell_type": "code",
   "execution_count": 24,
   "id": "569d1e84-a0ab-45b1-9f01-f74f120f2e52",
   "metadata": {},
   "outputs": [],
   "source": [
    "model.cuda();"
   ]
  },
  {
   "cell_type": "markdown",
   "id": "fceebdd1-a7cd-44af-9e5a-726130b7965f",
   "metadata": {},
   "source": [
    "Напишем функцию для создания эмбеддингов предложений, в нашем  \n",
    "случае вопросов. Используем для этого mean pooling:"
   ]
  },
  {
   "cell_type": "code",
   "execution_count": 56,
   "id": "1a3e344c-ca20-4913-a4bf-c53cda576e33",
   "metadata": {},
   "outputs": [],
   "source": [
    "def embed_sentence(sentence):\n",
    "    \n",
    "    text = tokenizer(sentence, padding=True, truncation=True, return_tensors='pt').to(model.device)\n",
    "    \n",
    "    with torch.inference_mode():\n",
    "        model_output = model(**text)\n",
    "        \n",
    "    token_embeddings = model_output[0]\n",
    "    expanded_mask = text['attention_mask'].unsqueeze(-1).expand(token_embeddings.size()).float()\n",
    "    \n",
    "    return (torch.sum(token_embeddings * expanded_mask, dim=1) / \n",
    "            torch.clamp(expanded_mask.sum(dim=1), min=1e-9)).squeeze()"
   ]
  },
  {
   "cell_type": "markdown",
   "id": "bbbcbf03-a3b4-4d44-8b64-87561ab2bfe9",
   "metadata": {},
   "source": [
    "Создадим и сохраним модель annoy для поиска ближайшего вопроса:"
   ]
  },
  {
   "cell_type": "code",
   "execution_count": 97,
   "id": "b0a194cc-fdbd-4db6-a637-67b547d86260",
   "metadata": {},
   "outputs": [],
   "source": [
    "annoy_index = annoy.AnnoyIndex(model.config.hidden_size, 'angular')\n",
    "\n",
    "for i, sentence in enumerate(df['question_text']):\n",
    "    vector = embed_sentence(sentence)\n",
    "    annoy_index.add_item(i, vector)"
   ]
  },
  {
   "cell_type": "code",
   "execution_count": 98,
   "id": "27487737-9cd7-417e-bc98-2d1f22d163f6",
   "metadata": {},
   "outputs": [
    {
     "data": {
      "text/plain": [
       "True"
      ]
     },
     "execution_count": 98,
     "metadata": {},
     "output_type": "execute_result"
    }
   ],
   "source": [
    "annoy_index.build(1000, n_jobs=-1)"
   ]
  },
  {
   "cell_type": "code",
   "execution_count": 99,
   "id": "783124f2-fe4f-4da7-8347-ae1f68f5f610",
   "metadata": {},
   "outputs": [
    {
     "data": {
      "text/plain": [
       "True"
      ]
     },
     "execution_count": 99,
     "metadata": {},
     "output_type": "execute_result"
    }
   ],
   "source": [
    "annoy_index.save('./models/qa_annoy_model.ann')"
   ]
  },
  {
   "cell_type": "markdown",
   "id": "f2340cce-78a4-4bb7-88f8-c557f03f5c8f",
   "metadata": {},
   "source": [
    "## Chit-chat intent"
   ]
  },
  {
   "cell_type": "markdown",
   "id": "0d854e03-e705-4654-93fe-2f43d37c6675",
   "metadata": {},
   "source": [
    "Загрузим библиотеки и датасет:"
   ]
  },
  {
   "cell_type": "code",
   "execution_count": 1,
   "id": "876ffb28-1a0c-47ad-8fb9-780bca8e501a",
   "metadata": {},
   "outputs": [],
   "source": [
    "import re\n",
    "from transformers import (AutoModelForCausalLM,\n",
    "                          DataCollatorForLanguageModeling,\n",
    "                          TrainingArguments, Trainer)"
   ]
  },
  {
   "cell_type": "code",
   "execution_count": 4,
   "id": "97e41626-6a6d-4ebf-b3c5-72a31428951c",
   "metadata": {},
   "outputs": [],
   "source": [
    "df = pd.read_csv('./data/dialogues.tsv', sep='\\t')"
   ]
  },
  {
   "cell_type": "code",
   "execution_count": 5,
   "id": "f88cadf1-8043-40b0-bfc9-8a2235bd13e5",
   "metadata": {},
   "outputs": [
    {
     "data": {
      "text/plain": [
       "'<span class=participant_2>Пользователь 2: Привет) расскажи о себе</span><br /><span class=participant_1>Пользователь 1: Привет) под вкусный кофеек настроение поболтать появилось<br />)</span><br /><span class=participant_2>Пользователь 2: Что читаешь? Мне нравится классика</span><br /><span class=participant_2>Пользователь 2: Я тоже люблю пообщаться</span><br /><span class=participant_1>Пользователь 1: Люблю животных, просто обожаю, как и свою работу)</span><br /><span class=participant_1>Пользователь 1: Я фантастику люблю</span><br /><span class=participant_2>Пользователь 2: А я выращиваю фиалки</span><br /><span class=participant_2>Пользователь 2: И веду здоровый и активный образ жизни!</span><br /><span class=participant_1>Пользователь 1: Ух ты, интересно.</span><br /><span class=participant_2>Пользователь 2: Ты случайно не принц на белом коне? Я его очень жду<br />..</span><br /><span class=participant_1>Пользователь 1: А у меня из хобби каждую неделю тусить с моим лучшим<br />другом)</span><br />'"
      ]
     },
     "execution_count": 5,
     "metadata": {},
     "output_type": "execute_result"
    }
   ],
   "source": [
    "df['dialogue'].iloc[0]"
   ]
  },
  {
   "cell_type": "markdown",
   "id": "2f107dfc-0140-48ca-8248-3b01fb53d7f6",
   "metadata": {},
   "source": [
    "Предобработаем датасет. Уберём все html-блоки, добавим специальные  \n",
    "токены. Вместо \"Пользователь\" будет спецтокен \\[SEP\\], если следующая  \n",
    "реплика принадлежит другому пользователю:"
   ]
  },
  {
   "cell_type": "code",
   "execution_count": 5,
   "id": "27837608-9a89-412b-aec3-0d865ef72f2f",
   "metadata": {},
   "outputs": [],
   "source": [
    "def preprocess_text(text):\n",
    "    text = re.sub(r'<.*?>', ' ', text).strip()\n",
    "    text = text.split()\n",
    "    number = ''\n",
    "    for i in range(len(text)):\n",
    "        if text[i] == 'Пользователь':\n",
    "            if text[i + 1] != number:\n",
    "                text[i] = '[SEP]'\n",
    "                number = text[i + 1]\n",
    "                text[i + 1] = ''\n",
    "            else:\n",
    "                text[i - 1] += '.'\n",
    "                text[i] = ''\n",
    "                text[i + 1] = ''\n",
    "    text = ' '.join(text)\n",
    "    text = re.sub('\\s+', ' ', text)\n",
    "    text = text.replace('[SEP]', '[BOS]', 1) + ' [SEP]'\n",
    "    return text"
   ]
  },
  {
   "cell_type": "code",
   "execution_count": 6,
   "id": "57f754c6-b5e2-413f-a3c1-b568acf4df42",
   "metadata": {},
   "outputs": [
    {
     "data": {
      "text/plain": [
       "'[BOS] Привет! [SEP] Привет!. Как дела?) [SEP] У меня все замечательно. А твои дела как? Чем занимаешься по жизни?. ? [SEP] Рада новому знакомству! У меня тоже всё неплохо. Недавно нашла работу по специальности. Я дизайнер. А ты чем занимаешься?. Ты откуда? [SEP] Я продавец, выращиванию овощи и фрукты на даче и продаю их. Я ещё кстати и дачница.. Я с Украины ). А ты откуда ? [SEP] Круто! Я из Беларуси, Минск [SEP] Я продавец, выращиваю овощи и фрукты на даче и продаю их. Я ещё кстати и дачница.. Как зовут тебя ? [SEP] А я мечтаю купить дачу, но пока не могу себе этого позволить(. Катя, а тебя? [SEP] Ира,приятно познакомится ). А я мечтаю жить возле моря. [SEP] Кстати, была в Украине, мне там очень понравилось . Я вообще люблю путешествовать [SEP] Обожаю море. [SEP] Приятно познакомиться [SEP] В каком городе Украины ты была ? [SEP] О, я тоже люблю море)). Много где, и в Крыму (тогда это была ещё Украина) [SEP] Жду не дождусь лета, что бы поехать на море 🌊. К стати, ты любишь собак? [SEP] Мы путешествовали с друзьями на машине, поэтому много где побывали. Хотя я больше люблю пешие прогулки) [SEP] Пешие прогулки это здорово ) [SEP] О да, я люблю животных. Но я больше кошатница) У меня кот Вегас и черепаха Матильда. А у тебя есть собака ? [SEP] У меня аж две собаки ) [SEP] Здорово! Как их зовут? [SEP] Аза и Герда, две девочки дворняжки). Подобрала их на улице, кто бросил совсем маленьких , пришлось о них много заботиться). Подобрала их на улице, кто- то бросил совсем маленьких , пришлось о них много заботиться) [SEP] Я тоже. Планирую новое путешествие летом. Я уже побывала в 12 странах. А ты любишь путешествовать?. Ты молодец, спасла две жизни)) это здорово [SEP] Пока что не удавалось побывать в других странах, но на это лето грандиозные планы .. [SEP] Какие? [SEP] Поехать сначала в Германию, а потом в Россию к родственникам [SEP] Кстати, когда я была во Львове, ходила на концерт Океан Эльзи. Очень люблю эту группу и вообще рок. А какую музыку ты слушаешь? [SEP] А я рок не люблю, мне нравиться джаз). А вообще часто слушаю поп и рэп [SEP] Я была в Германии, мне там очень понравилось, особенно красивые замки. Ну из джаза родился рок) [SEP] Думаю мне тоже там понравиться. Ладно, буду я ложиться спать завтра нужно рано вставать готовить кушать семье ) Пока. [SEP]'"
      ]
     },
     "execution_count": 6,
     "metadata": {},
     "output_type": "execute_result"
    }
   ],
   "source": [
    "preprocess_text(df['dialogue'].iloc[5])"
   ]
  },
  {
   "cell_type": "code",
   "execution_count": 6,
   "id": "febc48ba-4373-4190-a7bf-08bc7c2deb7f",
   "metadata": {},
   "outputs": [],
   "source": [
    "df = df['dialogue'].apply(preprocess_text)"
   ]
  },
  {
   "cell_type": "code",
   "execution_count": 7,
   "id": "b42c673b-cfa7-41b5-b1f1-ef19450f1702",
   "metadata": {},
   "outputs": [],
   "source": [
    "df = Dataset.from_pandas(pd.DataFrame(df))"
   ]
  },
  {
   "cell_type": "code",
   "execution_count": 8,
   "id": "7deace91-e05d-41a5-9f11-7ab262c32b6e",
   "metadata": {},
   "outputs": [
    {
     "data": {
      "text/plain": [
       "Dataset({\n",
       "    features: ['dialogue'],\n",
       "    num_rows: 10013\n",
       "})"
      ]
     },
     "execution_count": 8,
     "metadata": {},
     "output_type": "execute_result"
    }
   ],
   "source": [
    "df"
   ]
  },
  {
   "cell_type": "markdown",
   "id": "489effd7-de97-4929-95d6-158e4240be86",
   "metadata": {},
   "source": [
    "За основу возьмём маленькую версию модели ruGPT3 от Сбера:"
   ]
  },
  {
   "cell_type": "code",
   "execution_count": 11,
   "id": "70df2be1-32ac-4552-aee2-155a82b1dd30",
   "metadata": {},
   "outputs": [
    {
     "name": "stderr",
     "output_type": "stream",
     "text": [
      "Special tokens have been added in the vocabulary, make sure the associated word embeddings are fine-tuned or trained.\n"
     ]
    }
   ],
   "source": [
    "model_name = 'sberbank-ai/rugpt3small_based_on_gpt2'\n",
    "tokenizer = AutoTokenizer.from_pretrained(model_name)\n",
    "model = AutoModelForCausalLM.from_pretrained(model_name)"
   ]
  },
  {
   "cell_type": "markdown",
   "id": "230f6a65-56e0-4c66-a985-1f695c57e4eb",
   "metadata": {},
   "source": [
    "Добавим новые специальные токены в токенизатор и выровняем  \n",
    "конфиг модели для работы с изменившимся размером словаря:"
   ]
  },
  {
   "cell_type": "code",
   "execution_count": 12,
   "id": "e1ac3b28-6775-407b-806a-78bbc3b7260d",
   "metadata": {},
   "outputs": [
    {
     "data": {
      "text/plain": [
       "{'bos_token': '<|endoftext|>',\n",
       " 'eos_token': '<|endoftext|>',\n",
       " 'unk_token': '<|endoftext|>'}"
      ]
     },
     "execution_count": 12,
     "metadata": {},
     "output_type": "execute_result"
    }
   ],
   "source": [
    "tokenizer.special_tokens_map"
   ]
  },
  {
   "cell_type": "code",
   "execution_count": 13,
   "id": "16e9b3cd-7699-46f8-bd9f-57f9df96e014",
   "metadata": {},
   "outputs": [],
   "source": [
    "new_special_tokens = {'bos_token': '[BOS]',\n",
    "                      'pad_token': '[PAD]',\n",
    "                      'sep_token': '[SEP]',\n",
    "                      'unk_token': '[UNK]'}"
   ]
  },
  {
   "cell_type": "code",
   "execution_count": 14,
   "id": "6a82c33d-ce89-4cc5-9a57-aa3493b47aff",
   "metadata": {},
   "outputs": [
    {
     "data": {
      "text/plain": [
       "4"
      ]
     },
     "execution_count": 14,
     "metadata": {},
     "output_type": "execute_result"
    }
   ],
   "source": [
    "tokenizer.add_special_tokens(new_special_tokens)"
   ]
  },
  {
   "cell_type": "code",
   "execution_count": 15,
   "id": "460abee7-24fa-42f5-9d00-b4318512c742",
   "metadata": {},
   "outputs": [
    {
     "data": {
      "text/plain": [
       "{'bos_token': '[BOS]',\n",
       " 'eos_token': '<|endoftext|>',\n",
       " 'unk_token': '[UNK]',\n",
       " 'sep_token': '[SEP]',\n",
       " 'pad_token': '[PAD]'}"
      ]
     },
     "execution_count": 15,
     "metadata": {},
     "output_type": "execute_result"
    }
   ],
   "source": [
    "tokenizer.special_tokens_map"
   ]
  },
  {
   "cell_type": "code",
   "execution_count": 16,
   "id": "cf2c4320-6d52-46b8-8696-46eaf6f9af4b",
   "metadata": {},
   "outputs": [
    {
     "data": {
      "text/plain": [
       "50262"
      ]
     },
     "execution_count": 16,
     "metadata": {},
     "output_type": "execute_result"
    }
   ],
   "source": [
    "len(tokenizer)"
   ]
  },
  {
   "cell_type": "code",
   "execution_count": 17,
   "id": "7e6039a1-58ed-47ed-bb5c-f8550fd52ace",
   "metadata": {},
   "outputs": [
    {
     "data": {
      "text/plain": [
       "50257"
      ]
     },
     "execution_count": 17,
     "metadata": {},
     "output_type": "execute_result"
    }
   ],
   "source": [
    "tokenizer.eos_token_id"
   ]
  },
  {
   "cell_type": "code",
   "execution_count": 18,
   "id": "2fe71ed5-823b-4d5b-89ca-9cd38194e185",
   "metadata": {},
   "outputs": [
    {
     "data": {
      "text/plain": [
       "50258"
      ]
     },
     "execution_count": 18,
     "metadata": {},
     "output_type": "execute_result"
    }
   ],
   "source": [
    "tokenizer.bos_token_id"
   ]
  },
  {
   "cell_type": "code",
   "execution_count": 19,
   "id": "e89fc62e-3c4b-4a00-8373-fec4c0f89d4f",
   "metadata": {},
   "outputs": [],
   "source": [
    "model.transformer.config.bos_token_id = 50258\n",
    "model.transformer.config.eos_token_id = 50257"
   ]
  },
  {
   "cell_type": "code",
   "execution_count": 20,
   "id": "d127cf0b-be6e-450c-8d9d-bbe2c6098077",
   "metadata": {},
   "outputs": [
    {
     "data": {
      "text/plain": [
       "Embedding(50262, 768)"
      ]
     },
     "execution_count": 20,
     "metadata": {},
     "output_type": "execute_result"
    }
   ],
   "source": [
    "model.resize_token_embeddings(len(tokenizer))"
   ]
  },
  {
   "cell_type": "markdown",
   "id": "1c527239-409c-4a68-8df1-9624978166e3",
   "metadata": {},
   "source": [
    "Посмотрим на размер текстов в токенах:"
   ]
  },
  {
   "cell_type": "code",
   "execution_count": 9,
   "id": "8fcefe53-8bb0-442f-95f0-9ec3f6a97591",
   "metadata": {},
   "outputs": [],
   "source": [
    "%matplotlib inline\n",
    "import matplotlib.pyplot as plt"
   ]
  },
  {
   "cell_type": "code",
   "execution_count": 21,
   "id": "8b42f4cd-5508-4c24-8dca-8f21b14e9d08",
   "metadata": {},
   "outputs": [
    {
     "data": {
      "image/png": "[encoded data removed]",
      "text/plain": [
       "<Figure size 640x480 with 1 Axes>"
      ]
     },
     "metadata": {},
     "output_type": "display_data"
    }
   ],
   "source": [
    "plt.hist([len(tokenizer.encode(x)) for x in df['dialogue']], bins=15);"
   ]
  },
  {
   "cell_type": "markdown",
   "id": "74239255-c7d7-49ee-9578-6b8777d31e31",
   "metadata": {},
   "source": [
    "За максимальную длину текстов в токенах выберем число 1024.  \n",
    "Сделаем токенизацию текстов:"
   ]
  },
  {
   "cell_type": "code",
   "execution_count": 15,
   "id": "c7991530-2511-4ee7-a343-90b2ed24530f",
   "metadata": {},
   "outputs": [],
   "source": [
    "def tokenize_fn(text):\n",
    "    return tokenizer(text['dialogue'], padding=True, truncation=True, max_length=1024, return_tensors='pt')"
   ]
  },
  {
   "cell_type": "code",
   "execution_count": 16,
   "id": "3797735b-140e-4199-9aaf-975550b1e07f",
   "metadata": {},
   "outputs": [
    {
     "data": {
      "application/vnd.jupyter.widget-view+json": {
       "model_id": "280f6cd02c1b4270a419ead2c557d0aa",
       "version_major": 2,
       "version_minor": 0
      },
      "text/plain": [
       "  0%|          | 0/11 [00:00<?, ?ba/s]"
      ]
     },
     "metadata": {},
     "output_type": "display_data"
    }
   ],
   "source": [
    "df = df.map(tokenize_fn, batched=True)"
   ]
  },
  {
   "cell_type": "markdown",
   "id": "a80a89b3-1581-4692-84ef-9b88c9d0b0f7",
   "metadata": {},
   "source": [
    "Сделаем необходимые приготовления и дообучим модель на  \n",
    "нашем датасете:"
   ]
  },
  {
   "cell_type": "code",
   "execution_count": 17,
   "id": "6d90e8bc-5c61-4e70-9d31-eb37011f3d25",
   "metadata": {},
   "outputs": [],
   "source": [
    "df = df.remove_columns(['dialogue'])"
   ]
  },
  {
   "cell_type": "code",
   "execution_count": 18,
   "id": "5859803b-fc44-4986-8a40-61d68e5d3e79",
   "metadata": {},
   "outputs": [],
   "source": [
    "data_collator = DataCollatorForLanguageModeling(tokenizer=tokenizer, mlm=False)"
   ]
  },
  {
   "cell_type": "code",
   "execution_count": 22,
   "id": "49b65213-2801-478f-b72f-e52d7838d5ba",
   "metadata": {},
   "outputs": [
    {
     "name": "stderr",
     "output_type": "stream",
     "text": [
      "PyTorch: setting up devices\n"
     ]
    }
   ],
   "source": [
    "training_args = TrainingArguments(\n",
    "    output_dir='./models/gpt',\n",
    "    overwrite_output_dir=True,\n",
    "    num_train_epochs=3,\n",
    "    per_device_train_batch_size=1,\n",
    "    # gradient_accumulation_steps=32,\n",
    "    logging_strategy='epoch',\n",
    "    report_to='none',\n",
    "    seed=29,\n",
    "    save_strategy='epoch'\n",
    ")"
   ]
  },
  {
   "cell_type": "code",
   "execution_count": 24,
   "id": "982072cd-0523-4ef6-951e-1efcfac604a3",
   "metadata": {},
   "outputs": [],
   "source": [
    "trainer = Trainer(\n",
    "    model=model,\n",
    "    args=training_args,\n",
    "    data_collator=data_collator,\n",
    "    train_dataset=df,\n",
    "    optimizers=(torch.optim.AdamW(model.parameters(), lr=2e-5), None)\n",
    ")"
   ]
  },
  {
   "cell_type": "code",
   "execution_count": 20,
   "id": "6843d8ea-d3eb-47c0-af73-ae8a70532e3c",
   "metadata": {},
   "outputs": [
    {
     "name": "stderr",
     "output_type": "stream",
     "text": [
      "***** Running training *****\n",
      "  Num examples = 10013\n",
      "  Num Epochs = 3\n",
      "  Instantaneous batch size per device = 1\n",
      "  Total train batch size (w. parallel, distributed & accumulation) = 1\n",
      "  Gradient Accumulation steps = 1\n",
      "  Total optimization steps = 30039\n",
      "  Number of trainable parameters = 125230080\n",
      "You're using a GPT2TokenizerFast tokenizer. Please note that with a fast tokenizer, using the `__call__` method is faster than using a method to encode the text followed by a call to the `pad` method to get a padded encoding.\n"
     ]
    },
    {
     "data": {
      "text/html": [
       "\n",
       "    <div>\n",
       "      \n",
       "      <progress value='30039' max='30039' style='width:300px; height:20px; vertical-align: middle;'></progress>\n",
       "      [30039/30039 1:53:12, Epoch 3/3]\n",
       "    </div>\n",
       "    <table border=\"1\" class=\"dataframe\">\n",
       "  <thead>\n",
       " <tr style=\"text-align: left;\">\n",
       "      <th>Step</th>\n",
       "      <th>Training Loss</th>\n",
       "    </tr>\n",
       "  </thead>\n",
       "  <tbody>\n",
       "    <tr>\n",
       "      <td>10013</td>\n",
       "      <td>3.059100</td>\n",
       "    </tr>\n",
       "    <tr>\n",
       "      <td>20026</td>\n",
       "      <td>2.812600</td>\n",
       "    </tr>\n",
       "    <tr>\n",
       "      <td>30039</td>\n",
       "      <td>2.694000</td>\n",
       "    </tr>\n",
       "  </tbody>\n",
       "</table><p>"
      ],
      "text/plain": [
       "<IPython.core.display.HTML object>"
      ]
     },
     "metadata": {},
     "output_type": "display_data"
    },
    {
     "name": "stderr",
     "output_type": "stream",
     "text": [
      "Saving model checkpoint to ./models/gpt/checkpoint-10013\n",
      "Configuration saved in ./models/gpt/checkpoint-10013/config.json\n",
      "Model weights saved in ./models/gpt/checkpoint-10013/pytorch_model.bin\n",
      "Saving model checkpoint to ./models/gpt/checkpoint-20026\n",
      "Configuration saved in ./models/gpt/checkpoint-20026/config.json\n",
      "Model weights saved in ./models/gpt/checkpoint-20026/pytorch_model.bin\n",
      "Saving model checkpoint to ./models/gpt/checkpoint-30039\n",
      "Configuration saved in ./models/gpt/checkpoint-30039/config.json\n",
      "Model weights saved in ./models/gpt/checkpoint-30039/pytorch_model.bin\n",
      "\n",
      "\n",
      "Training completed. Do not forget to share your model on huggingface.co/models =)\n",
      "\n",
      "\n"
     ]
    },
    {
     "data": {
      "text/plain": [
       "TrainOutput(global_step=30039, training_loss=2.855250609103998, metrics={'train_runtime': 6793.4075, 'train_samples_per_second': 4.422, 'train_steps_per_second': 4.422, 'total_flos': 1.5563121940224e+16, 'train_loss': 2.855250609103998, 'epoch': 3.0})"
      ]
     },
     "execution_count": 20,
     "metadata": {},
     "output_type": "execute_result"
    }
   ],
   "source": [
    "trainer.train()"
   ]
  },
  {
   "cell_type": "markdown",
   "id": "52ad8b6b-43b8-439e-92e7-f3ff62d93210",
   "metadata": {},
   "source": [
    "Сохраним токенизатор для дальнейшего использования.  \n",
    "Модель уже автоматически сохранилась после обучения."
   ]
  },
  {
   "cell_type": "code",
   "execution_count": 25,
   "id": "3cc07bac-e728-4445-bc32-bf64f0cbb403",
   "metadata": {},
   "outputs": [
    {
     "name": "stderr",
     "output_type": "stream",
     "text": [
      "tokenizer config file saved in ./models/gpt/tokenizer_config.json\n",
      "Special tokens file saved in ./models/gpt/special_tokens_map.json\n"
     ]
    },
    {
     "data": {
      "text/plain": [
       "('./models/gpt/tokenizer_config.json',\n",
       " './models/gpt/special_tokens_map.json',\n",
       " './models/gpt/vocab.json',\n",
       " './models/gpt/merges.txt',\n",
       " './models/gpt/added_tokens.json',\n",
       " './models/gpt/tokenizer.json')"
      ]
     },
     "execution_count": 25,
     "metadata": {},
     "output_type": "execute_result"
    }
   ],
   "source": [
    "tokenizer.save_pretrained('./models/gpt')"
   ]
  }
 ],
 "metadata": {
  "kernelspec": {
   "display_name": "Python 3 (ipykernel)",
   "language": "python",
   "name": "python3"
  },
  "language_info": {
   "codemirror_mode": {
    "name": "ipython",
    "version": 3
   },
   "file_extension": ".py",
   "mimetype": "text/x-python",
   "name": "python",
   "nbconvert_exporter": "python",
   "pygments_lexer": "ipython3",
   "version": "3.9.13"
  }
 },
 "nbformat": 4,
 "nbformat_minor": 5
}
