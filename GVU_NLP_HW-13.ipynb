{
 "cells": [
  {
   "cell_type": "markdown",
   "id": "c352821b-535a-4ee1-b62d-fa94212c3db5",
   "metadata": {},
   "source": [
    "## Практическое задание к уроку 13 по теме \"Модели BERT и GPT\"."
   ]
  },
  {
   "cell_type": "markdown",
   "id": "f2bc68b5-532a-4eb7-a3c8-547d66796e19",
   "metadata": {},
   "source": [
    "*Взять датасет https://huggingface.co/datasets/merionum/ru_paraphraser и решить задачу парафраза*"
   ]
  },
  {
   "cell_type": "markdown",
   "id": "f36d2e7e-5358-468c-93b0-91889088a06c",
   "metadata": {},
   "source": [
    "Загрузим библиотеки и датасеты:"
   ]
  },
  {
   "cell_type": "code",
   "execution_count": 1,
   "id": "2cde819d-cbba-47ec-a97c-3cdcfaa318e0",
   "metadata": {},
   "outputs": [],
   "source": [
    "%matplotlib inline\n",
    "\n",
    "from datasets import load_dataset\n",
    "import matplotlib.pyplot as plt\n",
    "import numpy as np\n",
    "import pandas as pd\n",
    "from sklearn.metrics import accuracy_score\n",
    "import torch\n",
    "from torch import nn\n",
    "from torchinfo import summary\n",
    "from transformers import AutoTokenizer, AutoModel\n",
    "from transformers.utils import logging\n",
    "logging.set_verbosity_error()"
   ]
  },
  {
   "cell_type": "code",
   "execution_count": 2,
   "id": "a7ca5140-c171-49ce-a792-ac3254e3fcac",
   "metadata": {},
   "outputs": [],
   "source": [
    "RANDOM_STATE = 29"
   ]
  },
  {
   "cell_type": "code",
   "execution_count": 3,
   "id": "90a98431-64cf-48cc-8fba-048d1f3ddfc7",
   "metadata": {},
   "outputs": [
    {
     "name": "stderr",
     "output_type": "stream",
     "text": [
      "Using custom data configuration merionum--ru_paraphraser-dd0dcf23f5ec66a4\n",
      "Found cached dataset json (/home/shkin/.cache/huggingface/datasets/merionum___json/merionum--ru_paraphraser-dd0dcf23f5ec66a4/0.0.0/0f7e3662623656454fcd2b650f34e886a7db4b9104504885bd462096cc7a9f51)\n"
     ]
    },
    {
     "data": {
      "application/vnd.jupyter.widget-view+json": {
       "model_id": "ae0462303c684d3ebc8b2828fd331de7",
       "version_major": 2,
       "version_minor": 0
      },
      "text/plain": [
       "  0%|          | 0/1 [00:00<?, ?it/s]"
      ]
     },
     "metadata": {},
     "output_type": "display_data"
    },
    {
     "name": "stderr",
     "output_type": "stream",
     "text": [
      "Using custom data configuration merionum--ru_paraphraser-62b622e3b2274f4e\n",
      "Found cached dataset json (/home/shkin/.cache/huggingface/datasets/merionum___json/merionum--ru_paraphraser-62b622e3b2274f4e/0.0.0/0f7e3662623656454fcd2b650f34e886a7db4b9104504885bd462096cc7a9f51)\n"
     ]
    },
    {
     "data": {
      "application/vnd.jupyter.widget-view+json": {
       "model_id": "37e0a003584f45bfafd7d5cece4d00e6",
       "version_major": 2,
       "version_minor": 0
      },
      "text/plain": [
       "  0%|          | 0/1 [00:00<?, ?it/s]"
      ]
     },
     "metadata": {},
     "output_type": "display_data"
    }
   ],
   "source": [
    "train_dataset = load_dataset('merionum/ru_paraphraser', data_files='train.jsonl')\n",
    "test_dataset = load_dataset('merionum/ru_paraphraser', data_files='test.jsonl')"
   ]
  },
  {
   "cell_type": "code",
   "execution_count": 4,
   "id": "763d8a30-8064-4cd8-afcb-f86b3b02576b",
   "metadata": {},
   "outputs": [
    {
     "data": {
      "text/html": [
       "<div>\n",
       "<style scoped>\n",
       "    .dataframe tbody tr th:only-of-type {\n",
       "        vertical-align: middle;\n",
       "    }\n",
       "\n",
       "    .dataframe tbody tr th {\n",
       "        vertical-align: top;\n",
       "    }\n",
       "\n",
       "    .dataframe thead th {\n",
       "        text-align: right;\n",
       "    }\n",
       "</style>\n",
       "<table border=\"1\" class=\"dataframe\">\n",
       "  <thead>\n",
       "    <tr style=\"text-align: right;\">\n",
       "      <th></th>\n",
       "      <th>id</th>\n",
       "      <th>id_1</th>\n",
       "      <th>id_2</th>\n",
       "      <th>text_1</th>\n",
       "      <th>text_2</th>\n",
       "      <th>class</th>\n",
       "    </tr>\n",
       "  </thead>\n",
       "  <tbody>\n",
       "    <tr>\n",
       "      <th>0</th>\n",
       "      <td>1</td>\n",
       "      <td>201</td>\n",
       "      <td>8159</td>\n",
       "      <td>Полицейским разрешат стрелять на поражение по ...</td>\n",
       "      <td>Полиции могут разрешить стрелять по хулиганам ...</td>\n",
       "      <td>0</td>\n",
       "    </tr>\n",
       "    <tr>\n",
       "      <th>1</th>\n",
       "      <td>2</td>\n",
       "      <td>202</td>\n",
       "      <td>8158</td>\n",
       "      <td>Право полицейских на проникновение в жилище ре...</td>\n",
       "      <td>Правила внесудебного проникновения полицейских...</td>\n",
       "      <td>0</td>\n",
       "    </tr>\n",
       "    <tr>\n",
       "      <th>2</th>\n",
       "      <td>3</td>\n",
       "      <td>273</td>\n",
       "      <td>8167</td>\n",
       "      <td>Президент Египта ввел чрезвычайное положение в...</td>\n",
       "      <td>Власти Египта угрожают ввести в стране чрезвыч...</td>\n",
       "      <td>0</td>\n",
       "    </tr>\n",
       "    <tr>\n",
       "      <th>3</th>\n",
       "      <td>4</td>\n",
       "      <td>220</td>\n",
       "      <td>8160</td>\n",
       "      <td>Вернувшихся из Сирии россиян волнует вопрос тр...</td>\n",
       "      <td>Самолеты МЧС вывезут россиян из разрушенной Си...</td>\n",
       "      <td>-1</td>\n",
       "    </tr>\n",
       "    <tr>\n",
       "      <th>4</th>\n",
       "      <td>5</td>\n",
       "      <td>223</td>\n",
       "      <td>8160</td>\n",
       "      <td>В Москву из Сирии вернулись 2 самолета МЧС с р...</td>\n",
       "      <td>Самолеты МЧС вывезут россиян из разрушенной Си...</td>\n",
       "      <td>0</td>\n",
       "    </tr>\n",
       "  </tbody>\n",
       "</table>\n",
       "</div>"
      ],
      "text/plain": [
       "  id id_1  id_2                                             text_1  \\\n",
       "0  1  201  8159  Полицейским разрешат стрелять на поражение по ...   \n",
       "1  2  202  8158  Право полицейских на проникновение в жилище ре...   \n",
       "2  3  273  8167  Президент Египта ввел чрезвычайное положение в...   \n",
       "3  4  220  8160  Вернувшихся из Сирии россиян волнует вопрос тр...   \n",
       "4  5  223  8160  В Москву из Сирии вернулись 2 самолета МЧС с р...   \n",
       "\n",
       "                                              text_2 class  \n",
       "0  Полиции могут разрешить стрелять по хулиганам ...     0  \n",
       "1  Правила внесудебного проникновения полицейских...     0  \n",
       "2  Власти Египта угрожают ввести в стране чрезвыч...     0  \n",
       "3  Самолеты МЧС вывезут россиян из разрушенной Си...    -1  \n",
       "4  Самолеты МЧС вывезут россиян из разрушенной Си...     0  "
      ]
     },
     "execution_count": 4,
     "metadata": {},
     "output_type": "execute_result"
    }
   ],
   "source": [
    "pd.DataFrame(train_dataset['train']).head()"
   ]
  },
  {
   "cell_type": "code",
   "execution_count": 5,
   "id": "d21a3abd-08e1-458a-824c-cb26a83c754b",
   "metadata": {},
   "outputs": [
    {
     "data": {
      "text/plain": [
       "({'train': (7227, 6)}, {'train': (1924, 6)})"
      ]
     },
     "execution_count": 5,
     "metadata": {},
     "output_type": "execute_result"
    }
   ],
   "source": [
    "train_dataset.shape, test_dataset.shape"
   ]
  },
  {
   "cell_type": "markdown",
   "id": "4204face-5219-4c7d-8c70-00be063a72be",
   "metadata": {},
   "source": [
    "Датасеты содержат следующие классы:"
   ]
  },
  {
   "cell_type": "markdown",
   "id": "d8f2a191-f0e8-448e-9f06-81f5e2a2d37c",
   "metadata": {},
   "source": [
    "1: precise paraphrases  \n",
    "0: near paraphrases  \n",
    "-1: non-paraphrases"
   ]
  },
  {
   "cell_type": "markdown",
   "id": "453842d2-6992-403c-9d4c-472ee3e7baa3",
   "metadata": {},
   "source": [
    "Посмотрим на их распределение:"
   ]
  },
  {
   "cell_type": "code",
   "execution_count": 6,
   "id": "dae88d3b-95a4-422f-86bc-b4e3bc0bc5c8",
   "metadata": {},
   "outputs": [
    {
     "data": {
      "text/plain": [
       "0     2957\n",
       "-1    2582\n",
       "1     1688\n",
       "dtype: int64"
      ]
     },
     "execution_count": 6,
     "metadata": {},
     "output_type": "execute_result"
    }
   ],
   "source": [
    "pd.Series(train_dataset['train']['class']).value_counts()"
   ]
  },
  {
   "cell_type": "code",
   "execution_count": 7,
   "id": "296123fa-1c6e-4527-8af6-50903ec28acc",
   "metadata": {},
   "outputs": [
    {
     "data": {
      "text/plain": [
       "0     778\n",
       "-1    772\n",
       "1     374\n",
       "dtype: int64"
      ]
     },
     "execution_count": 7,
     "metadata": {},
     "output_type": "execute_result"
    }
   ],
   "source": [
    "pd.Series(test_dataset['train']['class']).value_counts()"
   ]
  },
  {
   "cell_type": "code",
   "execution_count": 8,
   "id": "94dda53d-3f97-4005-ab9a-fdc41c783c9e",
   "metadata": {},
   "outputs": [
    {
     "name": "stdout",
     "output_type": "stream",
     "text": [
      "Полицейским разрешат стрелять на поражение по гражданам с травматикой. ||| Полиции могут разрешить стрелять по хулиганам с травматикой.\n",
      "0\n",
      "\n",
      "Право полицейских на проникновение в жилище решили ограничить. ||| Правила внесудебного проникновения полицейских в жилище уточнят.\n",
      "0\n",
      "\n",
      "Президент Египта ввел чрезвычайное положение в мятежных городах. ||| Власти Египта угрожают ввести в стране чрезвычайное положение.\n",
      "0\n",
      "\n",
      "Вернувшихся из Сирии россиян волнует вопрос трудоустройства на родине. ||| Самолеты МЧС вывезут россиян из разрушенной Сирии.\n",
      "-1\n",
      "\n",
      "В Москву из Сирии вернулись 2 самолета МЧС с россиянами на борту. ||| Самолеты МЧС вывезут россиян из разрушенной Сирии.\n",
      "0\n",
      "\n",
      "Приставы соберут отпечатки пальцев российских должников. ||| Приставы снимут отпечатки пальцев у злостных неплательщиков.\n",
      "1\n",
      "\n",
      "На саратовского дебошира с борта самолета Москва - Хургада заведено дело. ||| Саратовский дебошир отказывается возвращаться домой из Египта.\n",
      "-1\n",
      "\n",
      "ЦИК хочет отказаться от электронной системы подсчета голосов. ||| ЦИК может отказаться от электронных средств подсчета голосов.\n",
      "0\n",
      "\n",
      "Суд Петербурга оставил на потом дело о гибели подростка в полиции. ||| Лондонский Гайд-парк - это не место для митингов, а прежде всего парк.\n",
      "-1\n",
      "\n",
      "Страны ОПЕК сократили добычу нефти на 1 млн баррелей в день. ||| Обама продлил полномочия НАСА по сотрудничеству с Россией.\n",
      "-1\n",
      "\n"
     ]
    }
   ],
   "source": [
    "for i in range(10):\n",
    "    print(train_dataset['train']['text_1'][i] + ' ||| ' + train_dataset['train']['text_2'][i])\n",
    "    print(train_dataset['train']['class'][i], end='\\n\\n')"
   ]
  },
  {
   "cell_type": "markdown",
   "id": "29700e07-b8ab-490e-8398-b8e60a3ce061",
   "metadata": {},
   "source": [
    "В основе модели будет лежать ruBERT - мультиязычная модель BERT, дообученная командой DeepPavlov на русских текстах википедии и новостей. Возьмём её токенайзер, токенизируем тексты и посмотрим на их длину в токенах:"
   ]
  },
  {
   "cell_type": "code",
   "execution_count": 9,
   "id": "8d90e99d-1545-4711-b5b7-0821ddd57b93",
   "metadata": {},
   "outputs": [],
   "source": [
    "tokenizer = AutoTokenizer.from_pretrained('DeepPavlov/rubert-base-cased')"
   ]
  },
  {
   "cell_type": "code",
   "execution_count": 10,
   "id": "2ecb0782-0d7e-4277-a4b0-983dc3a9130c",
   "metadata": {},
   "outputs": [],
   "source": [
    "pairs_train = list(zip(train_dataset['train']['text_1'], train_dataset['train']['text_2']))\n",
    "pairs_test = list(zip(test_dataset['train']['text_1'], test_dataset['train']['text_2']))"
   ]
  },
  {
   "cell_type": "code",
   "execution_count": 11,
   "id": "12939a2b-8f51-471d-a7a9-9e6602746752",
   "metadata": {},
   "outputs": [
    {
     "data": {
      "image/png": "[encoded data removed]",
      "text/plain": [
       "<Figure size 1000x400 with 2 Axes>"
      ]
     },
     "metadata": {},
     "output_type": "display_data"
    }
   ],
   "source": [
    "plt.figure(figsize=(10, 4))\n",
    "\n",
    "plt.subplot(1, 2, 1)\n",
    "plt.hist([len(tokenizer.encode(pair)) for pair in pairs_train], bins=15)\n",
    "plt.title('Train')\n",
    "\n",
    "plt.subplot(1, 2, 2)\n",
    "plt.hist([len(tokenizer.encode(pair)) for pair in pairs_test], bins=15)\n",
    "plt.title('Test')\n",
    "\n",
    "plt.show()"
   ]
  },
  {
   "cell_type": "markdown",
   "id": "6cb434ba-e975-4dd4-b92d-7b8c8c1ecb8a",
   "metadata": {},
   "source": [
    "Исходя из гистограмм, выберем фиксированную длину текстов:"
   ]
  },
  {
   "cell_type": "code",
   "execution_count": 12,
   "id": "5eb3b95f-b4d9-48a1-87b2-05f8cbbdec8b",
   "metadata": {},
   "outputs": [],
   "source": [
    "MAX_LEN = 40"
   ]
  },
  {
   "cell_type": "markdown",
   "id": "291bdb44-a438-4890-ac05-e5e993a952a1",
   "metadata": {},
   "source": [
    "Напишем класс датасета:"
   ]
  },
  {
   "cell_type": "code",
   "execution_count": 13,
   "id": "9e2292c8-973e-4662-94d8-d737ccaeb6e8",
   "metadata": {},
   "outputs": [
    {
     "data": {
      "text/plain": [
       "'cuda'"
      ]
     },
     "execution_count": 13,
     "metadata": {},
     "output_type": "execute_result"
    }
   ],
   "source": [
    "device = 'cuda' if torch.cuda.is_available() else 'cpu'\n",
    "device"
   ]
  },
  {
   "cell_type": "code",
   "execution_count": 14,
   "id": "b8bc48a0-9f99-4301-8e31-4020e3491488",
   "metadata": {},
   "outputs": [],
   "source": [
    "class ParaphraseDataset(torch.utils.data.Dataset):\n",
    "    def __init__(self, data):\n",
    "        self.data = data\n",
    "        \n",
    "        # Объединяем два текста в кортеж\n",
    "        pairs = list(zip(self.data['train']['text_1'], self.data['train']['text_2']))\n",
    "        \n",
    "        # Токенизируем кортеж\n",
    "        self.inputs = tokenizer(pairs, padding=True, truncation=True, max_length=MAX_LEN, return_tensors='pt')\n",
    "        \n",
    "        # Запишем таргет. Добавляем 1 к значениям классов, т.к. CrossEntropyLoss не работает с \n",
    "        # отрицательными значениями таргета\n",
    "        self.targets = torch.from_numpy(np.array(self.data['train']['class'], dtype=int) + 1)\n",
    "    \n",
    "    # Для правильного извлечения нужных данных по индексу напишем функцию, так как\n",
    "    # токенайзер возвращает словарь\n",
    "    def get_example(self, index):\n",
    "        return {k: v[index].to(device) for k, v in self.inputs.items()}\n",
    "    \n",
    "    def __getitem__(self, index):\n",
    "        return self.get_example(index), self.targets[index]\n",
    "    \n",
    "    def __len__(self):\n",
    "        return len(self.data['train'])"
   ]
  },
  {
   "cell_type": "markdown",
   "id": "2358d542-3211-4f65-87d6-4e6755d4a38a",
   "metadata": {},
   "source": [
    "Создадим даталоадеры:"
   ]
  },
  {
   "cell_type": "code",
   "execution_count": 15,
   "id": "236f609b-e9c1-4814-9e7c-334a017e57d1",
   "metadata": {},
   "outputs": [],
   "source": [
    "BATCH_SIZE = 64"
   ]
  },
  {
   "cell_type": "code",
   "execution_count": 16,
   "id": "93a8134f-2758-4779-900f-7c4c580c670c",
   "metadata": {},
   "outputs": [],
   "source": [
    "torch.random.manual_seed(RANDOM_STATE)\n",
    "\n",
    "data_train = ParaphraseDataset(train_dataset)\n",
    "data_test = ParaphraseDataset(test_dataset)\n",
    "\n",
    "train_loader = torch.utils.data.DataLoader(data_train,\n",
    "                                           batch_size=BATCH_SIZE,\n",
    "                                           shuffle=True)\n",
    "\n",
    "test_loader = torch.utils.data.DataLoader(data_test,\n",
    "                                          batch_size=BATCH_SIZE,\n",
    "                                          shuffle=False)"
   ]
  },
  {
   "cell_type": "markdown",
   "id": "c41ac3ba-62e6-4de6-a1ce-104daa872994",
   "metadata": {},
   "source": [
    "Напишем сеть. На выходе берта добавляем несколько полносвязных слоёв для классификации. Дропауты закомментированы, т.к. их использование привело к падению точности на тесте. Пулинг выходов берта осуществлялся двумя способами: сначала по инструкции из описания sentence similarity моделей на *https://huggingface.co*, то есть выход паддинговых токенов занулялся и делался mean-pooling. Потом попробовал сделать cls-pooling, где берётся эмбеддинг cls-токена. В итоге cls-pooling оказался чуть лучше. В коде оставлена возможность выбора типа пулинга."
   ]
  },
  {
   "cell_type": "code",
   "execution_count": 17,
   "id": "fc16ed1c-418a-44fa-980d-d58d2c9f4cd6",
   "metadata": {},
   "outputs": [],
   "source": [
    "class Net(nn.Module):\n",
    "    def __init__(self, mean_pooling=True):\n",
    "        super().__init__()\n",
    "        self.mean_pooling = mean_pooling\n",
    "        self.bert = AutoModel.from_pretrained('DeepPavlov/rubert-base-cased')\n",
    "        self.classifier = nn.Sequential(nn.Linear(768, 256),\n",
    "                                        nn.ReLU(),\n",
    "                                        # nn.Dropout(0.25),\n",
    "                                        nn.Linear(256, 64),\n",
    "                                        nn.ReLU(),\n",
    "                                        # nn.Dropout(0.25),\n",
    "                                        nn.Linear(64, 3))\n",
    "    \n",
    "    def forward(self, x):\n",
    "        \n",
    "        output = self.bert(**x)\n",
    "        \n",
    "        if self.mean_pooling:\n",
    "            token_embeddings = output[0]\n",
    "            expanded_mask = x['attention_mask'].unsqueeze(-1).expand(token_embeddings.size()).float()\n",
    "            \n",
    "        # В инструкции в знаменателе дроби использована функция torch.clamp() для исключения \n",
    "        # возможности деления на ноль. Но это возможно только если весь текст состоит из  \n",
    "        # паддинга, то есть в нашем случае невозможно. Убрано, чтобы показать, что инструкция  \n",
    "        # была проработана, а не просто скопирована\n",
    "            x = torch.sum(token_embeddings * expanded_mask, dim=1) / expanded_mask.sum(dim=1)\n",
    "        else:\n",
    "        # cls-pooling:\n",
    "            x = output[0][:, 0]\n",
    "            \n",
    "        x = self.classifier(x)\n",
    "        return x"
   ]
  },
  {
   "cell_type": "markdown",
   "id": "4ec98482-b75b-4535-9d55-70992a7db023",
   "metadata": {},
   "source": [
    "Посмотрим на количество параметров:"
   ]
  },
  {
   "cell_type": "code",
   "execution_count": 18,
   "id": "0944fc0a-4272-47eb-ad18-18481479ad35",
   "metadata": {},
   "outputs": [
    {
     "data": {
      "text/plain": [
       "================================================================================\n",
       "Layer (type:depth-idx)                                  Param #\n",
       "================================================================================\n",
       "Net                                                     --\n",
       "├─BertModel: 1-1                                        --\n",
       "│    └─BertEmbeddings: 2-1                              --\n",
       "│    │    └─Embedding: 3-1                              91,812,096\n",
       "│    │    └─Embedding: 3-2                              393,216\n",
       "│    │    └─Embedding: 3-3                              1,536\n",
       "│    │    └─LayerNorm: 3-4                              1,536\n",
       "│    │    └─Dropout: 3-5                                --\n",
       "│    └─BertEncoder: 2-2                                 --\n",
       "│    │    └─ModuleList: 3-6                             85,054,464\n",
       "│    └─BertPooler: 2-3                                  --\n",
       "│    │    └─Linear: 3-7                                 590,592\n",
       "│    │    └─Tanh: 3-8                                   --\n",
       "├─Sequential: 1-2                                       --\n",
       "│    └─Linear: 2-4                                      196,864\n",
       "│    └─ReLU: 2-5                                        --\n",
       "│    └─Linear: 2-6                                      16,448\n",
       "│    └─ReLU: 2-7                                        --\n",
       "│    └─Linear: 2-8                                      195\n",
       "================================================================================\n",
       "Total params: 178,066,947\n",
       "Trainable params: 178,066,947\n",
       "Non-trainable params: 0\n",
       "================================================================================"
      ]
     },
     "execution_count": 18,
     "metadata": {},
     "output_type": "execute_result"
    }
   ],
   "source": [
    "summary(Net())"
   ]
  },
  {
   "cell_type": "markdown",
   "id": "cfc66cc4-ebe2-42d0-9b7a-7b0c9f1dfb4c",
   "metadata": {},
   "source": [
    "Напишем функцию для обучения. Обучать будем весь берт, кроме пулера - так как это показало лучший результат - а также наш классификатор. Возьмём разные значения скорости обучения для берта и классификатора, так как берт уже был обучен, и требуется небольшая корректировка его весов, а классификатор обучается с нуля. В целом, код обучения стандартный."
   ]
  },
  {
   "cell_type": "code",
   "execution_count": 19,
   "id": "061f4813-7029-4613-b8cd-11221c5d4657",
   "metadata": {},
   "outputs": [],
   "source": [
    "def train_nn(epochs=5, bert_lr=1e-6, dense_lr=1e-5, mean_pooling=True, return_model=False):\n",
    "    \n",
    "    torch.random.manual_seed(RANDOM_STATE)\n",
    "    torch.backends.cudnn.deterministic = True\n",
    "    torch.cuda.empty_cache()\n",
    "    \n",
    "    net = Net(mean_pooling=mean_pooling).to(device)\n",
    "    \n",
    "    for param in net.bert.pooler.parameters():\n",
    "        param.requires_grad = False\n",
    "    \n",
    "    param_groups = [\n",
    "                    # {'params': net.bert.parameters(), 'lr': bert_lr},\n",
    "                    {'params': net.bert.embeddings.parameters(), 'lr': bert_lr},\n",
    "                    {'params': net.bert.encoder.parameters(), 'lr': bert_lr},\n",
    "                    {'params': net.classifier.parameters(), 'lr': dense_lr}\n",
    "                   ]\n",
    "    optimizer = torch.optim.Adam(param_groups)\n",
    "    criterion = nn.CrossEntropyLoss()\n",
    "\n",
    "    for epoch in range(epochs):\n",
    "        train_losses = 0.\n",
    "        test_losses = 0.\n",
    "        train_metrics = 0.\n",
    "        test_metrics = 0.\n",
    "\n",
    "        for inputs, labels in train_loader:\n",
    "            net.train()\n",
    "            labels = labels.to(device)\n",
    "\n",
    "            optimizer.zero_grad()\n",
    "            outputs = net(inputs)\n",
    "            \n",
    "            loss = criterion(outputs, labels)\n",
    "            loss.backward()\n",
    "            optimizer.step()\n",
    "\n",
    "            train_losses += loss.item()\n",
    "\n",
    "            net.eval()\n",
    "            outputs = net(inputs)\n",
    "            \n",
    "            train_metrics += accuracy_score(labels.cpu(), torch.argmax(outputs, dim=-1).cpu())\n",
    "\n",
    "        print(f'Epoch [{epoch + 1}/{epochs}]. ' \\\n",
    "              f'Train Loss: {train_losses / len(train_loader):.3f}. ' \\\n",
    "              f'Train Accuracy: {train_metrics / len(train_loader):.3f}', end='. ')\n",
    "\n",
    "        with torch.inference_mode():\n",
    "            for inputs, labels in test_loader:\n",
    "\n",
    "                labels = labels.to(device)\n",
    "                outputs = net(inputs)\n",
    "\n",
    "                loss = criterion(outputs, labels)\n",
    "                test_losses += loss.item()\n",
    "                \n",
    "                test_metrics += accuracy_score(labels.cpu(), torch.argmax(outputs, dim=-1).cpu())\n",
    "\n",
    "        print(f'Test Loss: {test_losses / len(test_loader):.3f}. Test Accuracy: {test_metrics / len(test_loader):.3f}')\n",
    "\n",
    "    print('Training is finished!')\n",
    "    if return_model:\n",
    "        return net"
   ]
  },
  {
   "cell_type": "code",
   "execution_count": 20,
   "id": "f2d20673-1cb9-474b-9d06-f54592f81a9d",
   "metadata": {},
   "outputs": [
    {
     "name": "stdout",
     "output_type": "stream",
     "text": [
      "Epoch [1/20]. Train Loss: 1.040. Train Accuracy: 0.545. Test Loss: 0.987. Test Accuracy: 0.603\n",
      "Epoch [2/20]. Train Loss: 0.939. Train Accuracy: 0.620. Test Loss: 0.882. Test Accuracy: 0.634\n",
      "Epoch [3/20]. Train Loss: 0.827. Train Accuracy: 0.644. Test Loss: 0.783. Test Accuracy: 0.647\n",
      "Epoch [4/20]. Train Loss: 0.733. Train Accuracy: 0.658. Test Loss: 0.738. Test Accuracy: 0.654\n",
      "Epoch [5/20]. Train Loss: 0.682. Train Accuracy: 0.689. Test Loss: 0.731. Test Accuracy: 0.688\n",
      "Epoch [6/20]. Train Loss: 0.652. Train Accuracy: 0.727. Test Loss: 0.719. Test Accuracy: 0.702\n",
      "Epoch [7/20]. Train Loss: 0.620. Train Accuracy: 0.739. Test Loss: 0.710. Test Accuracy: 0.702\n",
      "Epoch [8/20]. Train Loss: 0.600. Train Accuracy: 0.751. Test Loss: 0.713. Test Accuracy: 0.696\n",
      "Epoch [9/20]. Train Loss: 0.586. Train Accuracy: 0.759. Test Loss: 0.716. Test Accuracy: 0.689\n",
      "Epoch [10/20]. Train Loss: 0.565. Train Accuracy: 0.769. Test Loss: 0.713. Test Accuracy: 0.700\n",
      "Epoch [11/20]. Train Loss: 0.550. Train Accuracy: 0.774. Test Loss: 0.715. Test Accuracy: 0.704\n",
      "Epoch [12/20]. Train Loss: 0.530. Train Accuracy: 0.786. Test Loss: 0.721. Test Accuracy: 0.696\n",
      "Epoch [13/20]. Train Loss: 0.529. Train Accuracy: 0.791. Test Loss: 0.725. Test Accuracy: 0.701\n",
      "Epoch [14/20]. Train Loss: 0.515. Train Accuracy: 0.801. Test Loss: 0.744. Test Accuracy: 0.690\n",
      "Epoch [15/20]. Train Loss: 0.498. Train Accuracy: 0.810. Test Loss: 0.730. Test Accuracy: 0.700\n",
      "Epoch [16/20]. Train Loss: 0.482. Train Accuracy: 0.817. Test Loss: 0.740. Test Accuracy: 0.699\n",
      "Epoch [17/20]. Train Loss: 0.472. Train Accuracy: 0.824. Test Loss: 0.750. Test Accuracy: 0.697\n",
      "Epoch [18/20]. Train Loss: 0.464. Train Accuracy: 0.832. Test Loss: 0.754. Test Accuracy: 0.697\n",
      "Epoch [19/20]. Train Loss: 0.451. Train Accuracy: 0.838. Test Loss: 0.755. Test Accuracy: 0.703\n",
      "Epoch [20/20]. Train Loss: 0.438. Train Accuracy: 0.845. Test Loss: 0.768. Test Accuracy: 0.701\n",
      "Training is finished!\n"
     ]
    }
   ],
   "source": [
    "train_nn(epochs=20, bert_lr=8e-7, dense_lr=1e-5, mean_pooling=False)"
   ]
  },
  {
   "cell_type": "markdown",
   "id": "b0122375-f1d1-420b-ac4a-1c60d2d7e333",
   "metadata": {},
   "source": [
    "Результат не получился впечатляющим: всего 70%. Возможно, что дело в маленьком размере датасета и в человеческом факторе при разметке текстов."
   ]
  }
 ],
 "metadata": {
  "kernelspec": {
   "display_name": "Python 3 (ipykernel)",
   "language": "python",
   "name": "python3"
  },
  "language_info": {
   "codemirror_mode": {
    "name": "ipython",
    "version": 3
   },
   "file_extension": ".py",
   "mimetype": "text/x-python",
   "name": "python",
   "nbconvert_exporter": "python",
   "pygments_lexer": "ipython3",
   "version": "3.9.13"
  }
 },
 "nbformat": 4,
 "nbformat_minor": 5
}
